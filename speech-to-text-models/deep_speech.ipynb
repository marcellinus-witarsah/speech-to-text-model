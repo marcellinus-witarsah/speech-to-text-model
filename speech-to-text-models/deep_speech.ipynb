{
  "nbformat": 4,
  "nbformat_minor": 0,
  "metadata": {
    "colab": {
      "provenance": [],
      "authorship_tag": "ABX9TyMqs7F2PJCz5Z5+tedX1xRC",
      "include_colab_link": true
    },
    "kernelspec": {
      "name": "python3",
      "display_name": "Python 3"
    },
    "language_info": {
      "name": "python"
    }
  },
  "cells": [
    {
      "cell_type": "markdown",
      "metadata": {
        "id": "view-in-github",
        "colab_type": "text"
      },
      "source": [
        "<a href=\"https://colab.research.google.com/github/marcellinus-witarsah/speech-to-text-model/blob/main/speech-to-text-models/deep_speech.ipynb\" target=\"_parent\"><img src=\"https://colab.research.google.com/assets/colab-badge.svg\" alt=\"Open In Colab\"/></a>"
      ]
    },
    {
      "cell_type": "markdown",
      "source": [
        "# Preparing Data Pipeline"
      ],
      "metadata": {
        "id": "rJ2uFm_ENWcA"
      }
    },
    {
      "cell_type": "markdown",
      "source": [
        "Train data from a subset of LibriSpeech, which is a corpus of read English speech data derived from audiobooks, comprising 100 hours of transcribed audio data. You can easily download this dataset using torchaudio:"
      ],
      "metadata": {
        "id": "VPs4QObsOB3w"
      }
    },
    {
      "cell_type": "code",
      "source": [
        "!pip install torchaudio torch"
      ],
      "metadata": {
        "id": "2R_8NrIWN2ov",
        "outputId": "151ff0d0-0aa5-40e4-e71c-a2ff93a47de2",
        "colab": {
          "base_uri": "https://localhost:8080/"
        }
      },
      "execution_count": 34,
      "outputs": [
        {
          "output_type": "stream",
          "name": "stdout",
          "text": [
            "Looking in indexes: https://pypi.org/simple, https://us-python.pkg.dev/colab-wheels/public/simple/\n",
            "Requirement already satisfied: torchaudio in /usr/local/lib/python3.8/dist-packages (0.13.0+cu116)\n",
            "Requirement already satisfied: torch in /usr/local/lib/python3.8/dist-packages (1.13.0+cu116)\n",
            "Requirement already satisfied: typing-extensions in /usr/local/lib/python3.8/dist-packages (from torch) (4.4.0)\n"
          ]
        }
      ]
    },
    {
      "cell_type": "code",
      "source": [
        "import torchaudio\n",
        "from torch import nn\n",
        "\n",
        "train_dataset = torchaudio.datasets.LIBRISPEECH(\"./\", url=\"train-clean-100\", download=True)\n",
        "test_dataset = torchaudio.datasets.LIBRISPEECH(\"./\", url=\"test-clean\", download=True)\n"
      ],
      "metadata": {
        "id": "bSpkVmhrN6ZD"
      },
      "execution_count": 36,
      "outputs": []
    },
    {
      "cell_type": "markdown",
      "source": [
        "# Data Augmentation\n",
        "Data augmentation for speech recognition is needed to mitigate overfitting while training and at the same time increasy the variety of the dataset. For speech recognition, we can change the pitch, speed, injecting noise, and adding reverb to your audio data.\n",
        "\n",
        "We found **Spectrogram Augmentation** (SpecAugment), to be a much **simpler and more effective approach**. SpecAugment, was first introduced in the paper SpecAugment: A Simple Data Augmentation Method for Automatic Speech Recognition, in which the authors found that simply cutting out random blocks of consecutive time and frequency dimensions improved the models generalization abilities significantly!\n",
        "\n",
        "for frequency masking and time masking we can use:\n",
        "\n",
        "`torchaudio.transforms.FrequencyMasking()`\n",
        "\n",
        "`torchaudio.transforms.TimeMasking()`\n"
      ],
      "metadata": {
        "id": "qYyJxIvHOZPQ"
      }
    },
    {
      "cell_type": "code",
      "source": [
        "# create a pair of character that matches with the label\n",
        "char_map_str = \"\"\"\n",
        " ' 0\n",
        " <SPACE> 1\n",
        " a 2\n",
        " b 3\n",
        " c 4\n",
        " d 5\n",
        " e 6\n",
        " f 7\n",
        " g 8\n",
        " h 9\n",
        " i 10\n",
        " j 11\n",
        " k 12\n",
        " l 13\n",
        " m 14\n",
        " n 15\n",
        " o 16\n",
        " p 17\n",
        " q 18\n",
        " r 19\n",
        " s 20\n",
        " t 21\n",
        " u 22\n",
        " v 23\n",
        " w 24\n",
        " x 25\n",
        " y 26\n",
        " z 27\n",
        " \"\"\"\n"
      ],
      "metadata": {
        "id": "BtTfBDwyN-ni"
      },
      "execution_count": 17,
      "outputs": []
    },
    {
      "cell_type": "code",
      "source": [
        "# create a class that for text transformation\n",
        "class TextTransform():\n",
        "    \"\"\"Maps charcacters to integers and vice versa\"\"\"\n",
        "    def __init__(self):\n",
        "        self.char_map = {}\n",
        "        self.index_map = {}\n",
        "        for line in char_map_str.strip().split('\\n'):\n",
        "            char, index = line.strip().split()\n",
        "            self.char_map[char] = int(index)\n",
        "            self.index_map[int(index)] = char\n",
        "        self.index_map[1] = ' '\n",
        "\n",
        "    def text_to_int(self, text):\n",
        "        \"\"\"Use character as index to map to an integer (label)\n",
        "        :param text: text consists characters of strings\n",
        "        :type text: str\n",
        "        \"\"\"\n",
        "        int_sequence = []\n",
        "        for c in text:\n",
        "            if c == ' ':\n",
        "                ch = self.char_map['<SPACE>']\n",
        "            else:\n",
        "                ch = self.char_map[c]\n",
        "            int_sequence.append(ch)\n",
        "        return int_sequence\n",
        "    def int_to_text(self, labels):\n",
        "        \"\"\"Use labels as index to map to a character (label)\n",
        "        :param labels: array containing labels that will be mapped to character\n",
        "        :type labels: array of int\n",
        "        \"\"\"\n",
        "        string = []\n",
        "        for i in labels:\n",
        "            string.append(self.index_map[i])\n",
        "        return ''.join(string)"
      ],
      "metadata": {
        "id": "4Lx2cDq-QTdl"
      },
      "execution_count": 30,
      "outputs": []
    },
    {
      "cell_type": "code",
      "source": [],
      "metadata": {
        "id": "2GKTLXa_0hIT"
      },
      "execution_count": null,
      "outputs": []
    }
  ]
}