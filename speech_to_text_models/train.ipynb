{
 "cells": [
  {
   "cell_type": "markdown",
   "id": "c0507b9e",
   "metadata": {},
   "source": [
    "# Create a CNN Audio Model\n",
    "1. Import data\n",
    "2. Data Preprocessing: convert data into a `spectogram`\n",
    "3. Data Splitting: split data into train, dev, and test sets\n",
    "4. Create Model\n",
    "5. Train Model\n",
    "6. Evaluate Results"
   ]
  },
  {
   "cell_type": "code",
   "execution_count": null,
   "id": "eb5f5024",
   "metadata": {},
   "outputs": [],
   "source": []
  }
 ],
 "metadata": {
  "kernelspec": {
   "display_name": "speech-recognition (ipykernel)",
   "language": "python",
   "name": "speech-reocgnition"
  },
  "language_info": {
   "codemirror_mode": {
    "name": "ipython",
    "version": 3
   },
   "file_extension": ".py",
   "mimetype": "text/x-python",
   "name": "python",
   "nbconvert_exporter": "python",
   "pygments_lexer": "ipython3",
   "version": "3.8.0"
  }
 },
 "nbformat": 4,
 "nbformat_minor": 5
}
