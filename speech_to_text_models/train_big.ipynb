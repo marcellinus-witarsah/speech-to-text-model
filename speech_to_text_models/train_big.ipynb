{
  "cells": [
    {
      "cell_type": "markdown",
      "metadata": {
        "id": "view-in-github",
        "colab_type": "text"
      },
      "source": [
        "<a href=\"https://colab.research.google.com/github/marcellinus-witarsah/speech-to-text-model/blob/main/speech_to_text_models/train_big.ipynb\" target=\"_parent\"><img src=\"https://colab.research.google.com/assets/colab-badge.svg\" alt=\"Open In Colab\"/></a>"
      ]
    },
    {
      "cell_type": "markdown",
      "id": "bbb0cc76",
      "metadata": {
        "id": "bbb0cc76"
      },
      "source": [
        "# Steps\n",
        "1. Import data\n",
        "2. Data Preprocessing: convert data into a `spectogram`\n",
        "3. Data Splitting: split data into train, dev, and test sets\n",
        "4. Create Model\n",
        "5. Train Model\n",
        "6. Evaluate Results\n",
        "\n",
        "## Libraries\n",
        "1. Librosa: Python package for music and audio analysis"
      ]
    },
    {
      "cell_type": "code",
      "source": [
        "# Libraries\n",
        "# !pip install --upgrade tensorflow tensorflow_datasets\n",
        "!pip install pydub"
      ],
      "metadata": {
        "colab": {
          "base_uri": "https://localhost:8080/"
        },
        "id": "TnBJXnCgLqJ7",
        "outputId": "047a3089-bd4e-44f4-b5ff-034160540773"
      },
      "id": "TnBJXnCgLqJ7",
      "execution_count": 2,
      "outputs": [
        {
          "output_type": "stream",
          "name": "stdout",
          "text": [
            "Looking in indexes: https://pypi.org/simple, https://us-python.pkg.dev/colab-wheels/public/simple/\n",
            "Collecting pydub\n",
            "  Downloading pydub-0.25.1-py2.py3-none-any.whl (32 kB)\n",
            "Installing collected packages: pydub\n",
            "Successfully installed pydub-0.25.1\n"
          ]
        }
      ]
    },
    {
      "cell_type": "code",
      "execution_count": 3,
      "id": "338d2a5d",
      "metadata": {
        "id": "338d2a5d"
      },
      "outputs": [],
      "source": [
        "import os\n",
        "import pathlib\n",
        "\n",
        "import matplotlib.pyplot as plt\n",
        "import numpy as np\n",
        "import seaborn as sns\n",
        "import tensorflow as tf\n",
        "import tensorflow_datasets as tfds\n",
        "from sklearn.metrics import classification_report\n",
        "\n",
        "from tensorflow.keras import layers\n",
        "from tensorflow.keras import models\n",
        "from IPython import display\n",
        "\n",
        "# Set the seed value for experiment reproducibility.\n",
        "seed = 42\n",
        "tf.random.set_seed(seed)\n",
        "np.random.seed(seed)"
      ]
    },
    {
      "cell_type": "markdown",
      "source": [
        "## Import Data"
      ],
      "metadata": {
        "id": "zMmYjNCXLgJm"
      },
      "id": "zMmYjNCXLgJm"
    },
    {
      "cell_type": "code",
      "source": [
        "# Using bigger data\n",
        "ds, ds_info = tfds.load('speech_commands', as_supervised=True, with_info=True)"
      ],
      "metadata": {
        "colab": {
          "base_uri": "https://localhost:8080/",
          "height": 136,
          "referenced_widgets": [
            "5d4541be917c453589ba6e8eda443d2a",
            "4d5104bc8a184f4391494fa553aa4cc5",
            "674a60206a6344858b6e621eb6ddf751",
            "0cf5b3702fc24374ad574f51af30c7f3",
            "6e69c5a964e34a2b8f25385b9471d4c5",
            "ba1377f735ce444bbfe501ec52650f3a",
            "b10c952561e34800b5f65275fb20238b",
            "b6bc1260af1e4fb3abed46ffc2fd39a6",
            "0057ec2031464dcd81712a5b682c71ab",
            "d54af94835f64293aa923ffef97a47b0",
            "92034a94afa948fdbba06ef26e220136",
            "6ea5b115d9ef4b75a911f9e0756fdb86",
            "d3fe8a253d504a5d83a55ec96053d847",
            "e26157a270004564b6f7578f09570ba2",
            "2ac3ad35c68442e784ffb8343a622a76",
            "045c91a26e394dd385ea32c77dbcafd1",
            "67fefb3edcf84291b907356966c581f6",
            "37ef141fbbba4ccdbafc27bd7f10edc2",
            "f4fabcfbc4734bce9d43ef4ef15a6f68",
            "3aafba617acd44cfa4df25259a0074b8",
            "acb65c6f427642ddbfa5c1aea3b05326",
            "a5ac8e0c124047bd97e345e8ba04a5c2",
            "a7527155a5cc48caa30780ff8274854d",
            "202257fba4c24f9ca3ebdbea3ef5f252",
            "0c49d142299b4004aad574e72ded96c8",
            "07d6dd3ddccf441b8a361725e6e47c8f",
            "a84deac8642240d5b288d5111fcfb53a",
            "070cfd2815704c62868495505d1b37d4",
            "bec5f3c5a68c420bb9dc0f434690be31",
            "75e73b26561b42aa96bf51fe88d4f2a1",
            "49a016a8608348ccac8557cdaf9452de",
            "12d3938bc9384b6095e0e5bdfcddadfd",
            "7c49915ca0f849ec98b2055c8e3c210a",
            "0aa60c2c4da44c51a815738963ac7df8",
            "6e516ab3bfd84c0f9da8abbae9a987c5",
            "2e8d6090e36543408eb17b5459915f24",
            "0c65488a457c4f559cd416182e3b4f5e",
            "55e203ac92ef4ee1b4eb04eb0a72e5dd",
            "beb7700792074e62b1bbc975d6d33023",
            "67741f5dc6e545cd9fd4affe220507dc",
            "7131a944d230489a9cfb79488464d7a0",
            "db94469f0a864c628dd1ef7b2d4e9f43",
            "d4f4198f2df04452ad422ef23c7ea837",
            "ce6c79b9f8224a9482305cb0ebe9bdb1",
            "bd39029de8364adcb96dc92c9af7a905",
            "03af3008395f44c889034cb5620774b2",
            "cb5924a309674f2189ca505d79b33795",
            "f92e6a6ac2874a5da2a9add77e9de7ee",
            "f829385d710248478a83c77d28a39dda",
            "4c243dfd21bc43119b84eece45290e9f",
            "2d3d827b5bc94e60bddf9cfc8da4ce06",
            "c1bd0f59528c49788c8ed9e444c8557f",
            "c76439769d9d4c0b8a47b27c761ee90b",
            "cf14c123843b415c985bc6b0466fd81a",
            "e352c1affb1c4a1fba44f18f23d812a7",
            "d46301b2bf9c4688becba5d5407bf684",
            "c9a8ea7dcf2e48569ba04e57fd02e347",
            "8ffd85a7991945bf87bf11b1468d3827",
            "cc44927b01b240df8922600619005fd7",
            "550d4801b871496faf4aba1d4ed21627",
            "fb524c518dfb4119b2aa627cbde4589f",
            "b2563c20b4454c54bf8c1d221d66189e",
            "12512a1282d34e6492ea7d3c365e5d14",
            "97195ec6e9d941ffb727d5af05cd1f49",
            "41f83a4977d84767b8e90bda1858a27f",
            "9a585d0741bc4401ad7545aeb0006301",
            "1120578e797247dc82f0cf2ba647f207",
            "a645199e01e84d6ca33b1ff4d3ee6300",
            "8f7b03db20e540ff8d93318f016a2125",
            "8252d1e7a50b4fa4a128852040763beb",
            "382e340a683a40a8bd05b4c9b24050f1",
            "ae83e3115e6f4440b0d19169ecc8cc44",
            "613d2535dc13448fb59f637b1e1a52fc",
            "45abb8e9dbb94abc89a9627dc59c6684",
            "457a290a37d84762a1915c82c25100dc",
            "eddf6151b78c46b6b6c4c79ac0589ece",
            "cfd4863a0b914ec8b178f4ac86b0f66f",
            "a673bffbede143f2a901ac6c3cb7afe1",
            "6e22f9bec346447c85d5d061c6639422",
            "ee07dc3b1344440b9d8a200abbe112d6",
            "424cc288c8674ef394d7e449e7ad8147",
            "27b188a2331d4a9580c4b2964da111fc",
            "8dd792d625584c78853fa141730c1e48",
            "bde7b5a6575e4447b16380d042a600db",
            "7ed560a798694a6c8775d944dccc49fa",
            "18df8551dc784d828778fb17b8c8e7ad",
            "e6dc432611544fa191cd7544f709b81f",
            "4bcdc76e59e54b3b8aa3457c496d2d78",
            "989ad0f1702d405e9272079be9a6deae",
            "87e715630f19451ba2fdcb2248766743",
            "206791b746584a8abcb71f868b1b65e6",
            "6bd8d8bca06545bb8fff5e3d45108ef9",
            "881a139fbb7f47fab4128b3d8202adb6",
            "03f1bfd2316844e186bb6b6c67d36eae",
            "996669373e4a4cf9b90b2a03f52bc6e6",
            "b7b297afa9f24bdca4d3a51152335738",
            "edd3e605807740d1b37ae9f18557e1b6",
            "257b96c2c2c74079805e65cba1e5f7c4",
            "4300b08143094eb78282c4ebae4dc1b4"
          ]
        },
        "id": "cdU5m_o0Li5l",
        "outputId": "a593a5ed-dd99-41d6-be0b-74311d9df348"
      },
      "id": "cdU5m_o0Li5l",
      "execution_count": 4,
      "outputs": [
        {
          "output_type": "stream",
          "name": "stdout",
          "text": [
            "Downloading and preparing dataset 2.37 GiB (download: 2.37 GiB, generated: 8.17 GiB, total: 10.53 GiB) to ~/tensorflow_datasets/speech_commands/0.0.2...\n"
          ]
        },
        {
          "output_type": "display_data",
          "data": {
            "text/plain": [
              "Dl Completed...: 0 url [00:00, ? url/s]"
            ],
            "application/vnd.jupyter.widget-view+json": {
              "version_major": 2,
              "version_minor": 0,
              "model_id": "5d4541be917c453589ba6e8eda443d2a"
            }
          },
          "metadata": {}
        },
        {
          "output_type": "display_data",
          "data": {
            "text/plain": [
              "Dl Size...: 0 MiB [00:00, ? MiB/s]"
            ],
            "application/vnd.jupyter.widget-view+json": {
              "version_major": 2,
              "version_minor": 0,
              "model_id": "6ea5b115d9ef4b75a911f9e0756fdb86"
            }
          },
          "metadata": {}
        },
        {
          "output_type": "display_data",
          "data": {
            "text/plain": [
              "Generating splits...:   0%|          | 0/3 [00:00<?, ? splits/s]"
            ],
            "application/vnd.jupyter.widget-view+json": {
              "version_major": 2,
              "version_minor": 0,
              "model_id": "a7527155a5cc48caa30780ff8274854d"
            }
          },
          "metadata": {}
        },
        {
          "output_type": "display_data",
          "data": {
            "text/plain": [
              "Generating train examples...:   0%|          | 0/85511 [00:00<?, ? examples/s]"
            ],
            "application/vnd.jupyter.widget-view+json": {
              "version_major": 2,
              "version_minor": 0,
              "model_id": "0aa60c2c4da44c51a815738963ac7df8"
            }
          },
          "metadata": {}
        },
        {
          "output_type": "display_data",
          "data": {
            "text/plain": [
              "Shuffling ~/tensorflow_datasets/speech_commands/0.0.2.incompleteC5VBXR/speech_commands-train.tfrecord*...:   0…"
            ],
            "application/vnd.jupyter.widget-view+json": {
              "version_major": 2,
              "version_minor": 0,
              "model_id": "bd39029de8364adcb96dc92c9af7a905"
            }
          },
          "metadata": {}
        },
        {
          "output_type": "display_data",
          "data": {
            "text/plain": [
              "Generating validation examples...:   0%|          | 0/10102 [00:00<?, ? examples/s]"
            ],
            "application/vnd.jupyter.widget-view+json": {
              "version_major": 2,
              "version_minor": 0,
              "model_id": "d46301b2bf9c4688becba5d5407bf684"
            }
          },
          "metadata": {}
        },
        {
          "output_type": "display_data",
          "data": {
            "text/plain": [
              "Shuffling ~/tensorflow_datasets/speech_commands/0.0.2.incompleteC5VBXR/speech_commands-validation.tfrecord*...…"
            ],
            "application/vnd.jupyter.widget-view+json": {
              "version_major": 2,
              "version_minor": 0,
              "model_id": "1120578e797247dc82f0cf2ba647f207"
            }
          },
          "metadata": {}
        },
        {
          "output_type": "display_data",
          "data": {
            "text/plain": [
              "Generating test examples...:   0%|          | 0/4890 [00:00<?, ? examples/s]"
            ],
            "application/vnd.jupyter.widget-view+json": {
              "version_major": 2,
              "version_minor": 0,
              "model_id": "a673bffbede143f2a901ac6c3cb7afe1"
            }
          },
          "metadata": {}
        },
        {
          "output_type": "display_data",
          "data": {
            "text/plain": [
              "Shuffling ~/tensorflow_datasets/speech_commands/0.0.2.incompleteC5VBXR/speech_commands-test.tfrecord*...:   0%…"
            ],
            "application/vnd.jupyter.widget-view+json": {
              "version_major": 2,
              "version_minor": 0,
              "model_id": "989ad0f1702d405e9272079be9a6deae"
            }
          },
          "metadata": {}
        },
        {
          "output_type": "stream",
          "name": "stdout",
          "text": [
            "Dataset speech_commands downloaded and prepared to ~/tensorflow_datasets/speech_commands/0.0.2. Subsequent calls will reuse this data.\n"
          ]
        }
      ]
    },
    {
      "cell_type": "markdown",
      "id": "06fd3e69",
      "metadata": {
        "id": "06fd3e69"
      },
      "source": [
        "## Check Data"
      ]
    },
    {
      "cell_type": "code",
      "source": [
        "ds_info.features['label'].names"
      ],
      "metadata": {
        "colab": {
          "base_uri": "https://localhost:8080/"
        },
        "id": "1mGzV0TagjWX",
        "outputId": "ad0440a0-6074-425a-9202-56263cf1dca9"
      },
      "id": "1mGzV0TagjWX",
      "execution_count": 7,
      "outputs": [
        {
          "output_type": "execute_result",
          "data": {
            "text/plain": [
              "['down',\n",
              " 'go',\n",
              " 'left',\n",
              " 'no',\n",
              " 'off',\n",
              " 'on',\n",
              " 'right',\n",
              " 'stop',\n",
              " 'up',\n",
              " 'yes',\n",
              " '_silence_',\n",
              " '_unknown_']"
            ]
          },
          "metadata": {},
          "execution_count": 7
        }
      ]
    },
    {
      "cell_type": "code",
      "execution_count": 8,
      "id": "e70ba547",
      "metadata": {
        "colab": {
          "base_uri": "https://localhost:8080/"
        },
        "id": "e70ba547",
        "outputId": "b84367cc-3747-4f29-8ab0-ceda03ca55bb"
      },
      "outputs": [
        {
          "output_type": "stream",
          "name": "stdout",
          "text": [
            "Commands: ['down' 'go' 'left' 'no' 'off' 'on' 'right' 'stop' 'up' 'yes' '_silence_'\n",
            " '_unknown_']\n"
          ]
        }
      ],
      "source": [
        "commands = np.array(ds_info.features['label'].names)\n",
        "print('Commands:', commands)"
      ]
    },
    {
      "cell_type": "markdown",
      "id": "f05eb053",
      "metadata": {
        "id": "f05eb053"
      },
      "source": [
        "## Data Splitting\n",
        "Using `tf.keras.utils.audio_dataset_from_directory` which do the heavy lifting for us in splitting the data. The output function will be a `tf.data.Dataset` based on the audio files where we can implement parallellization, prefecthing and caching for faster training.\n",
        "\n",
        "The arguments that we need to provide are:\n",
        "1. Batch size\n",
        "2. Validation split\n",
        "3. Output sequence length: maximum length of audio sequence. If not being set then all audio files will be set to the longest audio sequence and will be zero padded.\n",
        "4. Subset : subset of data return whether it is 'training', 'validation', and 'both'. 'both' can be run if **validation_split** parameter is set to **True**"
      ]
    },
    {
      "cell_type": "code",
      "execution_count": 9,
      "id": "91abf396",
      "metadata": {
        "id": "91abf396",
        "colab": {
          "base_uri": "https://localhost:8080/"
        },
        "outputId": "805f5591-6d32-4dc6-bb08-0fcf1141ce5f"
      },
      "outputs": [
        {
          "output_type": "stream",
          "name": "stdout",
          "text": [
            "\n",
            "down: 0\n",
            "go: 1\n",
            "left: 2\n",
            "no: 3\n",
            "off: 4\n",
            "on: 5\n",
            "right: 6\n",
            "stop: 7\n",
            "up: 8\n",
            "yes: 9\n",
            "_silence_: 10\n",
            "_unknown_: 11\n"
          ]
        }
      ],
      "source": [
        "ds_train, ds_val, ds_test = ds['train'], ds['validation'], ds['test']\n",
        "class_names = np.array(ds_info.features['label'].names)\n",
        "print()\n",
        "for name, label in zip(class_names, np.array(range(len(class_names)))):\n",
        "    print(\"{}: {}\".format(name, label))"
      ]
    },
    {
      "cell_type": "markdown",
      "id": "b8f62c09",
      "metadata": {
        "id": "b8f62c09"
      },
      "source": [
        "Since the dataset only contains only a single channels then we can delete the last axis"
      ]
    },
    {
      "cell_type": "markdown",
      "id": "d4c6a8da",
      "metadata": {
        "id": "d4c6a8da"
      },
      "source": [
        "## Visualize Data"
      ]
    },
    {
      "cell_type": "code",
      "execution_count": 17,
      "id": "d1b041e4",
      "metadata": {
        "id": "d1b041e4",
        "colab": {
          "base_uri": "https://localhost:8080/",
          "height": 569
        },
        "outputId": "264db525-30b0-4ea9-d03f-4f181f5a8d1c"
      },
      "outputs": [
        {
          "output_type": "display_data",
          "data": {
            "text/plain": [
              "<Figure size 1296x864 with 9 Axes>"
            ],
            "image/png": "[encoded data removed]"
          },
          "metadata": {
            "needs_background": "light"
          }
        }
      ],
      "source": [
        "rows = 3\n",
        "cols = 3\n",
        "n = rows * cols\n",
        "fig, axes = plt.subplots(rows, cols, figsize=(18, 12))\n",
        "\n",
        "for i, example  in enumerate(ds_train.take(9)):\n",
        "    if i>=n:\n",
        "        break\n",
        "    r = i // cols\n",
        "    c = i % cols\n",
        "    ax = axes[r][c]\n",
        "    ax.plot(example[0].numpy()/32768.0)\n",
        "    ax.set_yticks(np.arange(-1.2, 1.2, 0.2))\n",
        "    label = class_names[example[1]]\n",
        "    ax.set_title(label)\n",
        "    ax.set_ylim([-1.1,1.1])\n",
        "\n",
        "plt.show()"
      ]
    },
    {
      "cell_type": "markdown",
      "id": "105e59ce",
      "metadata": {
        "id": "105e59ce"
      },
      "source": [
        "## Data Preprocessing\n",
        "Converting waveforms to **spectograms** (x-axis=time, y-axis=frequency) using **short-time Fourier transform (STFT)**. **Spectograms** which show frequency changes over time and can be represented as 2D images. This spectogram is what will be feed to the neural network model.\n",
        "\n",
        "A **Fourier transform** (tf.signal.fft) and **STFT** (tf.signal.stft) both converts a signal to its component **frequencies**. The difference is a **Fourier Transform** loses all time information but the **STFT** (**divide the waveforms into multiple windows of time and runs a Fourier Transform** on it) preserving some time information, and returning a 2D tensor that you can run standard convolutions on.\n",
        "![image.png](https://github.com/marcellinus-witarsah/speech-to-text-model/blob/main/images/spectogram.png?raw=1)"
      ]
    },
    {
      "cell_type": "markdown",
      "id": "db17d861",
      "metadata": {
        "id": "db17d861"
      },
      "source": [
        "Create a utility function for converting waveforms to spectograms:\n",
        "1. The waveforms need to be the same length because we want the same length spectogram. If one of the audio waveform length is shorter than the longest length in the data, then it will be padded by 0 filling the remaining length.\n",
        "2. When calling `tf.signal.stft`, choose the `frame_length` and `frame_step` parameters such that the generated spectrogram \"image\" is almost square. For more information on the STFT parameters choice.\n",
        "3. The STFT produces an array of complex numbers representing magnitude and phase. However, in this tutorial you'll only use the magnitude, which you can derive by applying `tf.abs` on the output of `tf.signal.stft`."
      ]
    },
    {
      "cell_type": "code",
      "execution_count": 13,
      "id": "a01a924d",
      "metadata": {
        "id": "a01a924d"
      },
      "outputs": [],
      "source": [
        "def get_spectrogram(waveform):\n",
        "    spectrogram = tf.signal.stft(\n",
        "        waveform, frame_length=255, frame_step=128,\n",
        "    )\n",
        "    spectrogram=tf.abs(spectrogram)\n",
        "    spectrogram=spectrogram[..., tf.newaxis]\n",
        "    return spectrogram\n",
        "\n",
        "# def get_spectrogram(waveform):\n",
        "#     spectrogram = tf.audio.spectrogram(\n",
        "#         waveform, frame_length=255, frame_step=128,\n",
        "#     )\n",
        "#     spectrogram=tf.abs(spectrogram)\n",
        "#     spectrogram=spectrogram[..., tf.newaxis]\n",
        "#     return spectrogram"
      ]
    },
    {
      "cell_type": "code",
      "execution_count": 23,
      "id": "6cce2e11",
      "metadata": {
        "id": "6cce2e11",
        "colab": {
          "base_uri": "https://localhost:8080/",
          "height": 399
        },
        "outputId": "2d0ee5d5-9a97-4976-cc0f-e986ce9e5981"
      },
      "outputs": [
        {
          "output_type": "stream",
          "name": "stdout",
          "text": [
            "Label: off\n",
            "Waveform shape: (16000,)\n",
            "Spectrogram shape: (124, 129, 1)\n",
            "Audio playback\n"
          ]
        },
        {
          "output_type": "display_data",
          "data": {
            "text/plain": [
              "<IPython.lib.display.Audio object>"
            ],
            "text/html": [
              "\n",
              "                <audio  controls=\"controls\" >\n",
              "                    <source src=\"data:audio/wav;base64,UklGRiR9AABXQVZFZm10IBAAAAABAAEAgD4AAAB9AAACABAAZGF0YQB9AADo/+P/7f/f/93/6//f/93/6//8/wkA9P/b/9X/5f/6/+P/2P/r/9v/3//9//j/8P/g/9//6//t////AAABAAsAAAABAAsAFQAhAAwABgAYAA4AFgAdABUAGAAVABUAHQAeABsAGwATABkAEwAEABgAFQAWABkAAwAIAAYABgAWAAwAGAAIAAAAEADy////AAD8/xkAAQAAAAMA7f/9//z/8v8VAAsA+P8BANX/9//v/73/SAATAPL/KACh/xsAKgDV/0AA0v/l//f/sP9FADYAFQAlANj/CAARAAgAKwD8/xsAFgDf/yEAEQAEACAA5/8TABAA6v8YAOD/+v8bANX/CADv/9L/EwDt////AwDd/xgA9f/g/xUA3f/w//j/wf8bAAMA4P8JANX/CQAMAOD/KAAGAPX/EAD0/xMAFgD4//r/8v8RABAA7f8BAAEAEQAdAOr//P8JAAAADADr/wEAHgAAAAwADgAGAAkA5f/o//T/7f8OAP//8v////D/AwAJAP//EwAYABYAEAD6/wsADAABABEAAwAAAAQA/P8IAAsABAD9//r/AQABAP//AwAEAAkAHQAQAPz/DgAQABAAFQD8/xAADAD3/w4AAwATAAwA9/8QAA4AKwAgAPz/EAADAPj/BgD9/wgAAADv/xUACQDy/+f/u//b//X/7f/1/9v/9f8QAAMABADy//L/AQADABUAHgAIAOD/AAAhACYAJQDl/+r////9/zUAEAAJABkAyP/8/z8AHQAhAO3/1v8lACgAPQAjAMv/9P8EACAASgAQAAEACAAVACMACQAtACMACQAjAB0ADADG/9j/TQCJAHkA1f9k/8j/MwB+AGoA4/+o/4//0/+BAJYAMgCO/xD/l/9QAIQAUAC1/3L/uf/3/0oAQwDN/5H/av+1/1AAQgD//7P/hv/t/ysALgD9/6H/u//n/x4AOAD1//D/1v/i/yEA8v/i/7j/l////wwAAADo/6b/0//4/wgAEwDb/8r/2v/r/x0AFgDg/9P/1v/8/wwA6P/f/+j/7/8WABYA7f/w/9P/2/8GAP3/CwDg/7j/6/8LACgALgDw/9j/6v/6/xYAFQAEAPL/3f/6/xYAIwAOAOL/7f/0//T/AQD6/wwACADv/wMA+P/r/+X/1f/6/+r/1f////L/AwAJAO//FgD8/93/9//8/yEAKgATADgAGwD1/xgAHQAtADMAAAAGADAAPwBHAC4AKAArAAYAGwBFADMAMAAZABYARwBAAC0AIwALABUAIwAtAEgAMwAWABMAKwA/ACgAHgAEAAwAKwAVADMAQwAVAPr//P8zADIA8P8QAPL/AQBXAO//9P8yAPX/+P/r/yoATQDW/+3/FQAZAFcABgDr/xUA6/8GAA4AHQAwAOj/AAAmAAwAJgABANj/9f/y/wgADAABAA4A7//4/xgA9P/y//3/4v/j/+v/9//8//3/EAD///r/9f/a/+//9P/r//T/2//n//f/6//w/+D/3//3//z//P/y/+X/7//y//j/9f/y/xAA+P/y/xsAAwDr//z/+v8LAAsA8v8DAPz/7//9//T/EwAOAMX/4/8OAO//6P/t//T/6//V/wEA/P/Q/+X/0v/i/wYA9P/v/9v/5f///93/6//o/8r/4v/g/+3//f/t/+P/yP/Y////9P/g/9L/1v/0/+P/1f/i/+L/4v/Q/+L/9//a/9X/5f/t//z/7f/V//z/BADr/+r/4v8EAAAA1f/y/+r/5//t/8P/6//3/9D/6v/j/+3/6v/D/+f/9f/w//r/6/8DAAkA4P/l/wAA9P/1//r/9f8EAAAAAAD9/wEAAADb/+v/6v/T/wwALQAmAPL/qf8IAC4AEAAAAMj/VQAmAJT/JgBaADoAzf+R/zgAbQAeANv/sP8qAFcAsP8ZAIEACADd/7v/LQByAAsADADw/wQAXAAVAAwAOgD///3/AwAdAEUA/f/3/////P8dAAsAEwAhAPD/8v8hACgALQD9/+X///8LADAAFQAWACAA9/8MAC0ALgAQAAAABgARACUAIAD4/wEAPwATAPr/MgAoAPr/6/8gADgAJQAIAOD/GABQAAkAxf8OAEsABADf//j/JQAmAPD/5f8gAFUADgC5/wAAUAAqAPL/9P8mABsA3//y/zgAQgD//9b/EABDAB4A+P/3/xgAJgD4/wQAMgAyAAMA6v8lADUAEwATACsAKwAIAPr/DgAlACMA///o//z/CwD1/+P/9//1/93/6/////j/8v8DAAwA9P/w//3/EwAYAPj/8P/9/wYA9P/n//D/9//3/93/0//i/+//7f/a/9D/xf/I/9r/y//a/wQA/P/V/9v/9f/0/+j/4P/9/wkA6v/i/+v////9/9L/4P/1/+//6//Y//j/DADj/+r/9//8/wwA/f/8//L/9P8LAAQADgALAPD/9P/8//D/9P8EAPz/7f/j//X/+v/j//T/5f/g//L/5f/r/+P/3f/4/wMA7f/i/+v/+P8AAP//DAD4/+j/AwD//w4AEwADABEAEwAgACMAFQAYAA4AEwAVAAMACQAGAPz/8P/8/yEAGAD//wsAKwAuABEACAARABAACAAbACYAHgAVAAsAJQAoAB0AIwAQAAAAAwAWAC0AGwAGAP3/BAAoABkACAAmACAAGwAqAC0AQgAwABgAJgAyADsAMgAgACEAGwAQABgAGQAVABUADgAWAAYAAQAIAPT//f/8////EAAAAPT/4P8BACUAEAAMAAgABAAMAA4AGAATAAgAAQD3/wMA///t//j/AwAAAPr/AQAEAPj/8v/6/wgA/f////T/7/8DAPz/+P/8////BAD0//L/EQAgAAgA8v8JACMAHgAJAAEAGAAjAA4ABgARAA4A///v/wAADAD3/+X/2//q//r/4//Y/+v/8v/r/9//4v/0//3/CAABAAMAEAADAAYACQAJAAsA+v8AAAkABgALABAAFgATABgAIAAYABYAEQAQAAsAAwAAAPz///8DAP3/AQAGAPr/6v/o/+j/5//w/9b/yv/j/wQAEADq/+j/9P///wQA/f8GAPf/2//Q/9v/8v/y/+D/0//j/+v/5//g/+D/8P/o/+r/8v/r/+3/7f/3/wEA9f/y//f/9/8LAAAAAAAIAOD/0P/a/+v/6P/i/9v/1f/g/9v/2v/T/+L/9//o/9//5f/v/+f/7f8GAAwA///0/+v/9/8DAPf/8v/r//T/AAD///3/9//1//j/CwARAAMACQAEAPj/AQD8//f////8//f/7//9/wsA+v/g//f/DgATAAwA9f8bADMAHgAmADIAMwAeAAkAGAAzAEMAKAAEACgAPwAgABkAIwAqAB4ACwAQABgACQAEAAkAAwAWAAkA9f///wsAGwALAAkACwAIABgAHQAdABMAEAAZACEADgAMACgAJgAIAPz/CwAWAAkA8P/y/wAABgD1/93/+P8WABUAAQAGAA4A+v/y//r/GAAYAO//6v8BABMAFgAOAAgAEQAbAA4ABAAMAAwA+v/9/w4A/P/w//X/CQATAAsAEwAJAP3/BAALABUAEwDy/+f/AQAQAA4ADgARAB0AGAAGABMAGQAMAP//9//8////9P/i/+3/AAADAPr/8P/1//j/9f/w//3/BADr/9//7/8LACAABADb/+L/DAAdAPr/0P/b//3/9f/I/6z/1v8TABUA7//f/+v/5//T/9D/2v/Y/73/uf/f//f/9f/i/9j/9P8BAOv/yP/T//z/AADr/+L/9P/8//L/4v/w/xAA/P/a/+r/EwAjAAsAAQD8//L/9P/t/+D/4P/v//T/+P/4/wMAJQAeAAAA9/8AAAYA7f/f/+X//f8RAAMA7/8DAC0AIwAAAPf/BAAQAPf/9f8AAP3/BgD///j/AAD9//j/9////wgAAwD///L/9P/8/+X/y//I/9//9P/6//j/+v8IAPj/4//r//T/8v/q/+P/5//t//L/AwAOABAAEAARAB4AFQAEAAEAAAD9//r/AAALAAgAAwATACAAJgAdABAAIQAqABkAAAD9/wMAAAAJAAAABAAYACEAMAAeABgADAD1/+//6v/8/wEA/P8AAAgACAAIAAEA/f8GABMACwD9//L/+v8TAAsAAAD6/wkAHQAZACMAJQAlACMAEAALAAQA///6//f//f8AAP3/8v8JACEAGQAZABAAFgAbAAMA6//g/+L/9P/3//X/AwAYACsAGwAWABsAFgAZAAYA+P/8////BgAQABgAIQAyAC0AJQAqACAACwD9////AAAEAAgA9////xkAGwATAAQA/f8TAB0ADAD8/+//6v/q/+j/4P/f/+r/8P/v//f/AAD0//T/CAAMAAMA7//n//r//P/y/+f/6P/0//r/+P/1/wYABgAAAAEA8P/t////BAD4//D/+P8GABAAIAArABsACQATAAsA///r/+X/AQAGAPr/9f/9/wgACwAAAPz/+v/v//T//P/4//T/6v/g//L//P/3//z//P8BAPr/9f/3/+f/7/8AAPz/8v/v//T/+v8BAAAABgAQAAgAAwAIAAsAEQAVAAgAAAADAAgADAADAPr//f8AAPj/+v///wQACAABAAgADAADAP//+P/3/wMA+v/y/wAA///9/+//4P/y//D/5f/i/+D/7//v//D/8P/1/wQAFQAWAA4AAAD4//L/6v/q/+j/4v/f/+f/6P/w//z/+P/4//f/7f/t//T/7//r//D///8LABUAGAAQABgAFgAEAPX/7f/v/+3/7f/r//L///8MABkAIQAwADYALQAhACAAGwAVAA4ACQARAAwACAAJABMAJQAgACUAJQAtADoAKgAjAC4ALgAjACoAKAAmACgAJgAhAAwAEwAdABAA/f/9/wwABAD8//z///8DAAYA9//w/wEAAQD//wMABAAIAAgAAwD///3/+P/w/+D/2v/f/+L/2//T/+v/BAAIAP//AAAWAB4AAwDw/wEA+P/n/+X/1v/S/9j/2P/Y/9j/0P/Y/+f/6P/w//f/AwD8//L/9//y/+f/5//n/+3/+P/o//X/CwAGAAEA8P/v//r/7//d/+f/9P8BAA4ACQAMABkAJgArACUAIAAYABMA/f/g/93/2v/O/9b/5f/r//j/CwAgACgAKwAmACUAHgAOAAEA9f/w//T/8P/t//3/AAD6/wQABAD9//j/5//f/+D/4v/t/+j/7f///wQAFQAbABUAEAAJAPz/9//w/+j/6P/j/+P/7f/y//X/AwAOABUAIAAmACoAKgAdABMADAAEAPz/5//f/93/0//a/+P/9P8DAAAADAAbABYAFQAQAPz/7f/i/9r/3f/n////CwAQABgAJgA2ACoAHgAVAAEA6v/W/83/yv/S/+D/+v8QACAALgA4ADUAJgAhABEA8v/f/9b/zv/K/9X/5f/w/wEAHgAyAEAAQwAlABYAEQD6/+v/2P/L/9r/3//t/xUAOgBPAEsASgBCAD0AKAD9/+X/1f/G/7j/uP/N//D/GwA4AEgAWABYAE0AQgAmAAkA6//F/77/y//F/8r/4P/y/wYAGQAuAD8ANQA1ACoAFQALAPT/8v/y/+j/5/8AAAgA//8TABUADAD3/9//1v+4/7D/u//G/9b/6/8IACEAPQBSAFAAQgAtAAwA4//I/7X/o/+x/8v/1v/v/xAAKgBDAFIAVwBkAF8ATwAzAAMA6P/Y/8D/tf+4/8D/xv/S/+P//f8lAEAATQBXAF0AWABAACgAEAD6/+r/zf/B/8j/zf/N/87/6P///w4AGQAhADAANgAyACYALgA1AB0AEAAJAP3/4v/D/7n/vf+1/6z/sf+z/9X/9f/6/xEALQBDAE8ARwA/AC0ADAD6/+j/0P+9/6P/n/+k/6v/tf/B/9r/9/8jADgAQgBQAFIAUABHADMAIAAIAOv/0v/K/8H/tv+x/6j/s//N/+L/9/8VAEAAWgBlAGwAbABYABsA5f/B/6j/lP+P/5//tf/f//f/CAArADYAPQA1AB0AEwADAPz/7//T/9v/3f/T/9P/xv/B/8D/vv+2/7b/zv/n/wEAIwBAAE8AUgBNADAAFgD//83/rv+e/4z/mf+j/8H///8hAEoAZQBtAHoAagBLACYA/f/Y/6v/kf+C/3f/mf/D/+X/DgA7AGoAfgCCAGQAQAAtAAEA2P++/8D/y//V/+v//P8QACEAIQAqAB0AAQD3/+3/5f/o/wwAOABAAE8AZwBnAEsAEwDl/9D/n/9y/3X/hv+e/9D/GQBYAIYAqwCeAH4AcgA4AOL/of9t/03/QP9N/3n/tf/6/zgAagCXALAAsACOAF0AKwDg/6n/k/+B/4f/l/+r/9X/AQAwAFwAZwByAHEAWABIACoAAwD0/+r/3//o/+//9/8EAAEACwATABsAFQD8/wgAEAAMABEADgAuAEcAOAAyADAALQAdAAgA+P/1//r/4//i//r/EAAgACUAOwBIAE0ASAArABUA/f/y/+//4v/V/9r/3//V/+P/7//w//r//f/4//j//P/6//3/8v/j//L/CQAJAAYAAQAJABkACwAVAP3/y/+5/6P/s/+5/7P/uf/G/+j/9f/l/+D/8P/8/wgACwAjADgAKAAwADAAMABAACMABADt/6T/av9P/1f/Z/9x/6n/2v8bAFAAaQCmALYAoQB+AHwAYQAMAMv/jv9n/0r/Q/9d/4b/sf/B//X/NgBIAEcAQwA1ABUA7f/v/wsAJgBAAFcAhgCbAIEAQwDy/5P/Ov/u/qD+gP57/rj+Pf/n/6QAKwGMAcwB4QGyAS4BlwDo/zr/q/5H/kL+X/5z/tn+gv87ANUAEgFIAWsBMwHYAIYASwD9/3L/M/9g/3f/ev9+/67/EQAuACMAGAAeADAADADt/yAATQBFAFIAWACLALEAiQCBAHoAVwAjAOP/sP91/0//Qv9I/6b/BgBFAKkABQEzAS8BJgECAZEABACe/z7/3/6w/on+nv4b/4r/8P+HACsBjAGMAW8BJwGxAAQAMP+o/kT+CP4V/j/+2v6P/z0A8gB4AeMB8wHJAU0BlgDO/8T+E/65/VP9Yf3W/ZP+if9VADEBAgJpAqICiAIAAksBPwAz/4H+zP1G/Tn9gP0O/t/+9f/3AK8BbgILA08DDgNXAqEBzgC1/9r+Qv7E/W79TP3e/Yj+B//K/2oAFwGmAeABEgIiAtsBfwEjAc0AbADV/0P/1/6I/nj+af5R/mb+nv4g/5P/9f+HANsAGgFDAVUBpgGVASQBqAAwAAAAef+N/gD+6P3p/dj9/v1x/gb/jP8VAMIAXgHgARcC+gHbAacB9QAAAFL/5v6V/jX+9f0a/n7++f6H/xMAiQDDAO8AGQEaARIB7wDCAMMA9wAfAfcArgBLAMj/O/+4/lb+8/3G/QX+1/74/wUBIgIqA+cDIwToA0AD9gEtAGz+Pv2H/Bv8HPy9/Ar+o/9gAfYC0AMhBP8DbQOwAnIBzf9u/or9L/1Z/br9Wv4L/5z/egBWAXcB4AALAIL/Kf+e/kL+R/6D/iD/2v/CAJcBqQFGAagAJgC5/6/+Uf07/Lv7FPx6/MX8mP2w/vT/KQEoAv4CQwPHAjwC+AEXAaz/JP6s/OL7kfub++X7U/w5/Yn+QAD1AdoCOAOgAwQE6gMAA9AB4gAgAGn/3f7f/gv/1f6b/vf+4P90AFwAOAC9ALEBVwK1AhADhgPoAxIE/wOcA9cCTgHN/yP/kf4G/qL9rf21/vf/hAEhA+wDQwRTBIgEVQS9AuwAfv8v/jf9rvyZ/Lb88vyq/er+HgDwAOAASAAAAIT/5P4C/s38Nvww/Er8lPz4/En9Lv0P/Qr9hvy6+5L6jPmM+RH6wfqw+//8g/6f/7YAlwF3AZkAEf99/Wf82fpI+ar4wPhk+Sr6q/vY/V//iwC0AbICcQMZA+0BjAEFAfL/h/81/3n/SwAvAWgCbQPTBOkFBAYmBgEGtAUSBTEE7wPwA20ELAVPBiQILwnsCeMK+gpYCukIIQeTBecDlQIIAq8CPAS1BfIHLwshDacNiQ0BDOcJuAb+AR/+Z/uK+YH4vfiL+1f+HQDKAjcFvgZ8BvADrwF5//v7LfhW9Sn0TvOV8qfzCfaL+DP6x/rA+338vfvn+b/3JvZ49KHyzvHR8Uzy8fK585P1wvfp+IT58/mL+uT6iPpZ+rn59vj8+O74MPmm+b35cPpn+7j8dP5V/1AAWgHOAfECwgOeA54D/QMNBUMGswYKB9YHogj4CMkIogh7COUHrAdUCMMJNAuCC9cL6AxJDnEP/g5YDRoM7wvfC3wK2QjMCEoJjAmvCiIMYA0ADqINHw0UDSkNfQvmB5wE4ANpBYgEyABA/98AxwJqAa39Pv1B/l776vbP9Tj4E/gP87jw9vSs+c/4wvS/9KD4rvjm84vvwe1260TlVt8m3uHeVd2B2mnctuOE6uLtC/DE9CD7qP6W/pf97fwN+3X3yfSZ8xry9u/97aLuBvJa9SX4PPpN/DIACgQQBj8G6AQOBF0DcwJQAz4Fbwb9BrcIxA2eEwYW2hXqFdMWCBcyFe8SWxGbD/sNhA35DmURDBMxExwTohQrFhYVdRHbDlQPbw++DOwJ5Ql1C2sLBApICiELgwlGBzEH2QhUCTYHkwWjBaIEaQI/AJL9APp19m/1sfZQ9iL16PbA+3cAwwFTAdEB1wCQ+xHzaOqR4BLTDcbdvjS9eb1rv0XHTtUT5l32zwM/DxgYxRt6GosUigoF/tLv4eKo2QjTNs6kzOfQONof5JLtQ/e9/38Gjgu8DjoPbguQBeYBXwD2/Wr6LPhv+IL6G/57AkoGdgmtC9sNCBH4E6UVEBX4EwEVJhYkFpgVUBQHEyERew8zEDkRJxGmEEQSaxcQGyIdGiAVIZogByD2HqQcPxcSEXsM+QjxBsEEnAO8BfYHyAoTEGQVcRjdGGwYkxeoFZoR5wmTAi7/1/vI9ojyn/BJ8jX2dPgB+Qr7N/1t+pr0V/B16pnecc2nwGHBbcgOy1jL0tTB68oD1RLiG24hkSLpHRUUywlh/ZLqCNd4zJ/OGdVe1ubWzt407uf82QIyA0wCWv+s+mH0oO5T6oTkvuCC5HXuXfk7AMYDOQgOD1QUmBFcCNL/dvpb9rXxS+5C7wvzNPeU/W0H+RHzFwAYOxdGGasbfxm2Eo4MGQqRCj4L3go+C18MWA6OEkMXiBrrGnoZUBraHO8e9x6OG6IYbBjkGIUZdBhFFc0SjxGrD9oMdQtOClAHCgd3ClIN2g+6EUYRjxHQE+YTxQ8oCVkCUP8CAm8Dhv5Q+Vv3nPYB9dvtX9ygw7OxrK+XtlG69bbNuPHNk/GbEfwiximGLmk0YDh+NBIjhgUd6OfW+NIH0cHG8LkkuhHMuuLW8AL0/PLY9jMAyQhRC+YFhvz3+FQAywo0DdUGfP4P+ef1QPCw6Irh3dcX0N7R391Y7vb4BABPDAUbFya2KQYnBiF0FfQFJ/pl9Ibvb+dy4brlQvPsAuANcRSOHOIljCyULqArgyTeGhASogvnBVgAqvuU+tD/lwd4DtoV/h0/Je4pfyyPLCMpYyRmHrUXdxMDDxYK0gg7CtcORhZ4HnAmvSdXJF0i5B3jFkgMZ/uJ7JDmMegy7Drv1PJ7+NkCiw4CEyIOIfky05uyQaeeqFmkgpWAj66lStQMBFIhSy/4ODZCp0uQTmM+3BfC6TXL8MOcxcS9Oqzrppm7U96l+r8EiAJTAbMHihMEF/QJFfe67Af0kgdoE6cOiARqA9ILvxFmCMDssNGeymvQFNek22fg8esL/m8ToyolPMA92y7iHnEcOB50EAT0DN2t2YTk0u7a8wX6oQNNDJYWUSfaNFMz9SV9Gnoafh4oGH8Hjvll9hT6Ov9xBX8KSA3hEcQaNCeXL8EseSRgH64fjSC9G1wSdglCCE4Q8haDGG0Z7xtdI5IqJikFI5QceBSyDNgEQfpF763l/OBX5RXvBvbl9v732P+gCY8H1O4GyFut76nCrhmqnpxtmyq0Id0NBdwg8C4FNAI43j/yQzU00gyh4HLIO8gxy5DAD7HWsK/GaeYb/vEFzAWFB7oMWRT7FocM3Poq71LzLwIRCt8FP/6r+2UA6wLM+qjpnNWEyrfMXtNL2HzdX+mg+8UOTyGYLrIwQSmRHgcXGhKABYfwtuBm3n3nzvEa+I7/iQqTF6QjSS3jMhkv9SM5Gt0WrRWUDGr9P/Sq9dH9LQWdCN0KhA8TGZIk+S1sMZ8tJCmXKLUqoSkEIiEaWBYrFUsTnhBwDa4JqAi7B4UIig3oEAIT1BTNFgEZbRdDEQ0JZAMmAaj/c/60/XL8pPnn+FT7P/hg5ezBW6AeloWeVaPImkeTYaRy0WcDgSSiMgY4Uz9PSoFPDkMRIuv249XOy8nOmMlTtuWmcK66zbnu8vla9Vn0qv5bDroXmhSwBob5hfoRCeYXlRonDzUCLwFIBkYBz+zp0pHBK78AxrjOU9vG6lj60g5cKM89mEPgOHsq4SCbGLoI+/Cp3lnZ4dwe5PXtA/y2CbwTCyIgNLM+8Dt3Lr4jTyH8HF0QL/4E8RruePGA+BwBrAfRCt8Rnh8PLAAxyCuRIi0f4SAoIhYfMRZ8DfYLcxGgGPwYZxOKEZEThxRDFMQUQRTWDVQDCf/8A7gGWP+M9qj49gGuBB/30ujx8rIC4AE49Sjjx9Xpxv21orBDsv+v2KY8qtjKcvRoC3QPZRbIKxJAXD8nLc4WnQIe77XdA9ey0sLHwb2QvkzSgut29YrzffTo/ysNPhCHCZkAWfvp+/UAIQfKC08JsAP6AdkBGgGY9cXgX868xZLMaNR612rgmfBBBzUbRiagLZMwdys5IGEVTQw4AE/v6uBQ4CjqifLy9of9IgvWGrgk+ibbJdMiuBwAGGoVQRFPCE/8aPem++kB4QXyB3sMkhR3HLYi3id6KQkmqiFdH1kdURiuD4QHhwR8BvQI4wpADAMOrRFUFGQWsxYMFlQVJhDcDNcJRQS8ATH9h/qH/Fn98f2B//YCygbPCMQHsgUYA4H8+e8E4VXbn9Lit2igyJ0Aruy+X8FgxZfdQ/9pFBYf5ikoMXor6xr6EHsOMAMF6dDNJMiJ1CzbSdbL1GPfKu+5+TX8jP2e/nf8XPt7/SgCtATRATwBewgFEsoVVRDXBX7+NfuH9j/rVtve0RTRltQR3Q/nffPDA70PhRq4J94vJi5vIl8WIRD2CIf91O8W5qHm2+3c9Cn9FgnXERQXyB9ZKrQvjylsHPQU3BQRE9AJPf/l+3L9vf/tA+oKnhJaFt8XEh6IJlgoqiFuGocXfBU8EUsK3wUJBgQG6whHD5ETJRWsFpEZiRtlHEUbSxkFGOgQMgaRAPr/dP4598Dw2PMD/HP+6vtg/RMD0wZwBawEDwcZBAn8v/RQ7XPcHrhylI2PnKAcrLipO6wFyuL48hxDL1k6R0AlOkMswiGWFj79qNYuufy32MeJzmXIe8oB4Pb74QuGDPwJeQiZA+T+Uf4f/nj4NvDI8N/+3Q9HFOYKJQDO/Zv+1vTy487XItLq0xLbIedW+PkGMhHeGUQjAiy8Kjsd/gyHAcz6oPVO7jjnj+cn76D7UgogFswbmRunHbokwCinI5IWXwwLDOYOtQxNBu4CFgS/BWMIFg0BEkEU9hI8FXsdhiSEJTkgHBxvHMkZ4BJbCxIFEQFj/uv9AgJ5CLsNYhCaE8AbKCLOIL0cnBnNFWMQWglcAFj5H/d995X3fPl2/r4BvwRNCUMNOA/eDSUINQBo/Dz4GOn1y0KsBp1onmik6aUtpnu0rdIY9dIRSSYtMT8xqixbKWckXxOk9DLXrsplzn3SFM7XyVPRcuO49Zz/PAEVABn9+Pmw+zL/LP5J+Mr03fzsDPkX7RUHCxkEhgJa+5LuXOLa1wvTBNXa3RDvif+HCUAS6xziKEIt2CMGFa0JDAMK/Zj06uyb6Ybr+vKF/qQKhRMUF1AZsx+5JmwnMB/aEnQMygzPDG4IlQJ8AD8ChwYLDBwRdBPzES4RiRXiHJ4hhx/lGVEXJBdMF7EUGw3CBSoCHgOkByMM3w/5ER0RqRNMG5YfSB+xGikTBxBzD2ELyQWVAUT+Ff1I/2IEXAlLCKsF0AYkCqsNIgnl/2X6m/IM3sS8RqM4nWSfvJ5oncios8V6540BXRehLCE5SDdHLt4mZBu+A4jk/cxix9/JkcfxwyjKRNs17YT5NgGIBUcGIQOA/gr9n/yU+dL10PVd/44MTxL0EWAOkgrRCAQBmfDD4NfWf9Jn07jaaOhJ+JEGRhPJH+8rmDDpJ1MabBBpCKf92PA+6O/ld+le8Xb7Uge/EYgY2R26JEcqwidfHnYV3hFbEJILhgWqAUYBAwM0BRsKFBCJEicSchMUF54ZBBppFwgV7xaZGEMXvRUyFOIScxTPFekU4BPbEecOIgyEDEAPZRCODyQNTQx4DoIQIg4JCU4H2Qi9C5oO+w7UC6kHjAeiC2EOtwsCBIL9FPw7+VHomMROo92WL5npntmeg6K1uBLc0P/eHBIzOT9GPxc5yzHJJ0QReu3izQDBqsOixmbDRcRC0arlMfevAakGsQa9AgP+UP3h/qH8lvYK9BT8Egp7FGEYwRYAFAgRjAle/uTurtu7zSDK68551mPfM+0A/loPzh9KK4Yt+yYeHQwUaQxoAcryJOhZ5j3sefPD+VoApwcTEFoYnh9MIwIh7hq4FvEXQBhREbQHegEtAJ8B3AKLAz4FXggKDVwVmB4JIz0hch2MHAIejh8JHG8TOA3RCmgKPQraCXkJFgnOCrgPORYxGiEaPRYnEiETMhQ0ERsMBweKBJ4DRwLaAKgA2AHMAgADigFz/ur7WvmT8bbayrg0oiOfwqXwqUapwLI3z/zyIhG3Jn4zlTaOMB0nUB9VEvn4Odl1w0DCncoizQzL7s/F347yGQAiBksH4QV7AncAmQEzASv8SfdC+UMDrQyhDQYJ7AMWAab8T/Js5bPWK8tyy0zVi+L37x3+nw2cHQcsrDJzL8slMRc6CDX+GPaR7Pnj3+Am54Xz4P8UCswRVxh8Hk4j0iXmI40bfBBtCpgJtwejAlb9G/waAVAJPA/HEcoSQhVhGyUhBCMMIEIZ1xWDGCIb0hhsE1gQnxArEs8S1RBFDToJ/QeaCiQNDgyRBj0DvAXSCR0MmwvACcQIJAr6DRkT6RWDFCkRbg4zDfUJGgJV9urk4MdAplCToZG7lmiaBqBttbbbfgI8HtcxXj9zQzA9ADEfIw4P3fAw0SS/ksAOyL3HBMaJzs7hYPSX/SYA9P5w/d/8Lf4LA1YFgAJqAEwFXxBzGNcYJBOYCWkA3/iL7+3hodHpxA/DZM5T3zLuqfyJDLgcGiyRNX8ySCWQFaIHAP0284DoOuAE3v3j8vDL/2oMORTgGa8hqSjdK64oah/6FvkSRBEWDHEDaPzM+IP69QCDCO4NaBDWEZkVtB3mI/8htBy2GUgZ6xkMGUoVLBEKEWQSDBGpD28NqQfJAdH+yPxe+4v6V/jD+ewC2Q4IGPEdCiNlKI0qKCd/IBkXwgySAoD3iOvJ2Lm5nZkni2yN55OvmOWfnrXv2UUAwB98NX9BDkOlPSQ4CS7IFrj2mtnUyRTIvcdWwijBmMkh19Tlx/Kp+tr7hvlk+Wn+8QXECPsFFQYpDW0WYRr0Fb8LLf6x8A7m9drPzQXE7cFmysjda/UyDL4gBi6CMwM3zDZzLH0XlP8x7mDkP99F3Q3f6uY98xgCghPIIT0nEic1J58pJyrpI5gYdw9PDH0KsAadAqb/xP0f/uABNgdZDMgP5BFmFzwgqSb7J3UlUCIlH3IaSRQhDUsIJwVzAaMCTAjoDUASbBMoExUUahOgDjAHRQFyAd0DFQWOBskIVg0TEgYWoxkWGcgSbQp8AEXvo8uxmgGA7oh6nair9re+0uP/oyuuRGZP4U+JQE8ijgbV+Anqg80GsvmtQcPX3H3n/+pb9tUCqgcpCMgGAwAn8kvnJ+t0+YcD/AO3ApkHrg0yDOUD8/bV5mPZmdRy2P7f0+Z07aP5ZgvsGgAkbif3ImcVzgf2ARv/W/fE6+vlm+yD+lEEzQh4DX4RSxPBFqccCB6YFzMPEg4oFT0Z3BIICZ8FmwYeBzkIeQsNDxoRQRSNG4YlZio9JYgdFhvZGp0XGBLlDaEJSQR5AqYDNQWsB9kIEgogDwQUghMPENEN2wqZB4wHugU6ArEE5wgBDOkRpxPiD6gPFRHzDmsKGwP9+oT2E/P5663dQsrevCy6P72RwkXIzdA332rvLQB+EVAdyB7cF3UQ4wvIBCH3yObL22PZM9s83lDjiOjl7HPxHfeJ/Bz9s/ls9hX0k/L68CfujuzI7PjthPLj93365ftT/Vr/JQNHBoMGiAfpCOgH+gYSBz0GsAL3++L18fXO+XP7//up/9gGiw6XFOQY3RvkG/MXJxWLFf0TVA6aCFMHqQlpCxULEww3D78RhxNuFc8XTRl/GeMXzhQ5E3gREA79ClkIHgYNBksIdwmoCJUIVgofDaoODQ/PDrcNrg23CqYGegaqBd0D3gE8ArcEVwMHASsBvwLgA/oBbPyS+TL7a/jR88Hw6Oej2XLPoM3T0X3VbdRu24XtOvsPAfsF7QzND44JbQDV+8n2beqS3OvXZtzO3cjaZ91u5ijvx/Iu9Nf4pfuS91fzrPOq9VT0WO5b69zv9/Mm9K71zPjM+v/7H/5wAu8F8ARFAev/FgPdBMoC9gE5AVr/YP/KAMQCFARwAfL/aAVECzoOwxC7EvYUfhXdE+gTYRRhEWQMxwlyCj0MCAy3CtoMuhESFW0XTRtMHrYd2hucGjwYwRQ/EWUNQAnUBBkAUvwe/En9f/1XABwFXghADLwRxBSyFcwUdBCeDZgMeQnEBP7+Bfqc9zX2x/Wi94b41faU98r7n//1AVsC3QCm/4X+EPxV+o74mPRh8RnwffDX8dzxre9Q7VHs3+kq5lLkI+M14Dvest/W4nzm3OlR7I3u4/CT8gT0WPYu9mry3+9/76Pv0O9e7zXv0fCw8vLzxvae+Zr6Svup/Lf+vgASAq8CJwSYBocHPgezBygJGQnMB14I8whjCAYJXgq8C80MwAwMDeYOMRHrEVMRIRGfELAPRhD0Eb8S8RF8EJMPJw/SDrUMuAjqBqUGmgWmBscIbwlvCggMOQ3nDnoQZw/dDU4OTg2sCjcJLgd6BF4CRQA7/5P/Dv85/Tf9Uv+2/37/xgFIBOAELASbApgCgAQKBLUARP5M/SX8e/o9+YH5ivkC92L1ovdD+k76jvjg9gj3W/dK9Zfz+PPd8qDviu357tnxi/Ls8e7xqfOL9av1pfVN9hn2YfQj8+LzR/Uh9C7xYPCs8S3zefPA84j1tPae9oj37vp2/hD/xv3O/V//UP+l/SH98P0//hf9lPw6/zwC5gG9AI8BbQOZBG8EJQXkBloHvQZLBwkKxQtiCsEIQAkcC0wMRQyjDAcNMgx7C8kLXwxuCzgJcAihCXcKagmaB60GcQaWBZ8F1wbTBpgFUQS/BPcGSQhDB1AGsAauBhIHrgcACFkIPAcyBqwH0An+CEoFxAHi/2r/EP/p/eD8pPzx+7D7gv2m/xgA4f4//tr/WQLuAjYBTf/B/TD8Yfr++A74Z/aA9Gv0tvbn+Kz52Pl1+nP70vsW/LT8tPxH+235qvhv+Qf6C/nw94/3bvcK91P3hvj8+Mf4SvmD+2b+NgCrACgAef+X/wMAHgBiABsAUv/U/gH/4P/l//L+X/4v/jr+jv7M/mX/3QAIAuABGAKrA6IEkQQ0BDcDHwJOAjADrwImAfX/vv+RAEECZQQtBjUGOQTcAqADtgRvBMQC1AGOA/oEygPWAaEAvf9k/qD+MwHrAvcCpQLSAtoDJgRFAxYDeASfBdEErgRbBSoDUADA/2n/2P3k++D64fuI/an9DP2U/bX/fQFiATkCVgROBF8DqQSJBpMFwgOtAssASv8I/uH7EvvM+2H7dfri+yX/cf81/L76cfvu+g75hPg7+rX7yf1y//L++P+9/9j8+PxI/7/+Svz//Af/r/3d+5f9Wf7q+8T6IPyx/8ICVgJy/0z9Vf0B/x4BhwFn/wv8xvxhAGn/c/q0+eb++QArAMQBdAPHArEAEABeAU4E2QWqApP/UwElAlf+YP3//+b+1/tQAC4HVwaTBREG9QPkAn0BBACcAEcC0gIdALD7yf1uAlf/cfzN+7T6cP6LA2oDRgI5BAAC9fxW/YQAFQJyAPr/fANwBPUBjwHmAicBMwBFA/4ECAaxBMH8pvZV+YX+Pf83/en9OQFCAx0DpQL5AD8AJQJtAG//lAH5/qj7cP33ACQBvQC9BTcI/QMsAdX/C/56/Z8BYAVqAKH8nf0O/hD/i/7B+uX2NfszBCoFXQBc+9L41PvQAfcFMgbwA2YCmwPlBH4C8fo79gT9WgSDA/f+w/wH/cj7x/74BJ0FbQO8BLsDmfxO+r/+IwAk/voBKgNB/gIB4QKoAEMBj/9g/O77Pv/HAqgAvv3m/S/7H/toBS0MbwQ3/iQCDgG5/FgAjwF/+Q/zD/oBB/QFAv7i/Gv75/wnAb3+D/0GADkEZQOB/ysB8vys9kn+AwUoArkB7wDa+zr++wTa/iP1Xvt8BJb//vooAIcBbv3S/McCXAYWAYQAmQEA+6H5QPx//cMAtv9s/HD+OwEL/879x/49ABYGEgfQAQ3+2Py8/eb9Hf/V/4D96f1fAuUE5gWtA4/9fP4ZAwMC6/9wARwCKQFcAhMChAGZ/w78//6mAH7+pgHlA5wA2Px6/CP/q/80/jj/YwF6ASgCNgEH/bj/1gezBiL+Iv7d/+/7U/2yAZgGnAew/Gb14PxvBJQBPfjS+OAExgaeA4YGggQR/P73RfxcAsIC9/zg99r42v9GBR4Dw//HAUoFLwJVAa8HRgV4/bP8RQBXBeEF7/6S+Qn9lQJ2AnsCLQJQ///82f3nApgD0QGWAGb9gf4lA2wDBABT/zAA7f+m/gIB/QMDAEP8c/vn/ogFkwUE/Qj3MPtdARYG5AMR/aP8cfyB/B8CiAWAASL6E/iJ/MoA0gIFAWf+5fzk96v1OP+LCdwCtPrW/VcAf/+1AOABpPpl+sgEeQVhA8IDC/+d/cAAKwEaAW3/zP74/1//YwIIAyD8o/utAloB0//XA1X/5fnM/UgDnQRnA64A9v2I+9X75f+EANP/zQM3BTsAFf0q/msBEgTJASkBoAKk/Gj6DwH7BAgCB/wA/XIAJf9X/h4BFAVhAoj9D/1t/4YDkgE7/BL7f/18/4L9PP5EAkwD/QFdADT9oPsHAU8FHgPS/OD5Pfwz/I39WAArAaoBtgF0AE79iP6vAdH+M/zC/c0AagMgAkf+Cf1a+3H5wf/NBjIGfP7o+ikB/QEkAiYGzAHB+az3yPwwBFQGf/8w9Wf4NAglDJQEyPyE+Ff8s/5LAGgEnQKy/Ur7ef+GBkQFEP9a+3L8YgC+ANr/fQFRBdYFV/+J+yj/0wHLAHsCsgVuAgr9Df16A7gFQv67+XH/zgdJAsb6SQEBBuoDqP8L/Kb7IPzS/xYH8wfS/i75lf2FAYUC9APbA9UAUf78/9X+pf2p/cL7uv6lAioDbAIjAJn80fru+mX9KP/1/1UD9QA6/vsBIwHP/bP/XgFhAGv+Iv1bAuQGgf6H8yr4lgZ2CFoA/fz4+tb80APEBCT9Yfr2AiYEl/0H/x0A/PzU/QgArQPiBTL/nvtPA3gEcf5K/yj+Tfz8ArUCi/qd/tcFogLD/z8C+wJ2AMH/E/49/9QEMgN2+2D3Qf7lBEcCdPxl+ZkAKQSPAFwA+P1F/oUEygXp/lT71/5lAHQAN/0w++P/cgOUA+//Jv2b/lL/4v76/Mz74P2MBP4F6vv/+B3/HwJsAzQEJv8h+c7/3AW5/878FgBq/4T7uf9aBroC4fqV+qACsAVIAH36lf77B3EIrwRn/4T7EfyF/iMBIQDLARwEgv3L/GoBl/wT/D8DKQUsAVn+7f8WAQIBDAFnANP9F/67/uj9Gf///87/Xfxy/x4EjACZATgApf2Y/jv8E/9lA7EAFPyQ+y4BjQVJBF4C9f22+gr+pgCeAOsB+wKhAA/9lP0SAm4FFgP//L79sQBo/T4BIQQ5/lwACwOJ/tgAXwaBAjn9Y/6+/2X8MAA5B/4E3gEB/If6JAHpAkgAOfpT+vcCDgbKAA7+LQDW/5H+A/7F/8AA//x7/usBOv8p/Tj8Efqq+/cC+QMu/7gAogKW/mz7iP1WAdABXQBLAYYC9ACqAYwDv/3++k8DSQV4ArEANf4+AlQC1v2l/R/+TQC9A1QFjAPlAOD96P0VACEBmgSIATT+7P6M/bn/awLYAz0DQ/yj+dsAUQWDAtf+Qv74/Bf7Zv7fAisGdwad/Z72y/xYBAsFqwBC+GX54AOxBDkBxgFE/l/5wv0zB2AFxvyI+p39ogGkA3wE0gAH+gH8tgPhBMr/Lv1QAG0BC/8IAJsCTgGR/w4BNf8V+qT9vQP8AIj9rP/B/7gAMQQT/x37T/4aAisEOf7p+wEBdgBZ/fL8GAJ/A8L7sfzRBCADTfyz+5v+rP90/zMAogK4Aj8DrAHG/BT8qPyk/yAC0gDQ/2MBxgPJAYIB1/5y+cz7CQNfBmMBVfy3/ZMC1QNqAPb7R/yR/wAAAgHQ/Bj7NP5r+9gA0QfrBPgBKABlAHP+Rv39/aD6V/s8AUIDkwDp/gwB3wAR/Kn9RgHi/uv/5P5d/S8CMwMY/iL9TwNYAzYBDwE3/q/9YP88AhIBdgARAfH90v5YAKoCLgEg/rr+Df1aAwQGS/0T/LAA7v5W/ckC8QJR/qP+8f7//s7/Xf/+/eMAqQMx/Yf8fQLEAhUAYP+//rb9tgGRAFL+uAIdBXf/MPmd/er/JQLMBFQAafvh+4cGyQf+/l77Lvq4/poBYgDEAqEDNAFk/Mn8MP8qAAIFvALq+37/CgEe/EMBvAX+Adz7oPovARUDOgLp/jD8o/8FAQ8BIQHgAPj9KPv9/GIB5wOw/0//bwNUBWgBYfsgAwMFJvnv+XMFPQYG+6/6ywEDBdAE1P4E/Z7/+gG2AWUAnwGp/0T+4f3CAGoEBwHa/GT+awJyAKT8QgCjBlYCcvr7/kcDoQAa/k79/f2l/RoCIAU1/h/6MgAFBRQB4f4g/nkAwQTeAY7/y/2w/o4FvwJx+1385fwD/1UDAgIZAEP9yfwqAqoClv9vAWID0gC9/wcBsQB8/5X+m/+e/5H+EQFxAPAAHgM5/vz7//uT/qoEGwC4+Kj8gQKKBKgDyv77/UX/h/xAAGgCw/9c/+T73/8TA2n7MPx7AqEBXf8xAhUD4v7Z+zn+WgE5AWgCVwD9/db/SP35+2z/uf/+/a4B+QNS/i38QwAkBNECUv7Z/uX/vwHUArj8xfsZAQcCcAGHAK0AWAQWARH93f+W/3kA1v9y/7cCWAC+//YCbf8W/IQAJwGI/YD9fQHUAtT90PxJAYYCM/8m/1/+Cv4vBe0DdPxm/X//ef9IAM4BJgEk/b3+FAGR//z/NAFTAV0AcAHS/50BQATO/wb+yP7J/Mv92wNOApv8MP8dA04B7/4p/47/cgGPANr+LQNQA/D/4v7h/k3/rP9LAaQAuP5K/qsAFwET/3MCRQEZ/H8A+QJiABP+lP33AGUAKf+9//L+2gBHAwkBf/19/M/+dwNeAcn9ov6u/2gBbf/9AMkCeAEgBXIAkP0RAXX/K/+pAFkC2v6o/N0DFQap/0z6x/oX/mkA9QNlA9/+8f5LALkAIgI1/478xwH1A8b9DvkQ/2YEdwFiAWAB6wH6AAD6SPpCAhUFTQAc/cMAoABM/ef/DAPVAz7/APuQ/V0BDwHI/NP/TgL+/of/8AB8/3T+MwEtA3cATv6NASAA4fuB/soAggFKAOT96/9GAm0Asv6zAK4BK//9/Y7/LgAD/6j+wADZAjQBv/6v/ln+ov7A/lf+KQEnARYAfP7i/HECkQS5AbP+4f7DAfX/EgGdAaP8MfwGAIkDdwSxAPP9JfwB/LcB/APsAB4AswA6/2QABwJQAHP96P16AYkAq//v/rj+tv8h/40BdQGMAEAB7f3b/D0A8AGnAbX/T//n/+r+qf8BAWkCAgGF/mH+t/7DAcX/mvv//20DJAJVAPz/GAD2/sX+QADRAeAAkf52/kv/DACrADECvgE+/yn/0v5bAWABWf2w/tsAjAGjADv/GP+E/83/Hf+B/t/+bQCMAc7/uv5+AFD/YQAEAdL+yv50/loAhACPAUAEsf+R/JX+s/8RAU8ABQF9Ah4ANf6D/TUALQJhAIr/XP/9ANABtv/H/kr/lADQAGr/sv49AP4By//P/SMACALoAGwAGQBE/a/9NgGaAVoATwAMAZwAu/5H/msBBAP3/tf+QQJeAb7/Xv7q/pwAxQBIASgAV//d/ob+fAAnAhcCrf5V/Q4AngCRABIBJgGbAMX/5/+5/4z/XAB0ACMAuQDd/lr+LQIvAm//YP8EAK/+2f2xAPMBk/9v/wkAif+LAFP/H/5+AGABuQBT//f+HgBS/+j/HwGb/73+HgAdAwcBsv2kAHIBSwDh/pT/JwGD/nL/FwKFAbn/rv8jAXQACQAd/zv/6P+2/9sAuQDd/2b+R/5aAEgAXf9P/7UAUAGeAFUBOgAn/qX+lAAyAhcB7P4W/00ABwGUAEL/7P61/74AIwGw/7P+hv96ADMBXP/A/h4Ajv+RAMsAPf+4/mX/6AAjAU//T/5+AI4AIQBqAPf+Yv90/7gAtwGT/+/+/v7YAJ0B6v9i/47/OQGx/yj+6v+T/77/2gB6AVgAH/4l/9r/6///AH8Asf/u/jX/JAGWAEz+Sf5T/1gA4wBdAAsA7P5A/yQBGABr/uL+/wCpAV3/xv1V/48BsQHd/4f9mv4OAVsB9AD4/7/+Iv65/3ABpAA2/xP/bAC1ABAAuP+B/0UA4v9T/2UA9P/V/9j/vv/NAKn/U/93AIsAjgDO/2f/n//K/7X/OgCrAAQA8v81ADIAtf+k/3z/0P9VAXIBAf+j/v0AwgCxACsA4v7Y/wQANgD8ANsANQDi/2QA9/8j/6v/EQFdAff/uP+G/47/YwEzAQ4AI/8G/2oA4wBsAL3/nP9KAAoBBgAJ/5P/GQCtAO//q/+kAE0A1v+4/4f/4P87AJQAzf+J/8AA6/9t/0UAcgBAAAYA5f+f/yEAfgBhAKAAMABT/wsApgCG/6P/bwD8AC0Axf7G/67/qP96ABMAsAAJACD/KADNAEIA3f+cAHwAUv8T/xsALAHjAFIAb/8l/1gA2wBxAGD/6v4mAPoAjwDV/0P/Yv8QADYANQB8ANP/mf+5/x3/7f9qAEcA1f+//n7/MwCPACYA//71//UAoACZ/zL/yv+Z/xEA2gDF/+b+2/+MAPX/IABaAIL/E//6//UAuf84/8D/f/+XAFAA5/4E/zP/dACGADv/ZP/I//cAUgDX/lr/lP9hANsAZwAY/zX/UwHVANv/nv9P/2L/BgASAUIAXwBDANT+ZP+K/wgArgBKAFL/cf/NADD/S/8MAT0Acv9F/ygA6P8TADEBBACX/wgAGAA7ANP/ev9VAOMARwAqAO//4P+r/3T/MgB3AC4Ay/+2/2f/5f+GAGoA7f/+/n4A7wCB/+T+EP8PAeoAyv8wAKz/l/+kAMsA///8/9P///8WAOL+SgB7AYwAJgAH//T/hgB0/00AGwD1/zsAAQCEAOL/U//4/8MACwBV/7AA/wByAKj/0/8PAZwANf/F/owAYAGJAE8AXwBfAJn/T/87AGkAwf8eAL4ArQDK/zD/NQDGANb/QP9DAAIB0ABq/7D+lAB+ACX/gf8wAO0AdwDt/48AMwCj/6H/MAByAIr/9/+jAFoA+P/I/wYAZACoAEv/uv5/ADwBKwBs/xEAPwAqAM0AaQBd/5//2/8dAM0ACACH//L/3wCgAFL/Kf/r/90AagAoAD3/j//YAMIAUQEJ/1H+EAB0AGQAxv+JAM3/lv8EAWIALf/A/nEADAGk/5z/egDSAG//Pf8OAU0BnP9n/vT/3wDW/ysA+gCR/4n+OADv/yH/XADKAHcADP+4/rv/NgBmATUAMv6m/5sANQAuABP/jf64/8IAZgEgAB7/FgAr/1D/OAG+ANr/Sv8u/3z/KwCMAcb/If8xAZP/r/7vAPAApP8lAF//K/+wAEUA//8hAEcAOwA1AEgAMv+r/8sA2/+7/4IAbf9X/zQBWP/5/UABZgEu/9H+4v9UAGr/cv+M/5kA0gA9/2L/yP9LAPr/LQCjAAv/gv+2AAMAYP9YAEAArv8rAff/2/2B/xACXgGi/kv/8v9y/wwBxgC7/2D/bf+cAE0BPQCR/hv/OwCzAI//0v+qATP/r/6u/3n/DwI4AfP9T/7vAJsA2v5S/+r/egAGAPX/6/9DANsAjv/f/3f/E/9QAPz/qQDgAAYAHQAQAHkAMwCY/r3+XQAIAF0AYgGjAJf/gP65AC4B8P2G/xUCqQHF/rb91wC6ApkANP69AFYBAP5T/4sCggCt/sYAuwBl/xP/Ov/gAHkCXwDj/A3+7gG4Auv/Xf/OAGL/Mv9VAWkAo/6u/20BbwBf/ikBsgK+/5X+f/+FAZ0B5v4y/2gBqf/0/ngBNAJxAKv+q//dAJ7/8v7W/5f/MABCAjwB9/5w/iMAtQLQAP79V/9QAEr/MgBlARUAtQAEARf++f6CAcr/KP+BAE3/Jv+7AdgBv/7g/cIA6AA4/0UAEgH6/4L/XADLAFoAgP5r/XQA7gFC/+P/NAH//rP+EgGBAmwAB/yf/YkDvgGA/TD/ZgHnALj+wv6PAT8Ay/3Q/5YAgQCaAU7+tPzMAakBjf5qAIH/sv4OAYQAKP8m/1D/tgDFAOb+U/9i/x3/of+z/3IANgH0/5L9kP4YAFD/xv9pAED/t/58/4EAswAOANn+aP1hAOsCTv56/AUBSQIz/4H+5/6T/5QAWP+R/5wBoAD+/Y7+eAHTASX/KP7s/tL/kgHLAJ7+df9KACMAQAGBAM79xP6AAcYAfv7t/x8Cs/8k/uX/TgHSAPv+ZP44/yoAoADY/13/u/8w/w4BiwOkAHX97/xm/koCYAGv/XT/RQFLAA8BXwOZAbH6XvpPAugDh/+Q/UL/1wJBAkH+t/1VAI4AbQDlAS0AFf7h/v0ARwLVADv/if9l/xAAzAE1ANb/ogHg/9L+JAGnAd//V//y/2oA0AAaAVcAswDbAYL/kf6kALgAu/5J/mECwAK1/uL/xwHoAFwAgf/3/7X/6P2a/kYB+AT1A8v9ffx8ALoC+gBX/pv+9P+tAAMCJAH7/kf+KAAXAiYAuP/8/+H+9wB+AsP/bP78/9MAfQFpANT+s/+zAIL/7/4EAX8BQwAIANoABwHn/nv9jgBxAg4BnwEWAIz9KgADAkIAZf/o/V39+AG0BDYAV/5NAVwAs/9BAbYA9P6c/KT9pgPzAk/8Wv/LAz4BV/9x/in/OwDE/jj/ZgHnADb/9/9oAoQBZv5c/qkA7QBb/fv93wK9Ag7/QPzF/ugDEANZ/qf9ywHYAGv78f45BN8AEP5TAdUCev+t/Yn8UP2uAbQBif8DALkAcwFlARP/A/w+/E//OQKIBLoCa/33/DUCYQNS/qz89P4p/xn/ZwCAAZ8BwwCJ/0n+lP0Y/tP/Pf+9/q0CcgAl/KIBFwSv/kH+ZQFYAJn/dQFqAWz/Lf87AI//F/4L/9gBgQID/0b9GwMMA6r7ev3GAxoCxfxk/tcC8wLA/B/3tPzyAZwBHwVdA0H+3wA8AXT/dwElAFL8Ff5CAwgDLv9t/Nz7a/46/+/+EgHrAWIA3/7D/8cChwGD/UsA2gPf/iX7mv6fAR8B8f6N/Vb+AQBhAA4A3wA2AYT/Rf5lAcUC3f7P/hwBXwCG/zb/Wv/5AGUBuP9x/wb/o/5sAIUBVQCq/bn9vwGRA9MAt/2a/SoAagFLAA7/hP/RAZMCqAAfAUcF2/2l8e/5JAedBa8BDAHl+675hf6tAPgBHwSbAED97gEsBMgA7/4F/k791/6CAQ4Bkf+bAG0BbP8T/8YBkgGPACwCuQEH/1D/GgGz/zz9u/wP/YH/iwK3AdL/HAHzAQ7/oP5dAT4BFQAuAVkCZgJQAc/+Rf51/6L+lP1i/xgCNwIaAcYAVwCE/7j/LAGPAWUAn/9p/5n/MQGcAQgAXP+e/2kA0ADDAEgBTgFsAA4AHgEAAqEAR/8OAPkAAABc/vv+GwB//8j+h/+kADAAhP9SAIYAXf+Z/zMA6v8TAAQAuf8DAFAACQBL/4D+Tv4h/6kANgGjAKQAoAD0/xv/pf4Y/4H/Nf9d//X/+v98//L+8v6O/6gAsQEAApUByACEAD8AOv+9/qL+Gv5k/qv/5f9S/7v/KAAYAFoAAQGxAbYBBQFKAAgAjP/X/pH+4P2S/br9r/32/oQAxQAPAbIBzAGUAYgB4gBp/zz+Av5O/g7//f/Y/7X/GQAY/yX+af/FAJMAWgAzAfsBmgHaALsArgDf/x3/Qv9+/0f/gP6D/uD/rgCOAAMAyP+p/0D/YP8qABkBAQH8////pgDS/1f+Mv7N/kX+av3+/XX/nAD1AO0AWwHUAVEB3wAxAVoBUgAU/xH//v5f/kr+1/6f/y4AGwDo/zoAEQHJARACdALcAWUAVQD/AL0A3/8r/6L+fv6C/6gA1QDtAAIBygBOAS8CSgLLARIBGwBD/y3/R/8h/4//agCpAFgA+P8uANMAqADv/9r/sAAfAasAtQBBAYoB7QC9/4T/jv+I/uT9c/4d/8X/lgBgAV4BOABN/9/+tf7h/on+Dv5n/lf/DACpAGsBWwEmABP/K/9//3L/b//Q/5YA2ADXAA4BbQEeAY7/cP6a/lf/tv+C/6v/nAD3ANX/Cf95/3T/iP6D/qP/tQBNAVsBbwEzAVwAzf9x/1P/m/9v/yv/Pv9x/8D/pv9v/3X/O//i/vL+lv9sAMYA4ADnADoAlv+R/7X/nP8J/8j+Mv/B/0sAmQDQAOgAfwDW/8X/YgDQAKMAQABKAHIAYgATAOP/GwDw/8j/SAC+ABoBYwFNAT4BOAH/AKYAQgDy/3n/5/69/rD+tf75/kj/if+h/yYAtgDnAE0BeAFYAQkBagAEAKn/C////lz/Tf/n/rr+Vf/o/zYAFwH1AQUCgAHTAFQA3f91/zv/Ef8u/xv/7/5y/0MAuQCkAG8AnADdAOcAQQHBAeYBRQEVAJz/kf/7/mf+Y/6L/mH+X/4r/y4A/QBIAQkBIQH9ACMAsf+4/6b/d/8m/0X//f9/AEIADAA4AKP/2f4J/6P/GABPAF0AhgB2APT/Yv/2/r/+qP6g/sr+fP9KAG0ALQAzADgA2P9T/1L/4/8rABMARwCzALkAegBaABsA8P/n/7X/s/9VAEYBmgGxAdABHgEVAC3/ZP5E/tX+Vf/N/6gAYgG+AdYBewGrANr/QP8H/zv/s/95AAwB+QA1AAn/J/7W/fP9ef4u//f/0ACXAQoCMgIdAkgBm/8d/p/9zP1O/kP/WAAOARwBrgCMANIAEgHsAGoAQgCBAK4A1QDfAIIA9P8d/y/+3P1Z/iX/0/+HAC4BigGZAWoBBwGbABgAav8J/yH/WP+K/4r/R/8t/zv/DP/5/oL/iQBoAd4BEgISAtMBFwEAAEf/Af+l/m7+ov49/wkAdwC4AAQBHAHtAIYASABAABEAsP9T/xb/4f7u/lj/uf/r/0cAjgB5AEsAKgD//83/1f8JADsAjwC5AJQANgCW/y7/7v6o/tf+WP+b/7v/KACjAJYAVQBPAEMA5/9I/wf/j/9kANcAMwGVAYwB5QD9/0D/s/5M/vP9Df4G/4cAnQHEAZIBPAFQAAP/P/6G/ij/tv9CAMYAJwEKAWQAh//U/jT+x/0f/nH/DwFHAroCZgKhAS0AmP71/R3+dP78/uX/4AA5ARQBmQABAHr/nf4v/hH/egB4AfABCgKmAYsAI/8l/tz9Iv6A/gP////0AIcBrwFeAZwAf/+z/sX+dP8qALgA+QC1APz/MP/X/vH+Mv9+//j/lAAxAZQBjwE+AZsApP/U/s3+jv9qAPoAMwEBAVgAev/E/rj+R//A/0cAxQAFAS8BHgHOACoANv90/j3+lf5t/3oAUAGiAWoBLwHaAE0ABgD8//X/0v+m/7n/6P/q/+X/5f+9/6v/4P9HAMoAEgH1AKEAKwC5/5b/tf/W/8r/zf/v/+r/4P/a/9X/rP8w/9f+WP8qALAA7AAEAQIBZQBt/9f+7P4h/x7/XP/1/6gADwESAf0AzgBFAHf/IP9n/8j/BgAwAGcAjwByAAgAzv/W/7X/fv+j/xMAVwCGAOIASAFYAeAARQDa/23/GP/3/jD/d/+K/7j/IACHAL0AywDSALYARwDS/6b/nv+B/1L/T/+G/7H/1f/4/wsA5f+K/2X/k/8IAKAA9QAXARoBuQAEAFj/E//y/rv+2f5k//D/FgAYAF8AmQAlAGL/Tf/j/yEAIwD0AOEBnwFPACn/zP6a/jf+Mv78/vz/egC4AFsBCALpAfIAu/8L/+H+uv7d/nf/AAATAOX/6v8zAEUA3/95/2D/dP+U//T/bwCBAC0A4//Q/8X/w//L/8X/w/+s/5H/2v84AC0A6v/S/93/tv+O/8H/KABVAFwAdwDSAAcBvgBYAAkAvf9P//v+Cf9T/4H/nP/b/00A4AA2ARYB4wDGAIcAIwAEAB0A4v9t/zj/gf/O/9X/2v8IACEAFQAdAE8AdgBLADUAVwBfAEsAKAAEANX/f/9T/2z/pv/o/yAAMAAuAFUAegBaADAAPQBHAD8ANgBLAGwAUAADANP/2v/q/+3/DgBUAGQAMAAIAAMA8P/q/yEASgBXAE0ANgA9ADAACwAuAIEAkwBkAEMAagBXANP/ef9s/3n/gf+u/zsAuQDoAOoAyACPADgAuf9Q/zj/XP+h/9v/GQBkAHYAFgCb/6v//P8BAOL/6P8IANb/hv+Z/93/8v/1/yUAcQCXAHQAXQBcADYA+P+x/6b/qf+W/4f/lv+x/6z/n//O/zYAagCEAL4ABwErAcIALgDO/13/3P6g/uH+Zf/0/0UAVwBkAFwAJgDn/9b/7/8RABkAPwCEAHoAHgDD/7n/zv/S/+P/DABCAE8ALQAGAPL/2//F/87/4P/0/xgANQAuAAwAy/9//3f/sf/1/zsAlgDAAJcAPQDI/0j/8f7d/vz+ZP/q/2EAwwDtAMAAZwADAI//Mv8m/3T/wP/3/y4AWgByAFgAFgDb/9b/6P/Y/9v/HQBfAFIA8v+m/57/of+K/4f/3/9DAF8AZACCAIkAMgC+/5v/0/8AAAkALQBkAHYAIwDG/5v/ev9+/3r/f/+s/+r/LQBHAEcAPwAWAPX/7/8DACUAHgAMAAEA3f+w/1z/MP9c/4T/qP/n/0UAiwB3ACgA5f+2/5T/hv+2/wwANQBHAGkAYQA2AOr/sP/F/+f/DgA9AGQAZQA6ABAA4P++/8r/3//4/zAAcQCXAIEAVQBAAP//rv/G/xsAbQCpAL4AsQBlAM7/WP87/zb/Qv+X/ygAkQCrAKQAoQB5ACUA2//a/wEACwALAB0AJQDn/4L/U/9//7v/4/8yAKEAygCLACAA6//T/5z/gv+w//L/EAALAP//7//G/4z/Zf+b/xUAXwB6AI8AhgA6AMr/lv+9//3/KgBDAHYAhgA9AN3/lP9X/yv/U//r/6sALAFWAScBvQAeAHX/Ov9L/3f/vv8YAHkArQCUAFUA/f+M/0j/Yv/j/3QAoQChAHcACwCb/1D/Z/+e/9D/CQA7AG8AYQAbAMv/gv9N/0//s/9fANUAzQCBAAkAb////tT+B/+O//z/UACTAKgAeQD9/2T/Af/5/jL/pv9fAPUAEgHIAE8A1f8z/6X+nf4W/+X/ggD3AGABJgGHAN//Xf8u/yX/d/8mAL4A9wDqAJcANQDS/3n/bP+e//X/ZQDYABIB7QCWAB4Ayv/V//T/IABaAHwAiQBKAN//n/9x/1P/b//r/48A4gD0AOcAlwATAH7/G/8g/1z/pv8DAF0AjABhAP//w/+u/5z/f/+B/9D/MwBAABgA7f/G/5P/SP9C/37/pv+4/9P/FgBLAC4A/f/n/8v/rv+U/5n/w//L/8X/4/8qAGcASwAjABAA4P+k/3//iv+1/+f/JgBfAHQASAD6/83/rP+P/5f/2/9IAKMAxgDCAKMAVADY/3H/Zf+f/8b/AQBvAKsAgQAyAP//7//V/6j/xv8OACoAJQBAAG8ATwD0/6n/qP/V/9D/zf/3/xMA+v/f/wQANgA/ACMAMABqAHEANQDv/87/yP+o/6b/4v8gAEsAWABdAF0AOwD8/7v/qP+W/4n/sP/w/x0AKgAzAAkA0/+4/6v/zf/r/x0AagCZAKQApgCRAD0A2/+C/0j/ZP+5/xgAcgC9ANcAqwBfABMAvv9s/2T/s/8bAHwAwwDSAMAAhwAQAKn/jP+X/8H/HQCTAOMAzQBkAAQAw/93/0r/cf/B/yYAeQCPAIQARQDY/4r/f/+O/7H/6/8yAHEAaQAqAOv/vf+w/8P/AABPAHcAXQAhAOD/if84/xP/Nv+m/ysAoQDYAMgAagDW/2f/Hf8L/0D/k/8DAIIAuwCRADAAxv9x/1f/f//V/08ArQDKAKQAQgC9/zr/8v4G/0j/k/8QAJ4A0wCpAF8ABgCr/2f/Yv+4/yEAVQB0AHoAbwAzAMP/hP+H/7n/6/8mAHoAkQBYAAEA0P+z/4f/jP/f/2EArQCcAGkAMADr/4L/Q/9+/+r/OwCLANMA2wCCAPj/iv9c/1f/d//F/0AApgCwAG0AIADw/7H/df93/87/OgBiAGoAbQBPAAYApv91/4//y/8BADsAfgCHAEUA8P+4/5//j/+u//T/KgBKADAABgDi/7j/h/9t/6H/+v9CAHIAggBcAAAAuf+Z/5f/uP/4/1IAoQDFAJkAPQDo/4z/Tf9g/6z/CwBsAKkAtgCHACMArv9i/1//l//6/0gAkQC7AI4ATwAbAMP/df9n/5H/+P9HAGEAbwBXACUA6/++/8D/0//i//X/JgBHAC0ACAABAA4AHQArADYAPQBCADIAGAAIAO3/2v/f//r/KgBAAFQAVAA1ABYA3/+z/7X/y//0/yUAZwCUAIYAXwA1ABMA6P/D/9r/BAAdACUAMgBHAEMAKwAEAOX/2v/Y/9r/4P///wYA9f/y//j////q/93///8DAO//4//g/+D/0//D/9X/AwAZACsAJQAJAPL/wP+T/4H/if+z/+f/GQBLAEoAGQDg/73/qf+T/57/1f8VADAAKgAVAAwA9P+7/7D/0v/y/wMADgAbAA4A8P/Q/77/0P/i//L/CwAtAEUAJgD8/+X/4P/r//T/IQBPAE8AOAAZAAYA7//N/8P/9P8tADUAIAARABkADADr/9r/0P/N//D/HgBCAEUAHgD8/+j/4P/Q/9L/9P8JACgASABXAEoAHQD3/+P/5f/d/87/zf/l/wEA9f/q/+j/2//S/9X/9P8JAA4ACwAQAAQA6v/I/73/3//6/xUAMwBDAE0AKwDw/+P/2//B/8r/BAA7ADsAHQAOAP//0v+f/5v/zf8MADAAOgA/ADMABADB/7P/w//N/+X/AwA6AFcANgARAPX/zv+u/7X/6v8VACYAKAARAAEA6v/D/6j/qf/W//z/CQAgAC0AKgAQAPr/AQAEAP3/CAAZACsAOwA2ACoAKgAjACEAJQAYAAwAFQAVAB4AKAAmAC4AIwAWAB4ALQA2ADAALgA2ACAADgAMAAgADgAZACoAKgAjABYAAwAGAAsA8P/a/+j/BgAdADYAQAA7ACUA+P/l/93/6/8DAAMAHQA2ADMAEwDw//D/+v/y/+X/9P8IAAkAAADv/9b/1v/q//D/6//w//j/6//f/8b/pv+x/9j/+P8TACYALQAZAPX/yP+s/7v/2P/1/wkAIwA/ACEA3/+f/5H/rv/K/+L//P8mAE0AMgAAANX/uP/D/+D/BAAoAEsAYQBQABYA4P/N/87/4P8AADsAeQB+AEgAAADb/9X/yP/Y/wQAOAB2AIQAYgA4AB4ABADo//L/CwBFAIYAlgB0ADoAHQD1/9P/xv/j/yEAOgA1ACMABgDq/87/rP+W/6T/0P/9/wsABgD3/+//7//I/57/n//D/+3/9//y//z/AwDg/7H/rv+1/6b/of+2/8v/6P/6/9//0//I/7D/vf/L/9b/6//0//r/CwAOAPf/4v/l/+D/8P8GABgAMgA1ACEA+v/Q/8P/yv/V/+j/DAAuAC0ACQD1/+v/3//T/+D/CQAuAC4AHgAgACAAEwAGAAsADgAdAC4AKwAqACgAFgAEABYAJgAqACEACwARACYAIAAVABgAKABDAFgATQBCAEIAJQALAAAAAQARACEAPQBdAFoAMAATAP//9/8IABYALgBIAFIAQAAjAAwA///o/9//7f/6/xMALQAtACEAAQDT/77/u//B/+f/BgALAA4AAADn/83/pv+M/6H/0v/q/wYAIQAYAAgA/f/l/8b/1v/1/wwANQA6ACsAMAAuAAQA5//t/+j/2//o/xkATwBSACAA9//T/87/3f/a/+v/EAA1AD0AGwD8/+f/0v/I/8v/4v8WAEUASAArAB0AAQDS/7H/o//B//D/FQAYAAAA/P/l/7n/mf+b/8X/9f8JABgAFgD8/+v/yP+r/7v/3/8JACUAMgA2AC0ADADr/93/2//y/xAAGQAQACYAQgAqABEA8P/y/wQAAAAAAAAAGwAmACoAIAAAAAQACwADAAsAEAAWACYAGwAMAAwACAAIAP//+v/8//T/4//l/+L/0//o/wQAAQD0//T/BgAVAAMAAAAQABMAFgAMAAwACQD///T/3f/Q/87/2//y/wQAFQARAP//7f/d/87/1v/w//r/BAATAB4AJQAlAA4A+P/t/+X/7/8DABsAKAArACAACQD0/+L/2v/q/wYAEAATAB0AGwAVABEAEwAjADIAPwBFADMAMwA2ACgAJQAhABEAEwAeAB4AIAAMAAYAAwD1//z/9/8GABYADgAWAAEA6//n/9v/3//j//f/EAATAAYA+P/0/9j/wf/B/9b/EAAtAB0AGQAMAPj/4v/N/8D/uP/a////FQAgABkAAwDr/+//6//b/+j/+v8GACgAQAAgABAA/P/y/wEAAwAbACoAIAAdAAsA+v/9/wQAEwAlADsAMAATABEAEQAIAPz/8P///wwAEwAgACYAGwARAA4ABADy//D/BgALABkAJQAbAAwA/P/t/+P/2v/n/+v/6v///wYAFQAEAOD/3//S/9b/2v/S/+P/6v/3/wMA9P/b/8b/wP/D/8j/zf/g////CQADAPz/8P/t/9//1f/f/9v/1f/a/+X/6v/n/9//2v/l/+//8v8JABEA+P/0////+v/v//j/EAAYACUAOgAmAAkA+P/v//r/DAAQABgAMABAADsAGQD///X/5//j/+r//P8LABsALQArAB4A9//Q/8r/w//f/wEAFgAwAB4ACQAAANj/uP+9/93///8WADgANQAOAAkA///o/93/2v/4/w4AEwAhAB4ACwD4//T/8P/4//3/BAALABUAEwD8//j/6P/a/+X/9f8GABAAFgAgABYABAD0/+3//P/9//3//////+v/zv/S/9D/zv/i//T//P/9//r/6//j//f/BgD///z/CQAQAAwAEwATAAkA/P/n/+P//P8VACUAIwAwADIAGAD///r/EwAWABYAKgArACYAMAAhAAgAAADo/+X//f8GABYAJQArACMAGwAMAPj/9P///xkAOAA7ACoAIwAJAPT/5//V/93/9/8EAAYAGAAhAAkA6//q/93/yv/T/+f//P8YACAA/f/t/+//6P/f/87/0//4/xgAHQAZABUAAQD3//X//P///wMAGQAuADIAKAARAAAABgALABYAIAAwAD0AKAAjABsAGQAZAAkAFQArAEcATQA7ADMAGQAEAPD/2v/l/wEAHgA7ADsAIAAIAPr/7//r/+P/9P8VAB0AKAArACEA///L/7b/tv/L/9//BgA6ADMAKAAbAOr/uf+e/6n/vv/V/wwAMgAuABsAAQDg/8b/zv/f/+v/BgAYACYAKwAWAPT/0P/K/9X/3f/r/wAABgAIAA4ABgDt/9v/0//j///////6/wMABADt/9P/vv+r/7X/1f/w/wAA6//l/+//7f/Y/8v/3//0/wYAGwAjACEADAD3/+j/2//T/83/6P8ZADYANQAwACMABgABAAYADAAYACEAKgAzADAADADq/9b/zv+9/8b/4////xsAJQAoABEA9P/j/8b/0P/g/+v/CwAMAAwABgD1/+P/uf+z/77/1v8DABYAIwAbABMADAD4/+X/4//1/wwAEAAMABkAGQAdABEAAAAAAP3/CAATAB0AIQATABsAJQAYABAAGQAdABkAGAABAAMADAALABUAJQAmAA4A9P/0//3/BAALAAwAEwAeABkAHQAZAAwA+P/v/wEAAAD//wgAFgAtADoAOAAoAAsA9//8/wgAEAAbABsAEAAGAOr/2P/g/+j/9/8GACsAMgAWABUADgAAAAAA/P8AAA4AEwAgACMAFQADAPX/8P/q/+D/7f/0//f/CQAAAPD/9P/q/9r/4//3/wAADgAlADoALgAOAAMA///v/9L/0v///xMAHQAtACsADADv//z/DgALABYAIQAzADoAKAAWAPX/2v/G/83/2v/d////CwAdAB4A/P/6/+D/5//4/+///P8YAC4AJQAZABEACAD6/wAA///w/wQAGAAlACAA/f/1//f/2//O/9D/3f/y//r/CAAEAO3/1v/G/73/vv/G/8r/0v/T/8r/0//b/9P/1v/i/+f/6P/o/+X/5//j/9b/4P/q/+X/6P/w/wMA+v/n/+j/AQAIAAsADAD8/wMA///w//L/4P/S/+P/AAARAA4AEwAdABAA+P/6//3/+v/6/wAAEwAYABMACAD///X/6//o/+//AwD6//T/BAAMAAMA8v/q/93/3f/r/+X/4P/8/wMA+v8AAAAAAAAQABgAEQAZABMAHgAmACMAMAArACgAMAAwACEAEQAGABMAHgAbABUAEQAVABUAEAABAAQAAAAAABsAJgAQAAgAEwAQAAwA/f/9/wkACAATAB0AGQAZABMAEwAVAA4AEQAbAC4AMAAWAAkAGwAWAAgADAAdABgACwARAA4ACwABAPX/AwAOAAQACAAGAPL/+P8EABAA///n/+3/5f/l/+3//P8EAAAADAAJAAQAAAD1//T/AwAIAPj//f/9//r/6P/F/9P/6v/n//D/9/8BAPj/7f/v//3/BAAGACMAIwAOAAkABAADAAgACAAGAAYAEwArADAAIQAjACoAFgAIAP//9f8AABAAFgALAAkAEQD6/+v/9P/9/wgACQAMAAkADgAGAPr/EwAMAOL/6v8GAAYACQAZABYAEQAOAAMA/P8AAAsACQAGABAACADw/wYAGAD9//r/AQALACMAKwAbABMAHQAVAAAA//8IAAkAAAD8/wEA+P/o/93/4//3//D/4v/l//z/+v/o/+f/2//f/+L/2P/b/9v/4//w//f/7//r//T/8v/w/+f/6/8EAAgA+P8AABAACwAAAPj/CQAWABMAFQAAAOf/5//w/+//5//j/+P/7f/0/+r/6v/o/+v////9//z//P8OABAABAAOABEA+v/r//3////w/xAAKgAMAPz/8P/6/wAA7/8BAAwACQABAPj/8P/n/+v/7f/a/9v/7f/4//z///8AAP//+v/y//T/8P/t//r/DgAVABgAGQAGAP3/EQAQAAEACQAZADIALQAZACAALQAYAAwAGQAVAA4ADAAZAB4AIwAjABsAGwAVABYACwAIABgAFgAYABgADAAIAAYACQAOAAQABAAMAA4ADAAEAP////8BAAAA+v/i/+L/7//r//T/9f///wMA+P8BAAEAAAAWABsAEAARABAAEAAhABgA8v/r//T/6v/o/+X/4P/y/wsABgDv/+L/6v/v//L/+P8IAB0AHQARAAkAFgAdAA4AEAAgACEADAAQABYAIwAhAPz/9f/4//L/9/8GABAADgAQAAEA8P/q/+3/9P/3/wAAAwD6/+//8v/3/+3/4//j/+r/6//t//r/+P/w/+j/5f/1//r/+P////j/+P8BAPL/5//q//D/7f/o//X/9P/w//f/6v/n//X/8P/3//r/2v/S/+3/8P/n/+D/2P/g/+v/6P/g/93/7f/0/+//9f/3/+//9/8BAOv/6//o/9b/4v/o/+D/5f/6/wMAAAD6//r/9f/3/wQACwALABMADgD6//T/7f/l/+//+v8RABYAFQAZAAsADAAEAAQAEwAJABUAFgAVABMACAARAAwAAAAJABgAEwAWABgABgD//wAAAwD6/+v/6P/w//D/6//q//D/+v/q/9r/2P/a/+//BAD///3//P/w//r/AwD8//z/AwAOABgAGAAYAAkACQAeABsAJQAjABsAIwAdABUAIwAwACEAGwAlABYABgAIAAkAAAD9/wQADAARAAwAEQAJAPf/8P/v//f//f8EAAMA9f/4/wAA/f/y/+3///8RAAsACwAQAA4AEwATAAAA5//w/wYABgAEABMAEwAMABEAEAAOAAwACAAGAAgABgAJABMAEQAOABEADAADAAEAEwAWABYAIAAZAA4AEAAQAAMACQAMAAsAEAAEAAAAAwD9//D/+P8IAAYAAAABABAADAAJAAsABgAIAPz//P8QABUAEQALAA4ADAAMAAsAFQAhABsAIAAbABEAAwD4/wMAEQAWAAkABgAJAAYADAAMAAQAAQD9//X//f/9//f/7//j/9b/0v/d/+P/6v/w/+j/5f/w//j/9//n/+L/2//V/9v/1f/V/+f/7f/o/+X/6P/v/+r/5//q/+r/7//q/+3/9f/1//X/8P/v/+//7f/0//r/+P/0//L/9P/9/wEA///y/+///f/6//z/9//v////BAADAPr/9//8//X/9f8BAPr/9/8AAAYADgAAAPT//P/8/wgACwADAAwAFgAlABkAEQAVAA4AEQAGABAAHgATABsAIAAVAAgAAwAGAAMAEAAgAAwAAAD8/+r/5//q//X/9P/l/+D/4P/g/93/yP/K/9//1f/W/9r/2v/o/+f/7f/1/+//5//f/+j/9f/r/+//AwAGAAgA/f8BABYACwAAAAsACADy//r///8AAAEA9f/w//j//f8EAA4AGQAZABUAHQAhABUAFQAbAAsACQATABEAFQARAAQABAAJAAkACwATACAAIwAmACsAHgAVABAAFgAbABEADgAGAAsAFQAbACMAIwAVABEAHQAYAAkACwATAAsAAwALAAAA8v/w//D/AQAOABAACAAJABEAAADj/+P/6v/n//D/9P/1/+v/5f/v/+P/5f/w//j/9f/y//r/9P/w/+v/4//w//j/9f/6/wAACwAWACYAKgAgACgAJgAmADUAMAAjAB4AGQAbABYAEQAJABEAHgAhAB0ACAADAAEA9//8//j/9f/6//L/6P/t/+v/5//v/+3/8v/4//r/AAABAAMA+P/0//T/5f/n//X/BgAGAPz/AwAAAP3////8/wAA/f8DAAYA/f8BAP3/7f/r/+v/5//o//f/AAADABAABgD3//r/+P/0//L/7//o/9//3f/r//L/+P/8/+3/6v/6/wEA9f/1//3/+v/w/+X/4v/b/+v/7f/V/9X/4P/g/+P/6//r/+D/3//f/+f/AAD9//r/+v/l/93/3f/a/9v/3//0/wYA/P/w/+v/AQAIAP3/AADw/+v/8P/3/wAABAAQABEADAAEAPr///8AAAQA/P/0//X/+P////T/9P/3/+v/4//n//z/DgAJAP3/9f/6/wYABgAGAAQAAwAIAP//8v/l//f/CwAAAP//CwALAA4AFgAWABEAAwAJAAwACQAbAB0AHQAbABAAEwAZABgAEwAQABsAJQAgABUACwAMAAwAHgA1AB4AEwArADMAMwAjAP///P8JABUAJQAtACAAEAAIAAwACQALABMACQAGABMAFgAMAAMA//8BAPX/7////wYACQALABAACwAJAAYA/f8OACAAFQALAAgACwATAA4AFQAbAAgA+P/3////AQD1/+//6//r/+X/9P8LAAMACQAZAB4AGwATABYAIQAhACAAHQAqAC4AGAAWACMAKAAhAB4AGQAVABkAGwAbACEAHgAZABEADAARABUADgATAAwAAAABAAEABgAOABMA///i/+L/4v/j/+f/5//o/+//9//4/wsAGAAIAAQAAAD8/wEAAwAEAAAA8v/l/+D/5//r/+3/6P/v//X/4//d/+f/6//r//D/6v/l/+3/6v/w//z/+P/v/+D/2P/j/+f/4//t/+v/2//O/8X/zv/o/+///f8IAP3/BAAAAPr/AwAIAAYACAAOAAkABgD//wEAAwD6//X//P8EAAgAEwAAAAEABgDw//f/BAALAAsADAARAAwACAAGAP//9//1////AADw/+//6v/n/+3/4v/i//f/+v/1//z/BgAJAAEA7f/v/+X/6P8BAPj/9P/r/+j/8v/3/wYAEQAIAAAAAQD//+v/6//9//X/9f/4//X/CwAQAAQA9//4/wYA9P/3/wkAAwALABAA+P/o/+r/4v/a/+r/+P8AAAgABgAIAAwACwD4//j/BgADAPD/8P8EAAsAFQALAAMADAADAAwAFQATABUAFQAOAAsAHgAeAAkAEwAgABsAIQAoACgAKAAlACMAIQAbACMAIQAOAAwAFgAWABgAGAAZABsADAAeACYAGAAmACMAIQAdABMAEQAEAAQACAARAAkA//8JAP//AAAOABMAGQAOAAwACwD//wQACwAIAPz/AAAQAAkABAD//wMAAQDl/+f/8P/3////AQABAPf/+v8EAAEA7//n/+3/6v/q/+j/6v8AAAYAAAAGAPX/7f/r/9b/5f/r/+f//f/1/+D/9/8AAOf/6/8DAPT/2P/g/+j/4v/n//f/8P/o//f/AwAMAAwADAALAAYAAwD8/////f////X/6P/4//z/+P/8/wMABgD///z/7//o/+3/6//y/wEAAQD3//T/9f/t/+3/+v/n/+v/BAAMAAYA9f/6//3/AAADAPr/9P/q//f/9P/1//z/AAAOAPj/9/8QABYAFQARAAgABAAEAAQA/f///wgABAD9/+3/4//r/+f/6P/4//T/8P/9/wMAAQD0/+//AAD8/+v/8v8AAP3//f8AAPr/9//v//L/AwAYACAAGAAZABUABAD8/wAAAQD4//T/+v8DAPr///8RAAEA+v8AAP//BgD0//z/AADt//z/9P/3/wkAEQARAAYACQAEAAQAAAADACEAEwALABgADgAOAP3/BAAZAAkAAwAEAP///P8OAA4AAAAQAAMA8P/8/wgA/P/n/+r/7//o/+P/6v/w//X//P/v/+v/AQALAAYA///8//f/8P/y//j/BAALABAAFQAZAB0AIQAdAAwACAAOABEACAD8//z///8IAAwAFQAgABMAGwATAP3//f8DAAwACAD///j/AQAEAP//CwAIAAMAAQABAAYA/P8EABAACQD8//L//f////X/9f/3/+r/6P/3/+//7f/y//D/+v/9//f/+P8EAAsABgAAAAMAAADw/+//+v8GAAYADAAJAPz/CAAJABAAEwAAAAEABgD/////AQADAAsADAAAAAEAFgAWAAMAAQADAP3/AAD6/wQADgAEAAQAAQAGAAgAEAAMAP//AQAAAAMABgADAAQAEQAdACgALQAVAAgACwADAPr/9P/t//f/9P/1/wQAEQARAPz/9f/1//X/8P/q/+v/8v/w//L/9f/g/+r//P/v//T/7//t//T/8v////z/9/////j//f/v/+f/+v///+//4//3/wAA8P/w//r/6v/d/+3/8P/q//L/9f/v/+X/5f/o/+f/4v/n//L/9f/6//r/9f/4//r/CAD0/+L/8P/t/+//9P/1/wkADgAEAAkABAALABMABgABAPr//P///wYACAAIAAwACAADAAMAAQD9//r/9f/8/wsAGQAoACgAFQAQABsAEAADAAgAAQAEAAgABgAdACgAKwAuACEAGQARAA4AGAAjAC0AGQAZACoAMAAyACMAHQAQAAMACAAMABAA///6/wkAEQARAAkAEAARAP//+v8JABUAEwAIAAMA/f/6/wMACQAIAPr/AAARAAgAAAAOAA4AAAD4//T//f/6//D//P8GAPj/5//w////CAAEAAAAAQDw/+j/7f/w//X/8P/4//z/9P/y/+X/4//t/+//6//n//T/+v/j/9j/6v/0/93/2//t/+f/4P/w/wYAEAARAA4AGQAWAAQAAAD6//z/7//9/xUACwATABAADgATAAEABAABAPT/9f/v/+v/6v/t//L//P8AAAkAGQAOAAwAAADl/+f/5f/j/+r/8v/3//j//f8BAAQA/P/1//f/5f/r/wMACAD8/+j/4v/n/+v/7//0/wMABgDr/9b/4P/r/+//+P///wsADAD6//z/AQD9/wAACQATAPz/4//w//j/9P/w/xUAJgATAA4ACwADAAMAFgAtACgAEQAVACUAGAAAAPz/FQAZAAAA9//w//f////y//T//f/4/+3/6//3/+r/9/8AAPT//P/v//D////9//j//P8DAPj/4v/V/+D/6//g/+f/7f8BAA4ACQAYABUAEAAOAAMABgD///D/9f/0/+3/+v8JABEAFQADAAkAEwAJAAsAAAAAAAYAAQALAAYAGAArACYAMAAgABgAHgAjABYAAwAEAPj/9f8DABEAEwAEAPz/BgAOAA4AEQAOAAsACQAJABMACAABAAgACwAVAB0AEwAEAAsAEQARAP///f8hACgAEQD//wkAFgAMAAMADAAEAO//6//0//X/7f/0//3/7//l/+r/4//b/9b/3//0//X/9f8BAAkABgADAAkACQALAAwA///6//z///8OAAwA+v8AAAEAAAATABYAFgAWAAkACwAQABEAAwAJAB0AEQAOAAkACQAOAAQABgAMAAMAAAAAAPL/7f/8/wYACwAVABsAGQAEAPf/+v/9/wEA/f8DAAQA+v8IABEADgAIAAgADgAMABAACQAJAAEA9P/1/+v/9P8BAAkABgABABAAEAAMAAsA+P/3/wYAAQD6//j//P/4//z//P/q/+v/9//8/+v/2//T/83/1v/d/+L/6P/l/+D/4v/g/+j/5//Y/9j/3//j/+P/5f/v//T/8P/v/+//5f/l//D/7f/v//f/AwAVABEACQARAAkACAAEAPf/+P/9//z//f8OAAgA/f8BAPf/6v/q/+3/+v8QAAwABgD9//X/BAAAAAEABAD0/wQAEQADAAkAFgAMAAYACAADAAgAEwAZABMABgAQABgAEAAVAAQA/P8GAP3/BAD9//D//P/4//j///////3/9f///xMAEAAMAAwAAwAVACYAIAAYABEAGQAVAAgAFQALAP//CQAGAAQADgAVABYAHQAeACMAIQATABYAGAALAPz/6v/4/w4ABgD6//X/+P8MAAkA9f8AABMAEwAWABAAAwAEAAwADAAGAAMAAwAIAA4ACQAJABEACQD8////AwABAAgABgAJAP3/7//3//L/8v/9//3/6//v//f/9//6//X/8P/l/+//AwD3//f//f/6/wwAIAAdABEAEwAhACAADgAMABMAEAAJAAMACAAJAPz/AAD6//f////w//L////6//j/CAABAOj/6v/t//f/+P/v//T/5//g/+D/3//q//3/AAD8//L/8P////3///8BAO//6/8BABAADAD///f/9P/t/+//6//d/9r/4//n/+j/8v/v/+X/6P/w//X/6//v//j/AQAOABMAAwD6/wYAAQD9/wMA/f/0//D/AQAJAAQA//8AAPz/9f/8/wQAEwAdABkAIAAqABsACAALABMAEQAOAAwADAAMAA4ABgALABAAGAATAA4AGAD8//j//P/r//f/+v/4//D/2P/f/+//5//w//j/9P/9//3//P/6/+f/5//y//D/+P/4//L/5//d/+j/5//W/93/4P/f/+r/5f/o//L/6v/d/+D/6v/r/+r/8P/6//T/9f/8//X/8P/4/wkACwAIAAkACAAEAPz/+P///w4AEQADAPj/BgAVABgAIwAhACEALQAtAB0AIAAwACgAKwAyADgAMwArAC4AKwArADIAHQAOACAAEQAYACUAFgATAAkAFQAjACUAIwAVABEAJgAmABUAHQAhABEADgARAAYA8P/j/+3/+P/0//X/9//4//j/6v/q//3//f/w/+3/7//w/+r/4P/Y/+D/5f/f/+D/4//n/+X/4//g/+X/8P/v//X/+v/r/+f/6v/r//T/6//1/wgAAQD1//T/9f/3//z/AAD4//z/EQAZAAQABgATAAYADAAbABsADAAGAAsA///6/wAA+P/4/wYABAALAAkA9//0//D/6//1//z//f8DAPz/CQAJAP3////o//j/BgDw/+v/5//6/wwA/f/9/wYAAQD/////CQAJAPX/4//y/wEA/f/1/+//9//1//f//f/v//T/9P/g/+3/8P/4/xEAEQAVAAsA8P/i/+X/6v/w//3/AAD1/+3/8v/v/+f/7f/8/wMABAD6//X/AwABAPz/+v/t//T/+P/w/wEAAAD0//D/8v///wkAEAARABUAEQAIAAwADAABAPX/9P8BAAAA8v/y////CAD//xMAIAAQABsAGAAQABgADAAEAAsAEwATAAgACQAIAP3/+v////3/7//1/wMABgD6//j/AQD9/wYABADt//D/+P/3//X/8v/8/wQA/P/3//z/9f/d/9P/7//6//D/6//r/+r/6//y//D/9f/t/+X/6//n/+f/+P/8//X/CQARAAkACAADAAkABAAGAB4AJQAeABsAIAAjABkAEwAVAB4AHQAWABUAGwAjABgAGAATABAAJgAoACEAIQAeACoAKAAgACUAEwAbACYAFQAbABsACAARABMABAAAAPr/+v/y/+r/4v/Y/+L/6P/w/wgA///g/+f/6//v/wAA8v/1/wQA6v/f/+r/4v/n//D/9f/8/+3/8P/4//T///8EAAEA+v/8////8P/q//D/+P/4/wwADgD8/wkAAwD9/wgA//8BAAgACAAVAAsAAAARABUAEAAYAA4AAAAIAAMAAwAGAAsAEQAGAA4AEAAMAAwA9/8IABsA/f/1/wAAAwAQAAYA/P8MAAMA9//9////AAD6//X/+v/1/+r/8P/3////BgDy//D////6////CQALAAkA+v/4/wEA/f/8//z/+v8EAAwA///1//j//f/8////EwAOAA4AGQALAAYABgD4/wAACAAJAAAA7//3//r///8QABMAFgAbABAAEwARAAMAEAAbAAwACAAMAAAAAQABAOv/8P/n/93/5//r//z/+v/1//D/6v/q/+v/8P/6//X/6P/w/+3/0//V/+X/8P/y/+v/9P8DAPz/AQAVAAMA/f8MABMADgATABAACAATAA4ACQAAAP//FQAYAAsACAAGAAEACAAOAAMA+v8BAAkAAQAGAAgA9f/8//r/+v8OABAACwAEAAEACwALABEAFQALAAMABgAJAAEAAAABAAAA+P/1//r/BgARABAADgALAAwADAAAAAMAGAAWAAwAEwARAAwAEQAJAAsAHgAdAAQA/P8DABAAEAAQABkAFgAIAP3/9P/6/wMA8P/v/wQAAADy//z/AQAGAAYABAAIAAQACwAMAAkAEwAVABUAIQAbABYAFQAAAAEACAD6//z//P/w/+3/9P/t/+D/3//b/+//9//d/+X/6P/Y/87/zv/Y/+D/6P/f/9r/2v/a/+j/3//b/+3/7//q/9v/3f/g/83/yv/O/9L/4P/b/9D/3//q/+v/9f/r/+r/9f/o/+D/7//r/+D/5//q/+//9//v//f//P/1/wAAAQD0/+j/5f/r/+f/0v/V/9r/3//3//z/7f/4/wwA/P///xAA/f/1//3/+P/8/wYACwAVAA4AAwAEAAMADAAZAAgA9//1//r/DAARAAQA9//t////CwAOAB0AHQATAB0AKAAmACAAHgAgAC4ANQAwACsAIwAzADIAFgAOABAABAD6/wsAEwAEAAEAFgAQAPz//f/w//z/EAAQABYACwAGAAYAAQAMABEADgAJAAsAEQAIAAQABAAOABsADgADAPz/AQAIAAgACQAJAAwAEAAOABMABgABAAMA7f/y//3/9//6/xAAIQAZAA4ACAAJABAABAD//wEA9//q/+v/+P///wAA/P/4/wMABAD//////P///wEA9f/n/+r/5//3/w4AAQD1/+r/6P/t/+3/6v/r//L/6//6/wwAAQD//wAACAAdABkAGQAZABUAGAALAPj/BAAVABYADgAMAAkAAQALABAAHgAYAAQABgD4/wEAEQAJABAAFQAQABAAEwAOAAYA+v/3/wkACAAEAAgAAAAMABMAGQAbABUACwAEABUAIAAgABkAIQAoAA==\" type=\"audio/wav\" />\n",
              "                    Your browser does not support the audio element.\n",
              "                </audio>\n",
              "              "
            ]
          },
          "metadata": {}
        },
        {
          "output_type": "stream",
          "name": "stdout",
          "text": [
            "Label: on\n",
            "Waveform shape: (16000,)\n",
            "Spectrogram shape: (124, 129, 1)\n",
            "Audio playback\n"
          ]
        },
        {
          "output_type": "display_data",
          "data": {
            "text/plain": [
              "<IPython.lib.display.Audio object>"
            ],
            "text/html": [
              "\n",
              "                <audio  controls=\"controls\" >\n",
              "                    <source src=\"data:audio/wav;base64,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\" type=\"audio/wav\" />\n",
              "                    Your browser does not support the audio element.\n",
              "                </audio>\n",
              "              "
            ]
          },
          "metadata": {}
        },
        {
          "output_type": "stream",
          "name": "stdout",
          "text": [
            "Label: stop\n",
            "Waveform shape: (16000,)\n",
            "Spectrogram shape: (124, 129, 1)\n",
            "Audio playback\n"
          ]
        },
        {
          "output_type": "display_data",
          "data": {
            "text/plain": [
              "<IPython.lib.display.Audio object>"
            ],
            "text/html": [
              "\n",
              "                <audio  controls=\"controls\" >\n",
              "                    <source src=\"data:audio/wav;base64,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\" type=\"audio/wav\" />\n",
              "                    Your browser does not support the audio element.\n",
              "                </audio>\n",
              "              "
            ]
          },
          "metadata": {}
        }
      ],
      "source": [
        "for example in ds_train.take(3):\n",
        "    label = class_names[example[1]]\n",
        "    waveform = example[0].numpy()/32678.0\n",
        "    spectrogram = get_spectrogram(waveform)\n",
        "\n",
        "    print('Label:', label)\n",
        "    print('Waveform shape:', waveform.shape)\n",
        "    print('Spectrogram shape:', spectrogram.shape)\n",
        "    print('Audio playback')\n",
        "    display.display(display.Audio(waveform, rate=16000))"
      ]
    },
    {
      "cell_type": "markdown",
      "id": "f7acb580",
      "metadata": {
        "id": "f7acb580"
      },
      "source": [
        "Plot spectrogram"
      ]
    },
    {
      "cell_type": "code",
      "execution_count": 19,
      "id": "4d35143c",
      "metadata": {
        "id": "4d35143c"
      },
      "outputs": [],
      "source": [
        "def plot_spectrogram(spectrogram, ax):\n",
        "    if len(spectrogram.shape) > 2:\n",
        "        assert len(spectrogram.shape) == 3\n",
        "        spectrogram = np.squeeze(spectrogram, axis=-1)\n",
        "    # Convert the frequencies to log scale and transpose, so that the time is\n",
        "    # represented on the x-axis (columns).\n",
        "    # Add an epsilon to avoid taking a log of zero.\n",
        "    log_spec = np.log(spectrogram.T + np.finfo(float).eps)\n",
        "    height = log_spec.shape[0]\n",
        "    width = log_spec.shape[1]\n",
        "    X = np.linspace(0, np.size(spectrogram), num=width, dtype=int)\n",
        "    Y = range(height)\n",
        "    ax.pcolormesh(X, Y, log_spec)"
      ]
    },
    {
      "cell_type": "code",
      "execution_count": 25,
      "id": "46ef307e",
      "metadata": {
        "id": "46ef307e",
        "colab": {
          "base_uri": "https://localhost:8080/",
          "height": 540
        },
        "outputId": "6a38b7ed-6fef-4fb0-a7ed-f987a5fee124"
      },
      "outputs": [
        {
          "output_type": "display_data",
          "data": {
            "text/plain": [
              "<Figure size 864x576 with 2 Axes>"
            ],
            "image/png": "[encoded data removed]"
          },
          "metadata": {
            "needs_background": "light"
          }
        }
      ],
      "source": [
        "fig, axes = plt.subplots(2, figsize=(12, 8))\n",
        "timescale = np.arange(waveform.shape[0])\n",
        "axes[0].plot(timescale, waveform)\n",
        "axes[0].set_title('Waveform')\n",
        "axes[0].set_xlim([0, 16000])\n",
        "axes[0].set_ylim([-1, 1])\n",
        "\n",
        "plot_spectrogram(spectrogram.numpy(), axes[1])\n",
        "axes[1].set_title('Spectrogram')\n",
        "plt.suptitle(label.title())\n",
        "plt.show()"
      ]
    },
    {
      "cell_type": "markdown",
      "source": [
        "Create spectrogram from the audio datasets"
      ],
      "metadata": {
        "id": "NJFBrrXpNe5G"
      },
      "id": "NJFBrrXpNe5G"
    },
    {
      "cell_type": "code",
      "source": [
        "def normalize_ds(ds):\n",
        "    return ds.map(\n",
        "        map_func=lambda audio, label: (tf.cast(audio, dtype='float32')/ 32678.0, label),\n",
        "        num_parallel_calls=tf.data.AUTOTUNE,\n",
        "        )\n",
        "def make_spec_ds(ds):\n",
        "  return ds.map(\n",
        "      map_func=lambda audio,label: (get_spectrogram(audio), label),\n",
        "      num_parallel_calls=tf.data.AUTOTUNE,\n",
        "      )"
      ],
      "metadata": {
        "id": "_CO4O9cyNkBt"
      },
      "id": "_CO4O9cyNkBt",
      "execution_count": 29,
      "outputs": []
    },
    {
      "cell_type": "code",
      "source": [
        "ds_train = normalize_ds(ds_train)\n",
        "ds_val = normalize_ds(ds_val)\n",
        "ds_test = normalize_ds(ds_test)\n"
      ],
      "metadata": {
        "id": "H0ctIfIoPYcy"
      },
      "id": "H0ctIfIoPYcy",
      "execution_count": 32,
      "outputs": []
    },
    {
      "cell_type": "code",
      "source": [
        "train_spectrogram_ds = make_spec_ds(ds_train)\n",
        "val_spectrogram_ds = make_spec_ds(ds_val)\n",
        "test_spectrogram_ds = make_spec_ds(ds_test)\n",
        "\n",
        "# batch\n",
        "train_spectrogram_ds = train_spectrogram_ds.batch(5)"
      ],
      "metadata": {
        "id": "8SaIw-lOOPYl"
      },
      "id": "8SaIw-lOOPYl",
      "execution_count": 33,
      "outputs": []
    },
    {
      "cell_type": "code",
      "source": [
        "for example_spectrograms, example_spect_labels in train_spectrogram_ds.take(1):\n",
        "  break"
      ],
      "metadata": {
        "id": "cSZoKQrvOaDz"
      },
      "id": "cSZoKQrvOaDz",
      "execution_count": 34,
      "outputs": []
    },
    {
      "cell_type": "code",
      "source": [
        "rows = 3\n",
        "cols = 3\n",
        "n = rows*cols\n",
        "fig, axes = plt.subplots(rows, cols, figsize=(16, 9))\n",
        "\n",
        "for i in range(n):\n",
        "    r = i // cols\n",
        "    c = i % cols\n",
        "    ax = axes[r][c]\n",
        "    plot_spectrogram(example_spectrograms[i].numpy(), ax)\n",
        "    ax.set_title(commands[example_spect_labels[i].numpy()])\n",
        "\n",
        "plt.show()"
      ],
      "metadata": {
        "id": "eZz91tmqQOpe",
        "colab": {
          "base_uri": "https://localhost:8080/",
          "height": 873
        },
        "outputId": "bf5b5a92-341d-40f3-b1f0-2f506cf152d4"
      },
      "id": "eZz91tmqQOpe",
      "execution_count": 35,
      "outputs": [
        {
          "output_type": "error",
          "ename": "InvalidArgumentError",
          "evalue": "ignored",
          "traceback": [
            "\u001b[0;31m---------------------------------------------------------------------------\u001b[0m",
            "\u001b[0;31mInvalidArgumentError\u001b[0m                      Traceback (most recent call last)",
            "\u001b[0;32m<ipython-input-35-cd5e7d9f8683>\u001b[0m in \u001b[0;36m<module>\u001b[0;34m\u001b[0m\n\u001b[1;32m      9\u001b[0m     \u001b[0max\u001b[0m \u001b[0;34m=\u001b[0m \u001b[0maxes\u001b[0m\u001b[0;34m[\u001b[0m\u001b[0mr\u001b[0m\u001b[0;34m]\u001b[0m\u001b[0;34m[\u001b[0m\u001b[0mc\u001b[0m\u001b[0;34m]\u001b[0m\u001b[0;34m\u001b[0m\u001b[0;34m\u001b[0m\u001b[0m\n\u001b[1;32m     10\u001b[0m     \u001b[0mplot_spectrogram\u001b[0m\u001b[0;34m(\u001b[0m\u001b[0mexample_spectrograms\u001b[0m\u001b[0;34m[\u001b[0m\u001b[0mi\u001b[0m\u001b[0;34m]\u001b[0m\u001b[0;34m.\u001b[0m\u001b[0mnumpy\u001b[0m\u001b[0;34m(\u001b[0m\u001b[0;34m)\u001b[0m\u001b[0;34m,\u001b[0m \u001b[0max\u001b[0m\u001b[0;34m)\u001b[0m\u001b[0;34m\u001b[0m\u001b[0;34m\u001b[0m\u001b[0m\n\u001b[0;32m---> 11\u001b[0;31m     \u001b[0max\u001b[0m\u001b[0;34m.\u001b[0m\u001b[0mset_title\u001b[0m\u001b[0;34m(\u001b[0m\u001b[0mcommands\u001b[0m\u001b[0;34m[\u001b[0m\u001b[0mexample_spect_labels\u001b[0m\u001b[0;34m[\u001b[0m\u001b[0mi\u001b[0m\u001b[0;34m]\u001b[0m\u001b[0;34m.\u001b[0m\u001b[0mnumpy\u001b[0m\u001b[0;34m(\u001b[0m\u001b[0;34m)\u001b[0m\u001b[0;34m]\u001b[0m\u001b[0;34m)\u001b[0m\u001b[0;34m\u001b[0m\u001b[0;34m\u001b[0m\u001b[0m\n\u001b[0m\u001b[1;32m     12\u001b[0m \u001b[0;34m\u001b[0m\u001b[0m\n\u001b[1;32m     13\u001b[0m \u001b[0mplt\u001b[0m\u001b[0;34m.\u001b[0m\u001b[0mshow\u001b[0m\u001b[0;34m(\u001b[0m\u001b[0;34m)\u001b[0m\u001b[0;34m\u001b[0m\u001b[0;34m\u001b[0m\u001b[0m\n",
            "\u001b[0;32m/usr/local/lib/python3.7/dist-packages/tensorflow/python/util/traceback_utils.py\u001b[0m in \u001b[0;36merror_handler\u001b[0;34m(*args, **kwargs)\u001b[0m\n\u001b[1;32m    151\u001b[0m     \u001b[0;32mexcept\u001b[0m \u001b[0mException\u001b[0m \u001b[0;32mas\u001b[0m \u001b[0me\u001b[0m\u001b[0;34m:\u001b[0m\u001b[0;34m\u001b[0m\u001b[0;34m\u001b[0m\u001b[0m\n\u001b[1;32m    152\u001b[0m       \u001b[0mfiltered_tb\u001b[0m \u001b[0;34m=\u001b[0m \u001b[0m_process_traceback_frames\u001b[0m\u001b[0;34m(\u001b[0m\u001b[0me\u001b[0m\u001b[0;34m.\u001b[0m\u001b[0m__traceback__\u001b[0m\u001b[0;34m)\u001b[0m\u001b[0;34m\u001b[0m\u001b[0;34m\u001b[0m\u001b[0m\n\u001b[0;32m--> 153\u001b[0;31m       \u001b[0;32mraise\u001b[0m \u001b[0me\u001b[0m\u001b[0;34m.\u001b[0m\u001b[0mwith_traceback\u001b[0m\u001b[0;34m(\u001b[0m\u001b[0mfiltered_tb\u001b[0m\u001b[0;34m)\u001b[0m \u001b[0;32mfrom\u001b[0m \u001b[0;32mNone\u001b[0m\u001b[0;34m\u001b[0m\u001b[0;34m\u001b[0m\u001b[0m\n\u001b[0m\u001b[1;32m    154\u001b[0m     \u001b[0;32mfinally\u001b[0m\u001b[0;34m:\u001b[0m\u001b[0;34m\u001b[0m\u001b[0;34m\u001b[0m\u001b[0m\n\u001b[1;32m    155\u001b[0m       \u001b[0;32mdel\u001b[0m \u001b[0mfiltered_tb\u001b[0m\u001b[0;34m\u001b[0m\u001b[0;34m\u001b[0m\u001b[0m\n",
            "\u001b[0;32m/usr/local/lib/python3.7/dist-packages/tensorflow/python/framework/ops.py\u001b[0m in \u001b[0;36mraise_from_not_ok_status\u001b[0;34m(e, name)\u001b[0m\n\u001b[1;32m   7162\u001b[0m \u001b[0;32mdef\u001b[0m \u001b[0mraise_from_not_ok_status\u001b[0m\u001b[0;34m(\u001b[0m\u001b[0me\u001b[0m\u001b[0;34m,\u001b[0m \u001b[0mname\u001b[0m\u001b[0;34m)\u001b[0m\u001b[0;34m:\u001b[0m\u001b[0;34m\u001b[0m\u001b[0;34m\u001b[0m\u001b[0m\n\u001b[1;32m   7163\u001b[0m   \u001b[0me\u001b[0m\u001b[0;34m.\u001b[0m\u001b[0mmessage\u001b[0m \u001b[0;34m+=\u001b[0m \u001b[0;34m(\u001b[0m\u001b[0;34m\" name: \"\u001b[0m \u001b[0;34m+\u001b[0m \u001b[0mname\u001b[0m \u001b[0;32mif\u001b[0m \u001b[0mname\u001b[0m \u001b[0;32mis\u001b[0m \u001b[0;32mnot\u001b[0m \u001b[0;32mNone\u001b[0m \u001b[0;32melse\u001b[0m \u001b[0;34m\"\"\u001b[0m\u001b[0;34m)\u001b[0m\u001b[0;34m\u001b[0m\u001b[0;34m\u001b[0m\u001b[0m\n\u001b[0;32m-> 7164\u001b[0;31m   \u001b[0;32mraise\u001b[0m \u001b[0mcore\u001b[0m\u001b[0;34m.\u001b[0m\u001b[0m_status_to_exception\u001b[0m\u001b[0;34m(\u001b[0m\u001b[0me\u001b[0m\u001b[0;34m)\u001b[0m \u001b[0;32mfrom\u001b[0m \u001b[0;32mNone\u001b[0m  \u001b[0;31m# pylint: disable=protected-access\u001b[0m\u001b[0;34m\u001b[0m\u001b[0;34m\u001b[0m\u001b[0m\n\u001b[0m\u001b[1;32m   7165\u001b[0m \u001b[0;34m\u001b[0m\u001b[0m\n\u001b[1;32m   7166\u001b[0m \u001b[0;34m\u001b[0m\u001b[0m\n",
            "\u001b[0;31mInvalidArgumentError\u001b[0m: Index out of range using input dim 0; input has only 0 dims [Op:StridedSlice] name: strided_slice/"
          ]
        },
        {
          "output_type": "display_data",
          "data": {
            "text/plain": [
              "<Figure size 1152x648 with 9 Axes>"
            ],
            "image/png": "[encoded data removed]"
          },
          "metadata": {
            "needs_background": "light"
          }
        }
      ]
    },
    {
      "cell_type": "markdown",
      "source": [
        "## Create Model"
      ],
      "metadata": {
        "id": "ghpR_64uQVlh"
      },
      "id": "ghpR_64uQVlh"
    },
    {
      "cell_type": "code",
      "source": [
        "train_spectrogram_ds = train_spectrogram_ds.cache().shuffle(10000).prefetch(tf.data.AUTOTUNE)\n",
        "val_spectrogram_ds = val_spectrogram_ds.cache().prefetch(tf.data.AUTOTUNE)\n",
        "test_spectrogram_ds = test_spectrogram_ds.cache().prefetch(tf.data.AUTOTUNE)"
      ],
      "metadata": {
        "id": "E0Dc3eGtVbA0"
      },
      "id": "E0Dc3eGtVbA0",
      "execution_count": null,
      "outputs": []
    },
    {
      "cell_type": "code",
      "source": [
        "# Define input shape\n",
        "input_shape = example_spectrograms.shape[1:]\n",
        "print(\"input shape: {}\".format(input_shape))\n",
        "num_labels = len(commands)\n",
        "\n",
        "# Normalize layer\n",
        "norm_layer = tf.keras.layers.Normalization()\n",
        "# Normalizaiton layer according to the data that is available\n",
        "norm_layer.adapt(data=train_spectrogram_ds.map(lambda spec, label: spec))\n",
        "\n",
        "# CNN Model\n",
        "def one_cnn_model(input_shape):\n",
        "    return tf.keras.models.Sequential([\n",
        "        tf.keras.layers.Input(shape=input_shape),\n",
        "        # resize\n",
        "        tf.keras.layers.Resizing(32, 32),\n",
        "        # normalize\n",
        "        norm_layer,\n",
        "        tf.keras.layers.Conv2D(filters=32, kernel_size=(3,3), activation='relu'),\n",
        "        tf.keras.layers.MaxPooling2D(),\n",
        "        tf.keras.layers.Flatten(),\n",
        "        tf.keras.layers.Dense(128, activation='relu'),\n",
        "        tf.keras.layers.Dense(num_labels, activation='softmax')\n",
        "    ], name='cnn_model')\n",
        "\n",
        "def two_cnn_model(input_shape):\n",
        "    return tf.keras.models.Sequential([\n",
        "        tf.keras.layers.Input(shape=input_shape),\n",
        "        # resize\n",
        "        tf.keras.layers.Resizing(32, 32),\n",
        "        # normalize\n",
        "        norm_layer,\n",
        "        tf.keras.layers.Conv2D(filters=32, kernel_size=(3,3), activation='relu'),\n",
        "        tf.keras.layers.Conv2D(filters=64, kernel_size=(3,3), activation='relu'),\n",
        "        tf.keras.layers.MaxPooling2D(),\n",
        "        tf.keras.layers.Flatten(),\n",
        "        tf.keras.layers.Dropout(0.5),\n",
        "        tf.keras.layers.Dense(128, activation='relu'),\n",
        "        tf.keras.layers.Dropout(0.5),\n",
        "        tf.keras.layers.Dense(num_labels, activation='softmax')\n",
        "    ], name='cnn_model')"
      ],
      "metadata": {
        "id": "axhOp-I8f8G8",
        "outputId": "3f003a24-d578-4eb7-80f6-269a21344945",
        "colab": {
          "base_uri": "https://localhost:8080/"
        }
      },
      "id": "axhOp-I8f8G8",
      "execution_count": null,
      "outputs": [
        {
          "output_type": "stream",
          "name": "stdout",
          "text": [
            "input shape: (124, 129, 1)\n"
          ]
        }
      ]
    },
    {
      "cell_type": "code",
      "source": [
        "model = two_cnn_model(input_shape)\n",
        "model.summary()"
      ],
      "metadata": {
        "id": "zrgWZBsLQgMp",
        "colab": {
          "base_uri": "https://localhost:8080/"
        },
        "outputId": "72e60ef1-ecc9-494a-f13f-831d3c67e84a"
      },
      "id": "zrgWZBsLQgMp",
      "execution_count": null,
      "outputs": [
        {
          "output_type": "stream",
          "name": "stdout",
          "text": [
            "Model: \"cnn_model\"\n",
            "_________________________________________________________________\n",
            " Layer (type)                Output Shape              Param #   \n",
            "=================================================================\n",
            " resizing_7 (Resizing)       (None, 32, 32, 1)         0         \n",
            "                                                                 \n",
            " normalization_7 (Normalizat  (None, 32, 32, 1)        3         \n",
            " ion)                                                            \n",
            "                                                                 \n",
            " conv2d_12 (Conv2D)          (None, 30, 30, 32)        320       \n",
            "                                                                 \n",
            " conv2d_13 (Conv2D)          (None, 28, 28, 64)        18496     \n",
            "                                                                 \n",
            " max_pooling2d_9 (MaxPooling  (None, 14, 14, 64)       0         \n",
            " 2D)                                                             \n",
            "                                                                 \n",
            " flatten_7 (Flatten)         (None, 12544)             0         \n",
            "                                                                 \n",
            " dropout_8 (Dropout)         (None, 12544)             0         \n",
            "                                                                 \n",
            " dense_14 (Dense)            (None, 128)               1605760   \n",
            "                                                                 \n",
            " dropout_9 (Dropout)         (None, 128)               0         \n",
            "                                                                 \n",
            " dense_15 (Dense)            (None, 8)                 1032      \n",
            "                                                                 \n",
            "=================================================================\n",
            "Total params: 1,625,611\n",
            "Trainable params: 1,625,608\n",
            "Non-trainable params: 3\n",
            "_________________________________________________________________\n"
          ]
        }
      ]
    },
    {
      "cell_type": "code",
      "source": [
        "# compile model\n",
        "model.compile(\n",
        "    optimizer=tf.keras.optimizers.Adam(),\n",
        "    loss=tf.keras.losses.SparseCategoricalCrossentropy(from_logits=False),\n",
        "    metrics=['accuracy']\n",
        ")"
      ],
      "metadata": {
        "id": "LGUj9Jo_Q_rS"
      },
      "id": "LGUj9Jo_Q_rS",
      "execution_count": null,
      "outputs": []
    },
    {
      "cell_type": "code",
      "source": [
        "EPOCHS = 20\n",
        "CALLBACKS = [\n",
        "    tf.keras.callbacks.EarlyStopping(\n",
        "        monitor='val_loss', \n",
        "        patience=2,\n",
        "        verbose=2,\n",
        "    ),\n",
        "    tf.keras.callbacks.ModelCheckpoint(\n",
        "         filepath=model.name, \n",
        "         monitor='val_accuracy',\n",
        "         save_best_only=True,\n",
        "         mode='max',\n",
        "         verbose=2,\n",
        "    ),\n",
        "]\n",
        "history = model.fit(\n",
        "    train_spectrogram_ds,\n",
        "    validation_data=val_spectrogram_ds,\n",
        "    epochs=EPOCHS,\n",
        "    callbacks=CALLBACKS,\n",
        ")"
      ],
      "metadata": {
        "id": "nnMzZRJrUrWL",
        "colab": {
          "base_uri": "https://localhost:8080/"
        },
        "outputId": "57761ba6-2f40-4367-a5c9-9f3d4e53026f"
      },
      "id": "nnMzZRJrUrWL",
      "execution_count": null,
      "outputs": [
        {
          "output_type": "stream",
          "name": "stdout",
          "text": [
            "Epoch 1/20\n",
            " 98/100 [============================>.] - ETA: 0s - loss: 1.7982 - accuracy: 0.3490\n",
            "Epoch 1: val_accuracy improved from -inf to 0.55990, saving model to cnn_model\n"
          ]
        },
        {
          "output_type": "stream",
          "name": "stderr",
          "text": [
            "WARNING:absl:Found untraced functions such as _jit_compiled_convolution_op, _jit_compiled_convolution_op while saving (showing 2 of 2). These functions will not be directly callable after loading.\n"
          ]
        },
        {
          "output_type": "stream",
          "name": "stdout",
          "text": [
            "\b\b\b\b\b\b\b\b\b\b\b\b\b\b\b\b\b\b\b\b\b\b\b\b\b\b\b\b\b\b\b\b\b\b\b\b\b\b\b\b\b\b\b\b\b\b\b\b\b\b\b\b\b\b\b\b\b\b\b\b\b\b\b\b\b\b\b\b\b\b\b\b\b\b\b\b\b\b\b\b\b\b\b\b\r100/100 [==============================] - 7s 38ms/step - loss: 1.7949 - accuracy: 0.3498 - val_loss: 1.4046 - val_accuracy: 0.5599\n",
            "Epoch 2/20\n",
            " 93/100 [==========================>...] - ETA: 0s - loss: 1.3039 - accuracy: 0.5358\n",
            "Epoch 2: val_accuracy improved from 0.55990 to 0.66797, saving model to cnn_model\n"
          ]
        },
        {
          "output_type": "stream",
          "name": "stderr",
          "text": [
            "WARNING:absl:Found untraced functions such as _jit_compiled_convolution_op, _jit_compiled_convolution_op while saving (showing 2 of 2). These functions will not be directly callable after loading.\n"
          ]
        },
        {
          "output_type": "stream",
          "name": "stdout",
          "text": [
            "\b\b\b\b\b\b\b\b\b\b\b\b\b\b\b\b\b\b\b\b\b\b\b\b\b\b\b\b\b\b\b\b\b\b\b\b\b\b\b\b\b\b\b\b\b\b\b\b\b\b\b\b\b\b\b\b\b\b\b\b\b\b\b\b\b\b\b\b\b\b\b\b\b\b\b\b\b\b\b\b\b\b\b\b\r100/100 [==============================] - 2s 19ms/step - loss: 1.2932 - accuracy: 0.5378 - val_loss: 1.0555 - val_accuracy: 0.6680\n",
            "Epoch 3/20\n",
            " 95/100 [===========================>..] - ETA: 0s - loss: 1.0023 - accuracy: 0.6400\n",
            "Epoch 3: val_accuracy improved from 0.66797 to 0.75000, saving model to cnn_model\n"
          ]
        },
        {
          "output_type": "stream",
          "name": "stderr",
          "text": [
            "WARNING:absl:Found untraced functions such as _jit_compiled_convolution_op, _jit_compiled_convolution_op while saving (showing 2 of 2). These functions will not be directly callable after loading.\n"
          ]
        },
        {
          "output_type": "stream",
          "name": "stdout",
          "text": [
            "\b\b\b\b\b\b\b\b\b\b\b\b\b\b\b\b\b\b\b\b\b\b\b\b\b\b\b\b\b\b\b\b\b\b\b\b\b\b\b\b\b\b\b\b\b\b\b\b\b\b\b\b\b\b\b\b\b\b\b\b\b\b\b\b\b\b\b\b\b\b\b\b\b\b\b\b\b\b\b\b\b\b\b\b\r100/100 [==============================] - 2s 19ms/step - loss: 1.0070 - accuracy: 0.6389 - val_loss: 0.8234 - val_accuracy: 0.7500\n",
            "Epoch 4/20\n",
            " 93/100 [==========================>...] - ETA: 0s - loss: 0.8569 - accuracy: 0.6977\n",
            "Epoch 4: val_accuracy improved from 0.75000 to 0.76953, saving model to cnn_model\n"
          ]
        },
        {
          "output_type": "stream",
          "name": "stderr",
          "text": [
            "WARNING:absl:Found untraced functions such as _jit_compiled_convolution_op, _jit_compiled_convolution_op while saving (showing 2 of 2). These functions will not be directly callable after loading.\n"
          ]
        },
        {
          "output_type": "stream",
          "name": "stdout",
          "text": [
            "\b\b\b\b\b\b\b\b\b\b\b\b\b\b\b\b\b\b\b\b\b\b\b\b\b\b\b\b\b\b\b\b\b\b\b\b\b\b\b\b\b\b\b\b\b\b\b\b\b\b\b\b\b\b\b\b\b\b\b\b\b\b\b\b\b\b\b\b\b\b\b\b\b\b\b\b\b\b\b\b\b\b\b\b\r100/100 [==============================] - 2s 18ms/step - loss: 0.8515 - accuracy: 0.6977 - val_loss: 0.7261 - val_accuracy: 0.7695\n",
            "Epoch 5/20\n",
            " 95/100 [===========================>..] - ETA: 0s - loss: 0.7353 - accuracy: 0.7354\n",
            "Epoch 5: val_accuracy improved from 0.76953 to 0.78776, saving model to cnn_model\n"
          ]
        },
        {
          "output_type": "stream",
          "name": "stderr",
          "text": [
            "WARNING:absl:Found untraced functions such as _jit_compiled_convolution_op, _jit_compiled_convolution_op while saving (showing 2 of 2). These functions will not be directly callable after loading.\n"
          ]
        },
        {
          "output_type": "stream",
          "name": "stdout",
          "text": [
            "\b\b\b\b\b\b\b\b\b\b\b\b\b\b\b\b\b\b\b\b\b\b\b\b\b\b\b\b\b\b\b\b\b\b\b\b\b\b\b\b\b\b\b\b\b\b\b\b\b\b\b\b\b\b\b\b\b\b\b\b\b\b\b\b\b\b\b\b\b\b\b\b\b\b\b\b\b\b\b\b\b\b\b\b\r100/100 [==============================] - 2s 18ms/step - loss: 0.7369 - accuracy: 0.7356 - val_loss: 0.6942 - val_accuracy: 0.7878\n",
            "Epoch 6/20\n",
            " 95/100 [===========================>..] - ETA: 0s - loss: 0.6652 - accuracy: 0.7597\n",
            "Epoch 6: val_accuracy improved from 0.78776 to 0.80729, saving model to cnn_model\n"
          ]
        },
        {
          "output_type": "stream",
          "name": "stderr",
          "text": [
            "WARNING:absl:Found untraced functions such as _jit_compiled_convolution_op, _jit_compiled_convolution_op while saving (showing 2 of 2). These functions will not be directly callable after loading.\n"
          ]
        },
        {
          "output_type": "stream",
          "name": "stdout",
          "text": [
            "\b\b\b\b\b\b\b\b\b\b\b\b\b\b\b\b\b\b\b\b\b\b\b\b\b\b\b\b\b\b\b\b\b\b\b\b\b\b\b\b\b\b\b\b\b\b\b\b\b\b\b\b\b\b\b\b\b\b\b\b\b\b\b\b\b\b\b\b\b\b\b\b\b\b\b\b\b\b\b\b\b\b\b\b\r100/100 [==============================] - 2s 21ms/step - loss: 0.6641 - accuracy: 0.7602 - val_loss: 0.6186 - val_accuracy: 0.8073\n",
            "Epoch 7/20\n",
            " 97/100 [============================>.] - ETA: 0s - loss: 0.5985 - accuracy: 0.7811\n",
            "Epoch 7: val_accuracy improved from 0.80729 to 0.82161, saving model to cnn_model\n"
          ]
        },
        {
          "output_type": "stream",
          "name": "stderr",
          "text": [
            "WARNING:absl:Found untraced functions such as _jit_compiled_convolution_op, _jit_compiled_convolution_op while saving (showing 2 of 2). These functions will not be directly callable after loading.\n"
          ]
        },
        {
          "output_type": "stream",
          "name": "stdout",
          "text": [
            "\b\b\b\b\b\b\b\b\b\b\b\b\b\b\b\b\b\b\b\b\b\b\b\b\b\b\b\b\b\b\b\b\b\b\b\b\b\b\b\b\b\b\b\b\b\b\b\b\b\b\b\b\b\b\b\b\b\b\b\b\b\b\b\b\b\b\b\b\b\b\b\b\b\b\b\b\b\b\b\b\b\b\b\b\r100/100 [==============================] - 2s 18ms/step - loss: 0.5957 - accuracy: 0.7833 - val_loss: 0.5620 - val_accuracy: 0.8216\n",
            "Epoch 8/20\n",
            " 99/100 [============================>.] - ETA: 0s - loss: 0.5525 - accuracy: 0.8021\n",
            "Epoch 8: val_accuracy improved from 0.82161 to 0.82422, saving model to cnn_model\n"
          ]
        },
        {
          "output_type": "stream",
          "name": "stderr",
          "text": [
            "WARNING:absl:Found untraced functions such as _jit_compiled_convolution_op, _jit_compiled_convolution_op while saving (showing 2 of 2). These functions will not be directly callable after loading.\n"
          ]
        },
        {
          "output_type": "stream",
          "name": "stdout",
          "text": [
            "\b\b\b\b\b\b\b\b\b\b\b\b\b\b\b\b\b\b\b\b\b\b\b\b\b\b\b\b\b\b\b\b\b\b\b\b\b\b\b\b\b\b\b\b\b\b\b\b\b\b\b\b\b\b\b\b\b\b\b\b\b\b\b\b\b\b\b\b\b\b\b\b\b\b\b\b\b\b\b\b\b\b\b\b\r100/100 [==============================] - 2s 19ms/step - loss: 0.5515 - accuracy: 0.8027 - val_loss: 0.5535 - val_accuracy: 0.8242\n",
            "Epoch 9/20\n",
            " 93/100 [==========================>...] - ETA: 0s - loss: 0.4898 - accuracy: 0.8261\n",
            "Epoch 9: val_accuracy improved from 0.82422 to 0.83073, saving model to cnn_model\n"
          ]
        },
        {
          "output_type": "stream",
          "name": "stderr",
          "text": [
            "WARNING:absl:Found untraced functions such as _jit_compiled_convolution_op, _jit_compiled_convolution_op while saving (showing 2 of 2). These functions will not be directly callable after loading.\n"
          ]
        },
        {
          "output_type": "stream",
          "name": "stdout",
          "text": [
            "\b\b\b\b\b\b\b\b\b\b\b\b\b\b\b\b\b\b\b\b\b\b\b\b\b\b\b\b\b\b\b\b\b\b\b\b\b\b\b\b\b\b\b\b\b\b\b\b\b\b\b\b\b\b\b\b\b\b\b\b\b\b\b\b\b\b\b\b\b\b\b\b\b\b\b\b\b\b\b\b\b\b\b\b\r100/100 [==============================] - 2s 19ms/step - loss: 0.4910 - accuracy: 0.8247 - val_loss: 0.5186 - val_accuracy: 0.8307\n",
            "Epoch 10/20\n",
            "100/100 [==============================] - ETA: 0s - loss: 0.4731 - accuracy: 0.8339\n",
            "Epoch 10: val_accuracy improved from 0.83073 to 0.83984, saving model to cnn_model\n"
          ]
        },
        {
          "output_type": "stream",
          "name": "stderr",
          "text": [
            "WARNING:absl:Found untraced functions such as _jit_compiled_convolution_op, _jit_compiled_convolution_op while saving (showing 2 of 2). These functions will not be directly callable after loading.\n"
          ]
        },
        {
          "output_type": "stream",
          "name": "stdout",
          "text": [
            "\b\b\b\b\b\b\b\b\b\b\b\b\b\b\b\b\b\b\b\b\b\b\b\b\b\b\b\b\b\b\b\b\b\b\b\b\b\b\b\b\b\b\b\b\b\b\b\b\b\b\b\b\b\b\b\b\b\b\b\b\b\b\b\b\b\b\b\b\b\b\b\b\b\b\b\b\b\b\b\b\b\b\b\b\r100/100 [==============================] - 2s 19ms/step - loss: 0.4731 - accuracy: 0.8339 - val_loss: 0.5194 - val_accuracy: 0.8398\n",
            "Epoch 11/20\n",
            " 99/100 [============================>.] - ETA: 0s - loss: 0.4309 - accuracy: 0.8485\n",
            "Epoch 11: val_accuracy improved from 0.83984 to 0.85286, saving model to cnn_model\n"
          ]
        },
        {
          "output_type": "stream",
          "name": "stderr",
          "text": [
            "WARNING:absl:Found untraced functions such as _jit_compiled_convolution_op, _jit_compiled_convolution_op while saving (showing 2 of 2). These functions will not be directly callable after loading.\n"
          ]
        },
        {
          "output_type": "stream",
          "name": "stdout",
          "text": [
            "\b\b\b\b\b\b\b\b\b\b\b\b\b\b\b\b\b\b\b\b\b\b\b\b\b\b\b\b\b\b\b\b\b\b\b\b\b\b\b\b\b\b\b\b\b\b\b\b\b\b\b\b\b\b\b\b\b\b\b\b\b\b\b\b\b\b\b\b\b\b\b\b\b\b\b\b\b\b\b\b\b\b\b\b\r100/100 [==============================] - 2s 21ms/step - loss: 0.4306 - accuracy: 0.8484 - val_loss: 0.4794 - val_accuracy: 0.8529\n",
            "Epoch 12/20\n",
            " 93/100 [==========================>...] - ETA: 0s - loss: 0.4013 - accuracy: 0.8548\n",
            "Epoch 12: val_accuracy did not improve from 0.85286\n",
            "100/100 [==============================] - 1s 7ms/step - loss: 0.4024 - accuracy: 0.8541 - val_loss: 0.4718 - val_accuracy: 0.8503\n",
            "Epoch 13/20\n",
            " 93/100 [==========================>...] - ETA: 0s - loss: 0.3778 - accuracy: 0.8634\n",
            "Epoch 13: val_accuracy improved from 0.85286 to 0.86198, saving model to cnn_model\n"
          ]
        },
        {
          "output_type": "stream",
          "name": "stderr",
          "text": [
            "WARNING:absl:Found untraced functions such as _jit_compiled_convolution_op, _jit_compiled_convolution_op while saving (showing 2 of 2). These functions will not be directly callable after loading.\n"
          ]
        },
        {
          "output_type": "stream",
          "name": "stdout",
          "text": [
            "\b\b\b\b\b\b\b\b\b\b\b\b\b\b\b\b\b\b\b\b\b\b\b\b\b\b\b\b\b\b\b\b\b\b\b\b\b\b\b\b\b\b\b\b\b\b\b\b\b\b\b\b\b\b\b\b\b\b\b\b\b\b\b\b\b\b\b\b\b\b\b\b\b\b\b\b\b\b\b\b\b\b\b\b\r100/100 [==============================] - 2s 18ms/step - loss: 0.3832 - accuracy: 0.8600 - val_loss: 0.4277 - val_accuracy: 0.8620\n",
            "Epoch 14/20\n",
            " 93/100 [==========================>...] - ETA: 0s - loss: 0.3762 - accuracy: 0.8700\n",
            "Epoch 14: val_accuracy did not improve from 0.86198\n",
            "100/100 [==============================] - 1s 7ms/step - loss: 0.3810 - accuracy: 0.8670 - val_loss: 0.4328 - val_accuracy: 0.8581\n",
            "Epoch 15/20\n",
            " 96/100 [===========================>..] - ETA: 0s - loss: 0.3535 - accuracy: 0.8713\n",
            "Epoch 15: val_accuracy did not improve from 0.86198\n",
            "100/100 [==============================] - 1s 7ms/step - loss: 0.3512 - accuracy: 0.8723 - val_loss: 0.4164 - val_accuracy: 0.8620\n",
            "Epoch 16/20\n",
            " 93/100 [==========================>...] - ETA: 0s - loss: 0.3206 - accuracy: 0.8886\n",
            "Epoch 16: val_accuracy did not improve from 0.86198\n",
            "100/100 [==============================] - 1s 7ms/step - loss: 0.3200 - accuracy: 0.8886 - val_loss: 0.4275 - val_accuracy: 0.8620\n",
            "Epoch 17/20\n",
            " 94/100 [===========================>..] - ETA: 0s - loss: 0.3176 - accuracy: 0.8875\n",
            "Epoch 17: val_accuracy did not improve from 0.86198\n",
            "100/100 [==============================] - 1s 7ms/step - loss: 0.3234 - accuracy: 0.8855 - val_loss: 0.4130 - val_accuracy: 0.8620\n",
            "Epoch 18/20\n",
            " 98/100 [============================>.] - ETA: 0s - loss: 0.2989 - accuracy: 0.8929\n",
            "Epoch 18: val_accuracy did not improve from 0.86198\n",
            "100/100 [==============================] - 1s 7ms/step - loss: 0.2992 - accuracy: 0.8928 - val_loss: 0.4361 - val_accuracy: 0.8542\n",
            "Epoch 19/20\n",
            "100/100 [==============================] - ETA: 0s - loss: 0.2898 - accuracy: 0.8977\n",
            "Epoch 19: val_accuracy improved from 0.86198 to 0.87760, saving model to cnn_model\n"
          ]
        },
        {
          "output_type": "stream",
          "name": "stderr",
          "text": [
            "WARNING:absl:Found untraced functions such as _jit_compiled_convolution_op, _jit_compiled_convolution_op while saving (showing 2 of 2). These functions will not be directly callable after loading.\n"
          ]
        },
        {
          "output_type": "stream",
          "name": "stdout",
          "text": [
            "\b\b\b\b\b\b\b\b\b\b\b\b\b\b\b\b\b\b\b\b\b\b\b\b\b\b\b\b\b\b\b\b\b\b\b\b\b\b\b\b\b\b\b\b\b\b\b\b\b\b\b\b\b\b\b\b\b\b\b\b\b\b\b\b\b\b\b\b\b\b\b\b\b\b\b\b\b\b\b\b\b\b\b\b\r100/100 [==============================] - 2s 19ms/step - loss: 0.2898 - accuracy: 0.8977 - val_loss: 0.4090 - val_accuracy: 0.8776\n",
            "Epoch 20/20\n",
            " 98/100 [============================>.] - ETA: 0s - loss: 0.2801 - accuracy: 0.9023\n",
            "Epoch 20: val_accuracy did not improve from 0.87760\n",
            "100/100 [==============================] - 1s 8ms/step - loss: 0.2814 - accuracy: 0.9023 - val_loss: 0.4300 - val_accuracy: 0.8594\n"
          ]
        }
      ]
    },
    {
      "cell_type": "markdown",
      "source": [
        "Plot model training performance"
      ],
      "metadata": {
        "id": "dBwstwVCBKkF"
      },
      "id": "dBwstwVCBKkF"
    },
    {
      "cell_type": "code",
      "source": [
        "best_model = tf.keras.models.load_model('cnn_model')"
      ],
      "metadata": {
        "id": "28FhZWmgYjFb"
      },
      "id": "28FhZWmgYjFb",
      "execution_count": null,
      "outputs": []
    },
    {
      "cell_type": "code",
      "source": [
        "metrics = history.history\n",
        "plt.figure(figsize=(15, 7))\n",
        "plt.subplot(1,2,1)\n",
        "plt.plot(history.epoch, metrics['loss'], metrics['val_loss'])\n",
        "plt.legend(['loss', 'val_loss'])\n",
        "plt.ylim([0, max(plt.ylim())])\n",
        "plt.xticks(history.epoch)\n",
        "plt.title(\"{} Loss vs Validation Loss\".format(history.model.name))\n",
        "plt.subplot(1,2,2)\n",
        "plt.plot(history.epoch, metrics['accuracy'], metrics['val_accuracy'])\n",
        "plt.legend(['accuracy', 'val_accuracy'])\n",
        "plt.ylim([0, max(plt.ylim())])\n",
        "plt.xticks(history.epoch)\n",
        "plt.title(\"{} Accuracy vs Validation Accuracy\".format(history.model.name))"
      ],
      "metadata": {
        "id": "9sB22j7JVARu",
        "colab": {
          "base_uri": "https://localhost:8080/",
          "height": 461
        },
        "outputId": "aa2252a1-e1df-431a-bf43-6d7e7474482f"
      },
      "id": "9sB22j7JVARu",
      "execution_count": null,
      "outputs": [
        {
          "output_type": "execute_result",
          "data": {
            "text/plain": [
              "Text(0.5, 1.0, 'cnn_model Accuracy vs Validation Accuracy')"
            ]
          },
          "metadata": {},
          "execution_count": 53
        },
        {
          "output_type": "display_data",
          "data": {
            "text/plain": [
              "<Figure size 1080x504 with 2 Axes>"
            ],
            "image/png": "[encoded data removed]"
          },
          "metadata": {
            "needs_background": "light"
          }
        }
      ]
    },
    {
      "cell_type": "markdown",
      "source": [
        "Evaluate model"
      ],
      "metadata": {
        "id": "K3PW1WQ6BIo6"
      },
      "id": "K3PW1WQ6BIo6"
    },
    {
      "cell_type": "code",
      "source": [
        "best_model.evaluate(test_spectrogram_ds, return_dict=True)"
      ],
      "metadata": {
        "colab": {
          "base_uri": "https://localhost:8080/"
        },
        "id": "Ak0wqefVBRxO",
        "outputId": "d5b405aa-379d-4dfd-a184-9147b4a5e0df"
      },
      "id": "Ak0wqefVBRxO",
      "execution_count": null,
      "outputs": [
        {
          "output_type": "stream",
          "name": "stdout",
          "text": [
            "13/13 [==============================] - 2s 98ms/step - loss: 0.4522 - accuracy: 0.8582\n"
          ]
        },
        {
          "output_type": "execute_result",
          "data": {
            "text/plain": [
              "{'loss': 0.45221513509750366, 'accuracy': 0.8581730723381042}"
            ]
          },
          "metadata": {},
          "execution_count": 54
        }
      ]
    },
    {
      "cell_type": "markdown",
      "source": [
        "Create a confussion matrix"
      ],
      "metadata": {
        "id": "an_zn9EaBXgU"
      },
      "id": "an_zn9EaBXgU"
    },
    {
      "cell_type": "code",
      "source": [
        "y_pred = model.predict(test_spectrogram_ds)\n",
        "y_pred = tf.argmax(y_pred, axis=1)\n",
        "y_true = tf.concat(list(test_spectrogram_ds.map(lambda spectrogram, label: label)), axis=0)"
      ],
      "metadata": {
        "colab": {
          "base_uri": "https://localhost:8080/"
        },
        "id": "b52iboTJBiLk",
        "outputId": "0075fde1-ef1e-41be-ff3f-a12799ef9d51"
      },
      "id": "b52iboTJBiLk",
      "execution_count": null,
      "outputs": [
        {
          "output_type": "stream",
          "name": "stdout",
          "text": [
            "13/13 [==============================] - 1s 6ms/step\n"
          ]
        }
      ]
    },
    {
      "cell_type": "code",
      "source": [
        "for i in range(len(class_names)):\n",
        "    print(\"{}: {}\".format(i, class_names[i])) \n",
        "print(classification_report(y_true, y_pred))"
      ],
      "metadata": {
        "id": "q6NFI-IDkdop",
        "outputId": "e05860d7-d432-4920-f0b4-7631611d8765",
        "colab": {
          "base_uri": "https://localhost:8080/"
        }
      },
      "id": "q6NFI-IDkdop",
      "execution_count": null,
      "outputs": [
        {
          "output_type": "stream",
          "name": "stdout",
          "text": [
            "0: down\n",
            "1: go\n",
            "2: left\n",
            "3: no\n",
            "4: right\n",
            "5: stop\n",
            "6: up\n",
            "7: yes\n",
            "              precision    recall  f1-score   support\n",
            "\n",
            "           0       0.84      0.80      0.82       109\n",
            "           1       0.58      0.77      0.66       100\n",
            "           2       0.96      0.88      0.92       108\n",
            "           3       0.76      0.74      0.75       105\n",
            "           4       0.95      0.94      0.95        85\n",
            "           5       0.98      0.86      0.92       111\n",
            "           6       0.89      0.91      0.90       103\n",
            "           7       0.97      0.93      0.95       111\n",
            "\n",
            "    accuracy                           0.85       832\n",
            "   macro avg       0.87      0.85      0.86       832\n",
            "weighted avg       0.87      0.85      0.86       832\n",
            "\n"
          ]
        }
      ]
    },
    {
      "cell_type": "code",
      "source": [
        "confusion_matrix = tf.math.confusion_matrix(y_true, y_pred)\n",
        "plt.figure(figsize=(10,10))\n",
        "sns.heatmap(confusion_matrix, \n",
        "            xticklabels=class_names,\n",
        "            yticklabels=class_names,\n",
        "            annot=True, fmt='g')\n",
        "plt.xlabel('Prediction')\n",
        "plt.ylabel('Label')\n",
        "plt.title('Confussion Matrix')\n",
        "plt.show()"
      ],
      "metadata": {
        "colab": {
          "base_uri": "https://localhost:8080/",
          "height": 621
        },
        "id": "xyehNwcpFSJ0",
        "outputId": "fe21fa6d-da70-4b1d-b978-acbc3c3b39d2"
      },
      "id": "xyehNwcpFSJ0",
      "execution_count": null,
      "outputs": [
        {
          "output_type": "display_data",
          "data": {
            "text/plain": [
              "<Figure size 720x720 with 2 Axes>"
            ],
            "image/png": "[encoded data removed]"
          },
          "metadata": {
            "needs_background": "light"
          }
        }
      ]
    },
    {
      "cell_type": "code",
      "source": [
        "x = data_dir/'go/0132a06d_nohash_2.wav'\n",
        "\n",
        "# x = data_dir/'no/01bb6a2a_nohash_0.wav'\n",
        "x = tf.io.read_file(str(x))\n",
        "x, sample_rate = tf.audio.decode_wav(x, desired_channels=1, desired_samples=16000,)\n",
        "x = tf.squeeze(x, axis=-1)\n",
        "waveform = x\n",
        "x = get_spectrogram(x)\n",
        "x = x[tf.newaxis,...]\n",
        "\n",
        "prediction = best_model(x)\n",
        "for proba in prediction[0]:\n",
        "    print(proba*100)\n",
        "plt.bar(class_names, prediction[0])\n",
        "plt.title('No')\n",
        "plt.show()\n",
        "\n",
        "display.display(display.Audio(waveform, rate=16000))"
      ],
      "metadata": {
        "colab": {
          "base_uri": "https://localhost:8080/",
          "height": 478
        },
        "id": "r2kIsJ5xG_qq",
        "outputId": "14f950bb-7f82-44db-e7e0-a3175a600027"
      },
      "id": "r2kIsJ5xG_qq",
      "execution_count": null,
      "outputs": [
        {
          "output_type": "stream",
          "name": "stdout",
          "text": [
            "tf.Tensor(0.040887598, shape=(), dtype=float32)\n",
            "tf.Tensor(89.42183, shape=(), dtype=float32)\n",
            "tf.Tensor(7.0070465e-09, shape=(), dtype=float32)\n",
            "tf.Tensor(10.537285, shape=(), dtype=float32)\n",
            "tf.Tensor(3.6166305e-06, shape=(), dtype=float32)\n",
            "tf.Tensor(1.6562839e-07, shape=(), dtype=float32)\n",
            "tf.Tensor(1.1208842e-06, shape=(), dtype=float32)\n",
            "tf.Tensor(3.134999e-10, shape=(), dtype=float32)\n"
          ]
        },
        {
          "output_type": "display_data",
          "data": {
            "text/plain": [
              "<Figure size 432x288 with 1 Axes>"
            ],
            "image/png": "[encoded data removed]"
          },
          "metadata": {
            "needs_background": "light"
          }
        },
        {
          "output_type": "display_data",
          "data": {
            "text/plain": [
              "<IPython.lib.display.Audio object>"
            ],
            "text/html": [
              "\n",
              "                <audio  controls=\"controls\" >\n",
              "                    <source src=\"data:audio/wav;base64,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\" type=\"audio/wav\" />\n",
              "                    Your browser does not support the audio element.\n",
              "                </audio>\n",
              "              "
            ]
          },
          "metadata": {}
        }
      ]
    },
    {
      "cell_type": "code",
      "source": [
        "!zip -r ./cnn_model.zip ./cnn_model"
      ],
      "metadata": {
        "colab": {
          "base_uri": "https://localhost:8080/"
        },
        "id": "4t17bCqdaQnR",
        "outputId": "8734c99c-cfaf-4925-853d-3cf6f07070c7"
      },
      "id": "4t17bCqdaQnR",
      "execution_count": null,
      "outputs": [
        {
          "output_type": "stream",
          "name": "stdout",
          "text": [
            "  adding: cnn_model/ (stored 0%)\n",
            "  adding: cnn_model/saved_model.pb (deflated 88%)\n",
            "  adding: cnn_model/variables/ (stored 0%)\n",
            "  adding: cnn_model/variables/variables.data-00000-of-00001 (deflated 10%)\n",
            "  adding: cnn_model/variables/variables.index (deflated 62%)\n",
            "  adding: cnn_model/keras_metadata.pb (deflated 90%)\n",
            "  adding: cnn_model/fingerprint.pb (stored 0%)\n",
            "  adding: cnn_model/assets/ (stored 0%)\n"
          ]
        }
      ]
    }
  ],
  "metadata": {
    "kernelspec": {
      "display_name": "speech-recognition (ipykernel)",
      "language": "python",
      "name": "speech-reocgnition"
    },
    "language_info": {
      "codemirror_mode": {
        "name": "ipython",
        "version": 3
      },
      "file_extension": ".py",
      "mimetype": "text/x-python",
      "name": "python",
      "nbconvert_exporter": "python",
      "pygments_lexer": "ipython3",
      "version": "3.8.0"
    },
    "colab": {
      "provenance": [],
      "include_colab_link": true
    },
    "accelerator": "GPU",
    "gpuClass": "standard",
    "widgets": {
      "application/vnd.jupyter.widget-state+json": {
        "5d4541be917c453589ba6e8eda443d2a": {
          "model_module": "@jupyter-widgets/controls",
          "model_name": "HBoxModel",
          "model_module_version": "1.5.0",
          "state": {
            "_dom_classes": [],
            "_model_module": "@jupyter-widgets/controls",
            "_model_module_version": "1.5.0",
            "_model_name": "HBoxModel",
            "_view_count": null,
            "_view_module": "@jupyter-widgets/controls",
            "_view_module_version": "1.5.0",
            "_view_name": "HBoxView",
            "box_style": "",
            "children": [
              "IPY_MODEL_4d5104bc8a184f4391494fa553aa4cc5",
              "IPY_MODEL_674a60206a6344858b6e621eb6ddf751",
              "IPY_MODEL_0cf5b3702fc24374ad574f51af30c7f3"
            ],
            "layout": "IPY_MODEL_6e69c5a964e34a2b8f25385b9471d4c5"
          }
        },
        "4d5104bc8a184f4391494fa553aa4cc5": {
          "model_module": "@jupyter-widgets/controls",
          "model_name": "HTMLModel",
          "model_module_version": "1.5.0",
          "state": {
            "_dom_classes": [],
            "_model_module": "@jupyter-widgets/controls",
            "_model_module_version": "1.5.0",
            "_model_name": "HTMLModel",
            "_view_count": null,
            "_view_module": "@jupyter-widgets/controls",
            "_view_module_version": "1.5.0",
            "_view_name": "HTMLView",
            "description": "",
            "description_tooltip": null,
            "layout": "IPY_MODEL_ba1377f735ce444bbfe501ec52650f3a",
            "placeholder": "​",
            "style": "IPY_MODEL_b10c952561e34800b5f65275fb20238b",
            "value": "Dl Completed...: 100%"
          }
        },
        "674a60206a6344858b6e621eb6ddf751": {
          "model_module": "@jupyter-widgets/controls",
          "model_name": "FloatProgressModel",
          "model_module_version": "1.5.0",
          "state": {
            "_dom_classes": [],
            "_model_module": "@jupyter-widgets/controls",
            "_model_module_version": "1.5.0",
            "_model_name": "FloatProgressModel",
            "_view_count": null,
            "_view_module": "@jupyter-widgets/controls",
            "_view_module_version": "1.5.0",
            "_view_name": "ProgressView",
            "bar_style": "success",
            "description": "",
            "description_tooltip": null,
            "layout": "IPY_MODEL_b6bc1260af1e4fb3abed46ffc2fd39a6",
            "max": 1,
            "min": 0,
            "orientation": "horizontal",
            "style": "IPY_MODEL_0057ec2031464dcd81712a5b682c71ab",
            "value": 1
          }
        },
        "0cf5b3702fc24374ad574f51af30c7f3": {
          "model_module": "@jupyter-widgets/controls",
          "model_name": "HTMLModel",
          "model_module_version": "1.5.0",
          "state": {
            "_dom_classes": [],
            "_model_module": "@jupyter-widgets/controls",
            "_model_module_version": "1.5.0",
            "_model_name": "HTMLModel",
            "_view_count": null,
            "_view_module": "@jupyter-widgets/controls",
            "_view_module_version": "1.5.0",
            "_view_name": "HTMLView",
            "description": "",
            "description_tooltip": null,
            "layout": "IPY_MODEL_d54af94835f64293aa923ffef97a47b0",
            "placeholder": "​",
            "style": "IPY_MODEL_92034a94afa948fdbba06ef26e220136",
            "value": " 2/2 [00:54&lt;00:00, 31.08s/ url]"
          }
        },
        "6e69c5a964e34a2b8f25385b9471d4c5": {
          "model_module": "@jupyter-widgets/base",
          "model_name": "LayoutModel",
          "model_module_version": "1.2.0",
          "state": {
            "_model_module": "@jupyter-widgets/base",
            "_model_module_version": "1.2.0",
            "_model_name": "LayoutModel",
            "_view_count": null,
            "_view_module": "@jupyter-widgets/base",
            "_view_module_version": "1.2.0",
            "_view_name": "LayoutView",
            "align_content": null,
            "align_items": null,
            "align_self": null,
            "border": null,
            "bottom": null,
            "display": null,
            "flex": null,
            "flex_flow": null,
            "grid_area": null,
            "grid_auto_columns": null,
            "grid_auto_flow": null,
            "grid_auto_rows": null,
            "grid_column": null,
            "grid_gap": null,
            "grid_row": null,
            "grid_template_areas": null,
            "grid_template_columns": null,
            "grid_template_rows": null,
            "height": null,
            "justify_content": null,
            "justify_items": null,
            "left": null,
            "margin": null,
            "max_height": null,
            "max_width": null,
            "min_height": null,
            "min_width": null,
            "object_fit": null,
            "object_position": null,
            "order": null,
            "overflow": null,
            "overflow_x": null,
            "overflow_y": null,
            "padding": null,
            "right": null,
            "top": null,
            "visibility": null,
            "width": null
          }
        },
        "ba1377f735ce444bbfe501ec52650f3a": {
          "model_module": "@jupyter-widgets/base",
          "model_name": "LayoutModel",
          "model_module_version": "1.2.0",
          "state": {
            "_model_module": "@jupyter-widgets/base",
            "_model_module_version": "1.2.0",
            "_model_name": "LayoutModel",
            "_view_count": null,
            "_view_module": "@jupyter-widgets/base",
            "_view_module_version": "1.2.0",
            "_view_name": "LayoutView",
            "align_content": null,
            "align_items": null,
            "align_self": null,
            "border": null,
            "bottom": null,
            "display": null,
            "flex": null,
            "flex_flow": null,
            "grid_area": null,
            "grid_auto_columns": null,
            "grid_auto_flow": null,
            "grid_auto_rows": null,
            "grid_column": null,
            "grid_gap": null,
            "grid_row": null,
            "grid_template_areas": null,
            "grid_template_columns": null,
            "grid_template_rows": null,
            "height": null,
            "justify_content": null,
            "justify_items": null,
            "left": null,
            "margin": null,
            "max_height": null,
            "max_width": null,
            "min_height": null,
            "min_width": null,
            "object_fit": null,
            "object_position": null,
            "order": null,
            "overflow": null,
            "overflow_x": null,
            "overflow_y": null,
            "padding": null,
            "right": null,
            "top": null,
            "visibility": null,
            "width": null
          }
        },
        "b10c952561e34800b5f65275fb20238b": {
          "model_module": "@jupyter-widgets/controls",
          "model_name": "DescriptionStyleModel",
          "model_module_version": "1.5.0",
          "state": {
            "_model_module": "@jupyter-widgets/controls",
            "_model_module_version": "1.5.0",
            "_model_name": "DescriptionStyleModel",
            "_view_count": null,
            "_view_module": "@jupyter-widgets/base",
            "_view_module_version": "1.2.0",
            "_view_name": "StyleView",
            "description_width": ""
          }
        },
        "b6bc1260af1e4fb3abed46ffc2fd39a6": {
          "model_module": "@jupyter-widgets/base",
          "model_name": "LayoutModel",
          "model_module_version": "1.2.0",
          "state": {
            "_model_module": "@jupyter-widgets/base",
            "_model_module_version": "1.2.0",
            "_model_name": "LayoutModel",
            "_view_count": null,
            "_view_module": "@jupyter-widgets/base",
            "_view_module_version": "1.2.0",
            "_view_name": "LayoutView",
            "align_content": null,
            "align_items": null,
            "align_self": null,
            "border": null,
            "bottom": null,
            "display": null,
            "flex": null,
            "flex_flow": null,
            "grid_area": null,
            "grid_auto_columns": null,
            "grid_auto_flow": null,
            "grid_auto_rows": null,
            "grid_column": null,
            "grid_gap": null,
            "grid_row": null,
            "grid_template_areas": null,
            "grid_template_columns": null,
            "grid_template_rows": null,
            "height": null,
            "justify_content": null,
            "justify_items": null,
            "left": null,
            "margin": null,
            "max_height": null,
            "max_width": null,
            "min_height": null,
            "min_width": null,
            "object_fit": null,
            "object_position": null,
            "order": null,
            "overflow": null,
            "overflow_x": null,
            "overflow_y": null,
            "padding": null,
            "right": null,
            "top": null,
            "visibility": null,
            "width": "20px"
          }
        },
        "0057ec2031464dcd81712a5b682c71ab": {
          "model_module": "@jupyter-widgets/controls",
          "model_name": "ProgressStyleModel",
          "model_module_version": "1.5.0",
          "state": {
            "_model_module": "@jupyter-widgets/controls",
            "_model_module_version": "1.5.0",
            "_model_name": "ProgressStyleModel",
            "_view_count": null,
            "_view_module": "@jupyter-widgets/base",
            "_view_module_version": "1.2.0",
            "_view_name": "StyleView",
            "bar_color": null,
            "description_width": ""
          }
        },
        "d54af94835f64293aa923ffef97a47b0": {
          "model_module": "@jupyter-widgets/base",
          "model_name": "LayoutModel",
          "model_module_version": "1.2.0",
          "state": {
            "_model_module": "@jupyter-widgets/base",
            "_model_module_version": "1.2.0",
            "_model_name": "LayoutModel",
            "_view_count": null,
            "_view_module": "@jupyter-widgets/base",
            "_view_module_version": "1.2.0",
            "_view_name": "LayoutView",
            "align_content": null,
            "align_items": null,
            "align_self": null,
            "border": null,
            "bottom": null,
            "display": null,
            "flex": null,
            "flex_flow": null,
            "grid_area": null,
            "grid_auto_columns": null,
            "grid_auto_flow": null,
            "grid_auto_rows": null,
            "grid_column": null,
            "grid_gap": null,
            "grid_row": null,
            "grid_template_areas": null,
            "grid_template_columns": null,
            "grid_template_rows": null,
            "height": null,
            "justify_content": null,
            "justify_items": null,
            "left": null,
            "margin": null,
            "max_height": null,
            "max_width": null,
            "min_height": null,
            "min_width": null,
            "object_fit": null,
            "object_position": null,
            "order": null,
            "overflow": null,
            "overflow_x": null,
            "overflow_y": null,
            "padding": null,
            "right": null,
            "top": null,
            "visibility": null,
            "width": null
          }
        },
        "92034a94afa948fdbba06ef26e220136": {
          "model_module": "@jupyter-widgets/controls",
          "model_name": "DescriptionStyleModel",
          "model_module_version": "1.5.0",
          "state": {
            "_model_module": "@jupyter-widgets/controls",
            "_model_module_version": "1.5.0",
            "_model_name": "DescriptionStyleModel",
            "_view_count": null,
            "_view_module": "@jupyter-widgets/base",
            "_view_module_version": "1.2.0",
            "_view_name": "StyleView",
            "description_width": ""
          }
        },
        "6ea5b115d9ef4b75a911f9e0756fdb86": {
          "model_module": "@jupyter-widgets/controls",
          "model_name": "HBoxModel",
          "model_module_version": "1.5.0",
          "state": {
            "_dom_classes": [],
            "_model_module": "@jupyter-widgets/controls",
            "_model_module_version": "1.5.0",
            "_model_name": "HBoxModel",
            "_view_count": null,
            "_view_module": "@jupyter-widgets/controls",
            "_view_module_version": "1.5.0",
            "_view_name": "HBoxView",
            "box_style": "",
            "children": [
              "IPY_MODEL_d3fe8a253d504a5d83a55ec96053d847",
              "IPY_MODEL_e26157a270004564b6f7578f09570ba2",
              "IPY_MODEL_2ac3ad35c68442e784ffb8343a622a76"
            ],
            "layout": "IPY_MODEL_045c91a26e394dd385ea32c77dbcafd1"
          }
        },
        "d3fe8a253d504a5d83a55ec96053d847": {
          "model_module": "@jupyter-widgets/controls",
          "model_name": "HTMLModel",
          "model_module_version": "1.5.0",
          "state": {
            "_dom_classes": [],
            "_model_module": "@jupyter-widgets/controls",
            "_model_module_version": "1.5.0",
            "_model_name": "HTMLModel",
            "_view_count": null,
            "_view_module": "@jupyter-widgets/controls",
            "_view_module_version": "1.5.0",
            "_view_name": "HTMLView",
            "description": "",
            "description_tooltip": null,
            "layout": "IPY_MODEL_67fefb3edcf84291b907356966c581f6",
            "placeholder": "​",
            "style": "IPY_MODEL_37ef141fbbba4ccdbafc27bd7f10edc2",
            "value": "Dl Size...: 100%"
          }
        },
        "e26157a270004564b6f7578f09570ba2": {
          "model_module": "@jupyter-widgets/controls",
          "model_name": "FloatProgressModel",
          "model_module_version": "1.5.0",
          "state": {
            "_dom_classes": [],
            "_model_module": "@jupyter-widgets/controls",
            "_model_module_version": "1.5.0",
            "_model_name": "FloatProgressModel",
            "_view_count": null,
            "_view_module": "@jupyter-widgets/controls",
            "_view_module_version": "1.5.0",
            "_view_name": "ProgressView",
            "bar_style": "success",
            "description": "",
            "description_tooltip": null,
            "layout": "IPY_MODEL_f4fabcfbc4734bce9d43ef4ef15a6f68",
            "max": 1,
            "min": 0,
            "orientation": "horizontal",
            "style": "IPY_MODEL_3aafba617acd44cfa4df25259a0074b8",
            "value": 1
          }
        },
        "2ac3ad35c68442e784ffb8343a622a76": {
          "model_module": "@jupyter-widgets/controls",
          "model_name": "HTMLModel",
          "model_module_version": "1.5.0",
          "state": {
            "_dom_classes": [],
            "_model_module": "@jupyter-widgets/controls",
            "_model_module_version": "1.5.0",
            "_model_name": "HTMLModel",
            "_view_count": null,
            "_view_module": "@jupyter-widgets/controls",
            "_view_module_version": "1.5.0",
            "_view_name": "HTMLView",
            "description": "",
            "description_tooltip": null,
            "layout": "IPY_MODEL_acb65c6f427642ddbfa5c1aea3b05326",
            "placeholder": "​",
            "style": "IPY_MODEL_a5ac8e0c124047bd97e345e8ba04a5c2",
            "value": " 2423/2423 [00:54&lt;00:00, 58.29 MiB/s]"
          }
        },
        "045c91a26e394dd385ea32c77dbcafd1": {
          "model_module": "@jupyter-widgets/base",
          "model_name": "LayoutModel",
          "model_module_version": "1.2.0",
          "state": {
            "_model_module": "@jupyter-widgets/base",
            "_model_module_version": "1.2.0",
            "_model_name": "LayoutModel",
            "_view_count": null,
            "_view_module": "@jupyter-widgets/base",
            "_view_module_version": "1.2.0",
            "_view_name": "LayoutView",
            "align_content": null,
            "align_items": null,
            "align_self": null,
            "border": null,
            "bottom": null,
            "display": null,
            "flex": null,
            "flex_flow": null,
            "grid_area": null,
            "grid_auto_columns": null,
            "grid_auto_flow": null,
            "grid_auto_rows": null,
            "grid_column": null,
            "grid_gap": null,
            "grid_row": null,
            "grid_template_areas": null,
            "grid_template_columns": null,
            "grid_template_rows": null,
            "height": null,
            "justify_content": null,
            "justify_items": null,
            "left": null,
            "margin": null,
            "max_height": null,
            "max_width": null,
            "min_height": null,
            "min_width": null,
            "object_fit": null,
            "object_position": null,
            "order": null,
            "overflow": null,
            "overflow_x": null,
            "overflow_y": null,
            "padding": null,
            "right": null,
            "top": null,
            "visibility": null,
            "width": null
          }
        },
        "67fefb3edcf84291b907356966c581f6": {
          "model_module": "@jupyter-widgets/base",
          "model_name": "LayoutModel",
          "model_module_version": "1.2.0",
          "state": {
            "_model_module": "@jupyter-widgets/base",
            "_model_module_version": "1.2.0",
            "_model_name": "LayoutModel",
            "_view_count": null,
            "_view_module": "@jupyter-widgets/base",
            "_view_module_version": "1.2.0",
            "_view_name": "LayoutView",
            "align_content": null,
            "align_items": null,
            "align_self": null,
            "border": null,
            "bottom": null,
            "display": null,
            "flex": null,
            "flex_flow": null,
            "grid_area": null,
            "grid_auto_columns": null,
            "grid_auto_flow": null,
            "grid_auto_rows": null,
            "grid_column": null,
            "grid_gap": null,
            "grid_row": null,
            "grid_template_areas": null,
            "grid_template_columns": null,
            "grid_template_rows": null,
            "height": null,
            "justify_content": null,
            "justify_items": null,
            "left": null,
            "margin": null,
            "max_height": null,
            "max_width": null,
            "min_height": null,
            "min_width": null,
            "object_fit": null,
            "object_position": null,
            "order": null,
            "overflow": null,
            "overflow_x": null,
            "overflow_y": null,
            "padding": null,
            "right": null,
            "top": null,
            "visibility": null,
            "width": null
          }
        },
        "37ef141fbbba4ccdbafc27bd7f10edc2": {
          "model_module": "@jupyter-widgets/controls",
          "model_name": "DescriptionStyleModel",
          "model_module_version": "1.5.0",
          "state": {
            "_model_module": "@jupyter-widgets/controls",
            "_model_module_version": "1.5.0",
            "_model_name": "DescriptionStyleModel",
            "_view_count": null,
            "_view_module": "@jupyter-widgets/base",
            "_view_module_version": "1.2.0",
            "_view_name": "StyleView",
            "description_width": ""
          }
        },
        "f4fabcfbc4734bce9d43ef4ef15a6f68": {
          "model_module": "@jupyter-widgets/base",
          "model_name": "LayoutModel",
          "model_module_version": "1.2.0",
          "state": {
            "_model_module": "@jupyter-widgets/base",
            "_model_module_version": "1.2.0",
            "_model_name": "LayoutModel",
            "_view_count": null,
            "_view_module": "@jupyter-widgets/base",
            "_view_module_version": "1.2.0",
            "_view_name": "LayoutView",
            "align_content": null,
            "align_items": null,
            "align_self": null,
            "border": null,
            "bottom": null,
            "display": null,
            "flex": null,
            "flex_flow": null,
            "grid_area": null,
            "grid_auto_columns": null,
            "grid_auto_flow": null,
            "grid_auto_rows": null,
            "grid_column": null,
            "grid_gap": null,
            "grid_row": null,
            "grid_template_areas": null,
            "grid_template_columns": null,
            "grid_template_rows": null,
            "height": null,
            "justify_content": null,
            "justify_items": null,
            "left": null,
            "margin": null,
            "max_height": null,
            "max_width": null,
            "min_height": null,
            "min_width": null,
            "object_fit": null,
            "object_position": null,
            "order": null,
            "overflow": null,
            "overflow_x": null,
            "overflow_y": null,
            "padding": null,
            "right": null,
            "top": null,
            "visibility": null,
            "width": "20px"
          }
        },
        "3aafba617acd44cfa4df25259a0074b8": {
          "model_module": "@jupyter-widgets/controls",
          "model_name": "ProgressStyleModel",
          "model_module_version": "1.5.0",
          "state": {
            "_model_module": "@jupyter-widgets/controls",
            "_model_module_version": "1.5.0",
            "_model_name": "ProgressStyleModel",
            "_view_count": null,
            "_view_module": "@jupyter-widgets/base",
            "_view_module_version": "1.2.0",
            "_view_name": "StyleView",
            "bar_color": null,
            "description_width": ""
          }
        },
        "acb65c6f427642ddbfa5c1aea3b05326": {
          "model_module": "@jupyter-widgets/base",
          "model_name": "LayoutModel",
          "model_module_version": "1.2.0",
          "state": {
            "_model_module": "@jupyter-widgets/base",
            "_model_module_version": "1.2.0",
            "_model_name": "LayoutModel",
            "_view_count": null,
            "_view_module": "@jupyter-widgets/base",
            "_view_module_version": "1.2.0",
            "_view_name": "LayoutView",
            "align_content": null,
            "align_items": null,
            "align_self": null,
            "border": null,
            "bottom": null,
            "display": null,
            "flex": null,
            "flex_flow": null,
            "grid_area": null,
            "grid_auto_columns": null,
            "grid_auto_flow": null,
            "grid_auto_rows": null,
            "grid_column": null,
            "grid_gap": null,
            "grid_row": null,
            "grid_template_areas": null,
            "grid_template_columns": null,
            "grid_template_rows": null,
            "height": null,
            "justify_content": null,
            "justify_items": null,
            "left": null,
            "margin": null,
            "max_height": null,
            "max_width": null,
            "min_height": null,
            "min_width": null,
            "object_fit": null,
            "object_position": null,
            "order": null,
            "overflow": null,
            "overflow_x": null,
            "overflow_y": null,
            "padding": null,
            "right": null,
            "top": null,
            "visibility": null,
            "width": null
          }
        },
        "a5ac8e0c124047bd97e345e8ba04a5c2": {
          "model_module": "@jupyter-widgets/controls",
          "model_name": "DescriptionStyleModel",
          "model_module_version": "1.5.0",
          "state": {
            "_model_module": "@jupyter-widgets/controls",
            "_model_module_version": "1.5.0",
            "_model_name": "DescriptionStyleModel",
            "_view_count": null,
            "_view_module": "@jupyter-widgets/base",
            "_view_module_version": "1.2.0",
            "_view_name": "StyleView",
            "description_width": ""
          }
        },
        "a7527155a5cc48caa30780ff8274854d": {
          "model_module": "@jupyter-widgets/controls",
          "model_name": "HBoxModel",
          "model_module_version": "1.5.0",
          "state": {
            "_dom_classes": [],
            "_model_module": "@jupyter-widgets/controls",
            "_model_module_version": "1.5.0",
            "_model_name": "HBoxModel",
            "_view_count": null,
            "_view_module": "@jupyter-widgets/controls",
            "_view_module_version": "1.5.0",
            "_view_name": "HBoxView",
            "box_style": "",
            "children": [
              "IPY_MODEL_202257fba4c24f9ca3ebdbea3ef5f252",
              "IPY_MODEL_0c49d142299b4004aad574e72ded96c8",
              "IPY_MODEL_07d6dd3ddccf441b8a361725e6e47c8f"
            ],
            "layout": "IPY_MODEL_a84deac8642240d5b288d5111fcfb53a"
          }
        },
        "202257fba4c24f9ca3ebdbea3ef5f252": {
          "model_module": "@jupyter-widgets/controls",
          "model_name": "HTMLModel",
          "model_module_version": "1.5.0",
          "state": {
            "_dom_classes": [],
            "_model_module": "@jupyter-widgets/controls",
            "_model_module_version": "1.5.0",
            "_model_name": "HTMLModel",
            "_view_count": null,
            "_view_module": "@jupyter-widgets/controls",
            "_view_module_version": "1.5.0",
            "_view_name": "HTMLView",
            "description": "",
            "description_tooltip": null,
            "layout": "IPY_MODEL_070cfd2815704c62868495505d1b37d4",
            "placeholder": "​",
            "style": "IPY_MODEL_bec5f3c5a68c420bb9dc0f434690be31",
            "value": "Generating splits...: 100%"
          }
        },
        "0c49d142299b4004aad574e72ded96c8": {
          "model_module": "@jupyter-widgets/controls",
          "model_name": "FloatProgressModel",
          "model_module_version": "1.5.0",
          "state": {
            "_dom_classes": [],
            "_model_module": "@jupyter-widgets/controls",
            "_model_module_version": "1.5.0",
            "_model_name": "FloatProgressModel",
            "_view_count": null,
            "_view_module": "@jupyter-widgets/controls",
            "_view_module_version": "1.5.0",
            "_view_name": "ProgressView",
            "bar_style": "",
            "description": "",
            "description_tooltip": null,
            "layout": "IPY_MODEL_75e73b26561b42aa96bf51fe88d4f2a1",
            "max": 3,
            "min": 0,
            "orientation": "horizontal",
            "style": "IPY_MODEL_49a016a8608348ccac8557cdaf9452de",
            "value": 3
          }
        },
        "07d6dd3ddccf441b8a361725e6e47c8f": {
          "model_module": "@jupyter-widgets/controls",
          "model_name": "HTMLModel",
          "model_module_version": "1.5.0",
          "state": {
            "_dom_classes": [],
            "_model_module": "@jupyter-widgets/controls",
            "_model_module_version": "1.5.0",
            "_model_name": "HTMLModel",
            "_view_count": null,
            "_view_module": "@jupyter-widgets/controls",
            "_view_module_version": "1.5.0",
            "_view_name": "HTMLView",
            "description": "",
            "description_tooltip": null,
            "layout": "IPY_MODEL_12d3938bc9384b6095e0e5bdfcddadfd",
            "placeholder": "​",
            "style": "IPY_MODEL_7c49915ca0f849ec98b2055c8e3c210a",
            "value": " 3/3 [09:16&lt;00:00, 140.01s/ splits]"
          }
        },
        "a84deac8642240d5b288d5111fcfb53a": {
          "model_module": "@jupyter-widgets/base",
          "model_name": "LayoutModel",
          "model_module_version": "1.2.0",
          "state": {
            "_model_module": "@jupyter-widgets/base",
            "_model_module_version": "1.2.0",
            "_model_name": "LayoutModel",
            "_view_count": null,
            "_view_module": "@jupyter-widgets/base",
            "_view_module_version": "1.2.0",
            "_view_name": "LayoutView",
            "align_content": null,
            "align_items": null,
            "align_self": null,
            "border": null,
            "bottom": null,
            "display": null,
            "flex": null,
            "flex_flow": null,
            "grid_area": null,
            "grid_auto_columns": null,
            "grid_auto_flow": null,
            "grid_auto_rows": null,
            "grid_column": null,
            "grid_gap": null,
            "grid_row": null,
            "grid_template_areas": null,
            "grid_template_columns": null,
            "grid_template_rows": null,
            "height": null,
            "justify_content": null,
            "justify_items": null,
            "left": null,
            "margin": null,
            "max_height": null,
            "max_width": null,
            "min_height": null,
            "min_width": null,
            "object_fit": null,
            "object_position": null,
            "order": null,
            "overflow": null,
            "overflow_x": null,
            "overflow_y": null,
            "padding": null,
            "right": null,
            "top": null,
            "visibility": "hidden",
            "width": null
          }
        },
        "070cfd2815704c62868495505d1b37d4": {
          "model_module": "@jupyter-widgets/base",
          "model_name": "LayoutModel",
          "model_module_version": "1.2.0",
          "state": {
            "_model_module": "@jupyter-widgets/base",
            "_model_module_version": "1.2.0",
            "_model_name": "LayoutModel",
            "_view_count": null,
            "_view_module": "@jupyter-widgets/base",
            "_view_module_version": "1.2.0",
            "_view_name": "LayoutView",
            "align_content": null,
            "align_items": null,
            "align_self": null,
            "border": null,
            "bottom": null,
            "display": null,
            "flex": null,
            "flex_flow": null,
            "grid_area": null,
            "grid_auto_columns": null,
            "grid_auto_flow": null,
            "grid_auto_rows": null,
            "grid_column": null,
            "grid_gap": null,
            "grid_row": null,
            "grid_template_areas": null,
            "grid_template_columns": null,
            "grid_template_rows": null,
            "height": null,
            "justify_content": null,
            "justify_items": null,
            "left": null,
            "margin": null,
            "max_height": null,
            "max_width": null,
            "min_height": null,
            "min_width": null,
            "object_fit": null,
            "object_position": null,
            "order": null,
            "overflow": null,
            "overflow_x": null,
            "overflow_y": null,
            "padding": null,
            "right": null,
            "top": null,
            "visibility": null,
            "width": null
          }
        },
        "bec5f3c5a68c420bb9dc0f434690be31": {
          "model_module": "@jupyter-widgets/controls",
          "model_name": "DescriptionStyleModel",
          "model_module_version": "1.5.0",
          "state": {
            "_model_module": "@jupyter-widgets/controls",
            "_model_module_version": "1.5.0",
            "_model_name": "DescriptionStyleModel",
            "_view_count": null,
            "_view_module": "@jupyter-widgets/base",
            "_view_module_version": "1.2.0",
            "_view_name": "StyleView",
            "description_width": ""
          }
        },
        "75e73b26561b42aa96bf51fe88d4f2a1": {
          "model_module": "@jupyter-widgets/base",
          "model_name": "LayoutModel",
          "model_module_version": "1.2.0",
          "state": {
            "_model_module": "@jupyter-widgets/base",
            "_model_module_version": "1.2.0",
            "_model_name": "LayoutModel",
            "_view_count": null,
            "_view_module": "@jupyter-widgets/base",
            "_view_module_version": "1.2.0",
            "_view_name": "LayoutView",
            "align_content": null,
            "align_items": null,
            "align_self": null,
            "border": null,
            "bottom": null,
            "display": null,
            "flex": null,
            "flex_flow": null,
            "grid_area": null,
            "grid_auto_columns": null,
            "grid_auto_flow": null,
            "grid_auto_rows": null,
            "grid_column": null,
            "grid_gap": null,
            "grid_row": null,
            "grid_template_areas": null,
            "grid_template_columns": null,
            "grid_template_rows": null,
            "height": null,
            "justify_content": null,
            "justify_items": null,
            "left": null,
            "margin": null,
            "max_height": null,
            "max_width": null,
            "min_height": null,
            "min_width": null,
            "object_fit": null,
            "object_position": null,
            "order": null,
            "overflow": null,
            "overflow_x": null,
            "overflow_y": null,
            "padding": null,
            "right": null,
            "top": null,
            "visibility": null,
            "width": null
          }
        },
        "49a016a8608348ccac8557cdaf9452de": {
          "model_module": "@jupyter-widgets/controls",
          "model_name": "ProgressStyleModel",
          "model_module_version": "1.5.0",
          "state": {
            "_model_module": "@jupyter-widgets/controls",
            "_model_module_version": "1.5.0",
            "_model_name": "ProgressStyleModel",
            "_view_count": null,
            "_view_module": "@jupyter-widgets/base",
            "_view_module_version": "1.2.0",
            "_view_name": "StyleView",
            "bar_color": null,
            "description_width": ""
          }
        },
        "12d3938bc9384b6095e0e5bdfcddadfd": {
          "model_module": "@jupyter-widgets/base",
          "model_name": "LayoutModel",
          "model_module_version": "1.2.0",
          "state": {
            "_model_module": "@jupyter-widgets/base",
            "_model_module_version": "1.2.0",
            "_model_name": "LayoutModel",
            "_view_count": null,
            "_view_module": "@jupyter-widgets/base",
            "_view_module_version": "1.2.0",
            "_view_name": "LayoutView",
            "align_content": null,
            "align_items": null,
            "align_self": null,
            "border": null,
            "bottom": null,
            "display": null,
            "flex": null,
            "flex_flow": null,
            "grid_area": null,
            "grid_auto_columns": null,
            "grid_auto_flow": null,
            "grid_auto_rows": null,
            "grid_column": null,
            "grid_gap": null,
            "grid_row": null,
            "grid_template_areas": null,
            "grid_template_columns": null,
            "grid_template_rows": null,
            "height": null,
            "justify_content": null,
            "justify_items": null,
            "left": null,
            "margin": null,
            "max_height": null,
            "max_width": null,
            "min_height": null,
            "min_width": null,
            "object_fit": null,
            "object_position": null,
            "order": null,
            "overflow": null,
            "overflow_x": null,
            "overflow_y": null,
            "padding": null,
            "right": null,
            "top": null,
            "visibility": null,
            "width": null
          }
        },
        "7c49915ca0f849ec98b2055c8e3c210a": {
          "model_module": "@jupyter-widgets/controls",
          "model_name": "DescriptionStyleModel",
          "model_module_version": "1.5.0",
          "state": {
            "_model_module": "@jupyter-widgets/controls",
            "_model_module_version": "1.5.0",
            "_model_name": "DescriptionStyleModel",
            "_view_count": null,
            "_view_module": "@jupyter-widgets/base",
            "_view_module_version": "1.2.0",
            "_view_name": "StyleView",
            "description_width": ""
          }
        },
        "0aa60c2c4da44c51a815738963ac7df8": {
          "model_module": "@jupyter-widgets/controls",
          "model_name": "HBoxModel",
          "model_module_version": "1.5.0",
          "state": {
            "_dom_classes": [],
            "_model_module": "@jupyter-widgets/controls",
            "_model_module_version": "1.5.0",
            "_model_name": "HBoxModel",
            "_view_count": null,
            "_view_module": "@jupyter-widgets/controls",
            "_view_module_version": "1.5.0",
            "_view_name": "HBoxView",
            "box_style": "",
            "children": [
              "IPY_MODEL_6e516ab3bfd84c0f9da8abbae9a987c5",
              "IPY_MODEL_2e8d6090e36543408eb17b5459915f24",
              "IPY_MODEL_0c65488a457c4f559cd416182e3b4f5e"
            ],
            "layout": "IPY_MODEL_55e203ac92ef4ee1b4eb04eb0a72e5dd"
          }
        },
        "6e516ab3bfd84c0f9da8abbae9a987c5": {
          "model_module": "@jupyter-widgets/controls",
          "model_name": "HTMLModel",
          "model_module_version": "1.5.0",
          "state": {
            "_dom_classes": [],
            "_model_module": "@jupyter-widgets/controls",
            "_model_module_version": "1.5.0",
            "_model_name": "HTMLModel",
            "_view_count": null,
            "_view_module": "@jupyter-widgets/controls",
            "_view_module_version": "1.5.0",
            "_view_name": "HTMLView",
            "description": "",
            "description_tooltip": null,
            "layout": "IPY_MODEL_beb7700792074e62b1bbc975d6d33023",
            "placeholder": "​",
            "style": "IPY_MODEL_67741f5dc6e545cd9fd4affe220507dc",
            "value": "Generating train examples...: 100%"
          }
        },
        "2e8d6090e36543408eb17b5459915f24": {
          "model_module": "@jupyter-widgets/controls",
          "model_name": "FloatProgressModel",
          "model_module_version": "1.5.0",
          "state": {
            "_dom_classes": [],
            "_model_module": "@jupyter-widgets/controls",
            "_model_module_version": "1.5.0",
            "_model_name": "FloatProgressModel",
            "_view_count": null,
            "_view_module": "@jupyter-widgets/controls",
            "_view_module_version": "1.5.0",
            "_view_name": "ProgressView",
            "bar_style": "",
            "description": "",
            "description_tooltip": null,
            "layout": "IPY_MODEL_7131a944d230489a9cfb79488464d7a0",
            "max": 85511,
            "min": 0,
            "orientation": "horizontal",
            "style": "IPY_MODEL_db94469f0a864c628dd1ef7b2d4e9f43",
            "value": 85511
          }
        },
        "0c65488a457c4f559cd416182e3b4f5e": {
          "model_module": "@jupyter-widgets/controls",
          "model_name": "HTMLModel",
          "model_module_version": "1.5.0",
          "state": {
            "_dom_classes": [],
            "_model_module": "@jupyter-widgets/controls",
            "_model_module_version": "1.5.0",
            "_model_name": "HTMLModel",
            "_view_count": null,
            "_view_module": "@jupyter-widgets/controls",
            "_view_module_version": "1.5.0",
            "_view_name": "HTMLView",
            "description": "",
            "description_tooltip": null,
            "layout": "IPY_MODEL_d4f4198f2df04452ad422ef23c7ea837",
            "placeholder": "​",
            "style": "IPY_MODEL_ce6c79b9f8224a9482305cb0ebe9bdb1",
            "value": " 85500/85511 [06:16&lt;00:00, 236.64 examples/s]"
          }
        },
        "55e203ac92ef4ee1b4eb04eb0a72e5dd": {
          "model_module": "@jupyter-widgets/base",
          "model_name": "LayoutModel",
          "model_module_version": "1.2.0",
          "state": {
            "_model_module": "@jupyter-widgets/base",
            "_model_module_version": "1.2.0",
            "_model_name": "LayoutModel",
            "_view_count": null,
            "_view_module": "@jupyter-widgets/base",
            "_view_module_version": "1.2.0",
            "_view_name": "LayoutView",
            "align_content": null,
            "align_items": null,
            "align_self": null,
            "border": null,
            "bottom": null,
            "display": null,
            "flex": null,
            "flex_flow": null,
            "grid_area": null,
            "grid_auto_columns": null,
            "grid_auto_flow": null,
            "grid_auto_rows": null,
            "grid_column": null,
            "grid_gap": null,
            "grid_row": null,
            "grid_template_areas": null,
            "grid_template_columns": null,
            "grid_template_rows": null,
            "height": null,
            "justify_content": null,
            "justify_items": null,
            "left": null,
            "margin": null,
            "max_height": null,
            "max_width": null,
            "min_height": null,
            "min_width": null,
            "object_fit": null,
            "object_position": null,
            "order": null,
            "overflow": null,
            "overflow_x": null,
            "overflow_y": null,
            "padding": null,
            "right": null,
            "top": null,
            "visibility": "hidden",
            "width": null
          }
        },
        "beb7700792074e62b1bbc975d6d33023": {
          "model_module": "@jupyter-widgets/base",
          "model_name": "LayoutModel",
          "model_module_version": "1.2.0",
          "state": {
            "_model_module": "@jupyter-widgets/base",
            "_model_module_version": "1.2.0",
            "_model_name": "LayoutModel",
            "_view_count": null,
            "_view_module": "@jupyter-widgets/base",
            "_view_module_version": "1.2.0",
            "_view_name": "LayoutView",
            "align_content": null,
            "align_items": null,
            "align_self": null,
            "border": null,
            "bottom": null,
            "display": null,
            "flex": null,
            "flex_flow": null,
            "grid_area": null,
            "grid_auto_columns": null,
            "grid_auto_flow": null,
            "grid_auto_rows": null,
            "grid_column": null,
            "grid_gap": null,
            "grid_row": null,
            "grid_template_areas": null,
            "grid_template_columns": null,
            "grid_template_rows": null,
            "height": null,
            "justify_content": null,
            "justify_items": null,
            "left": null,
            "margin": null,
            "max_height": null,
            "max_width": null,
            "min_height": null,
            "min_width": null,
            "object_fit": null,
            "object_position": null,
            "order": null,
            "overflow": null,
            "overflow_x": null,
            "overflow_y": null,
            "padding": null,
            "right": null,
            "top": null,
            "visibility": null,
            "width": null
          }
        },
        "67741f5dc6e545cd9fd4affe220507dc": {
          "model_module": "@jupyter-widgets/controls",
          "model_name": "DescriptionStyleModel",
          "model_module_version": "1.5.0",
          "state": {
            "_model_module": "@jupyter-widgets/controls",
            "_model_module_version": "1.5.0",
            "_model_name": "DescriptionStyleModel",
            "_view_count": null,
            "_view_module": "@jupyter-widgets/base",
            "_view_module_version": "1.2.0",
            "_view_name": "StyleView",
            "description_width": ""
          }
        },
        "7131a944d230489a9cfb79488464d7a0": {
          "model_module": "@jupyter-widgets/base",
          "model_name": "LayoutModel",
          "model_module_version": "1.2.0",
          "state": {
            "_model_module": "@jupyter-widgets/base",
            "_model_module_version": "1.2.0",
            "_model_name": "LayoutModel",
            "_view_count": null,
            "_view_module": "@jupyter-widgets/base",
            "_view_module_version": "1.2.0",
            "_view_name": "LayoutView",
            "align_content": null,
            "align_items": null,
            "align_self": null,
            "border": null,
            "bottom": null,
            "display": null,
            "flex": null,
            "flex_flow": null,
            "grid_area": null,
            "grid_auto_columns": null,
            "grid_auto_flow": null,
            "grid_auto_rows": null,
            "grid_column": null,
            "grid_gap": null,
            "grid_row": null,
            "grid_template_areas": null,
            "grid_template_columns": null,
            "grid_template_rows": null,
            "height": null,
            "justify_content": null,
            "justify_items": null,
            "left": null,
            "margin": null,
            "max_height": null,
            "max_width": null,
            "min_height": null,
            "min_width": null,
            "object_fit": null,
            "object_position": null,
            "order": null,
            "overflow": null,
            "overflow_x": null,
            "overflow_y": null,
            "padding": null,
            "right": null,
            "top": null,
            "visibility": null,
            "width": null
          }
        },
        "db94469f0a864c628dd1ef7b2d4e9f43": {
          "model_module": "@jupyter-widgets/controls",
          "model_name": "ProgressStyleModel",
          "model_module_version": "1.5.0",
          "state": {
            "_model_module": "@jupyter-widgets/controls",
            "_model_module_version": "1.5.0",
            "_model_name": "ProgressStyleModel",
            "_view_count": null,
            "_view_module": "@jupyter-widgets/base",
            "_view_module_version": "1.2.0",
            "_view_name": "StyleView",
            "bar_color": null,
            "description_width": ""
          }
        },
        "d4f4198f2df04452ad422ef23c7ea837": {
          "model_module": "@jupyter-widgets/base",
          "model_name": "LayoutModel",
          "model_module_version": "1.2.0",
          "state": {
            "_model_module": "@jupyter-widgets/base",
            "_model_module_version": "1.2.0",
            "_model_name": "LayoutModel",
            "_view_count": null,
            "_view_module": "@jupyter-widgets/base",
            "_view_module_version": "1.2.0",
            "_view_name": "LayoutView",
            "align_content": null,
            "align_items": null,
            "align_self": null,
            "border": null,
            "bottom": null,
            "display": null,
            "flex": null,
            "flex_flow": null,
            "grid_area": null,
            "grid_auto_columns": null,
            "grid_auto_flow": null,
            "grid_auto_rows": null,
            "grid_column": null,
            "grid_gap": null,
            "grid_row": null,
            "grid_template_areas": null,
            "grid_template_columns": null,
            "grid_template_rows": null,
            "height": null,
            "justify_content": null,
            "justify_items": null,
            "left": null,
            "margin": null,
            "max_height": null,
            "max_width": null,
            "min_height": null,
            "min_width": null,
            "object_fit": null,
            "object_position": null,
            "order": null,
            "overflow": null,
            "overflow_x": null,
            "overflow_y": null,
            "padding": null,
            "right": null,
            "top": null,
            "visibility": null,
            "width": null
          }
        },
        "ce6c79b9f8224a9482305cb0ebe9bdb1": {
          "model_module": "@jupyter-widgets/controls",
          "model_name": "DescriptionStyleModel",
          "model_module_version": "1.5.0",
          "state": {
            "_model_module": "@jupyter-widgets/controls",
            "_model_module_version": "1.5.0",
            "_model_name": "DescriptionStyleModel",
            "_view_count": null,
            "_view_module": "@jupyter-widgets/base",
            "_view_module_version": "1.2.0",
            "_view_name": "StyleView",
            "description_width": ""
          }
        },
        "bd39029de8364adcb96dc92c9af7a905": {
          "model_module": "@jupyter-widgets/controls",
          "model_name": "HBoxModel",
          "model_module_version": "1.5.0",
          "state": {
            "_dom_classes": [],
            "_model_module": "@jupyter-widgets/controls",
            "_model_module_version": "1.5.0",
            "_model_name": "HBoxModel",
            "_view_count": null,
            "_view_module": "@jupyter-widgets/controls",
            "_view_module_version": "1.5.0",
            "_view_name": "HBoxView",
            "box_style": "",
            "children": [
              "IPY_MODEL_03af3008395f44c889034cb5620774b2",
              "IPY_MODEL_cb5924a309674f2189ca505d79b33795",
              "IPY_MODEL_f92e6a6ac2874a5da2a9add77e9de7ee"
            ],
            "layout": "IPY_MODEL_f829385d710248478a83c77d28a39dda"
          }
        },
        "03af3008395f44c889034cb5620774b2": {
          "model_module": "@jupyter-widgets/controls",
          "model_name": "HTMLModel",
          "model_module_version": "1.5.0",
          "state": {
            "_dom_classes": [],
            "_model_module": "@jupyter-widgets/controls",
            "_model_module_version": "1.5.0",
            "_model_name": "HTMLModel",
            "_view_count": null,
            "_view_module": "@jupyter-widgets/controls",
            "_view_module_version": "1.5.0",
            "_view_name": "HTMLView",
            "description": "",
            "description_tooltip": null,
            "layout": "IPY_MODEL_4c243dfd21bc43119b84eece45290e9f",
            "placeholder": "​",
            "style": "IPY_MODEL_2d3d827b5bc94e60bddf9cfc8da4ce06",
            "value": "Shuffling ~/tensorflow_datasets/speech_commands/0.0.2.incompleteC5VBXR/speech_commands-train.tfrecord*...: 100%"
          }
        },
        "cb5924a309674f2189ca505d79b33795": {
          "model_module": "@jupyter-widgets/controls",
          "model_name": "FloatProgressModel",
          "model_module_version": "1.5.0",
          "state": {
            "_dom_classes": [],
            "_model_module": "@jupyter-widgets/controls",
            "_model_module_version": "1.5.0",
            "_model_name": "FloatProgressModel",
            "_view_count": null,
            "_view_module": "@jupyter-widgets/controls",
            "_view_module_version": "1.5.0",
            "_view_name": "ProgressView",
            "bar_style": "",
            "description": "",
            "description_tooltip": null,
            "layout": "IPY_MODEL_c1bd0f59528c49788c8ed9e444c8557f",
            "max": 85511,
            "min": 0,
            "orientation": "horizontal",
            "style": "IPY_MODEL_c76439769d9d4c0b8a47b27c761ee90b",
            "value": 85511
          }
        },
        "f92e6a6ac2874a5da2a9add77e9de7ee": {
          "model_module": "@jupyter-widgets/controls",
          "model_name": "HTMLModel",
          "model_module_version": "1.5.0",
          "state": {
            "_dom_classes": [],
            "_model_module": "@jupyter-widgets/controls",
            "_model_module_version": "1.5.0",
            "_model_name": "HTMLModel",
            "_view_count": null,
            "_view_module": "@jupyter-widgets/controls",
            "_view_module_version": "1.5.0",
            "_view_name": "HTMLView",
            "description": "",
            "description_tooltip": null,
            "layout": "IPY_MODEL_cf14c123843b415c985bc6b0466fd81a",
            "placeholder": "​",
            "style": "IPY_MODEL_e352c1affb1c4a1fba44f18f23d812a7",
            "value": " 85329/85511 [00:55&lt;00:00, 1585.19 examples/s]"
          }
        },
        "f829385d710248478a83c77d28a39dda": {
          "model_module": "@jupyter-widgets/base",
          "model_name": "LayoutModel",
          "model_module_version": "1.2.0",
          "state": {
            "_model_module": "@jupyter-widgets/base",
            "_model_module_version": "1.2.0",
            "_model_name": "LayoutModel",
            "_view_count": null,
            "_view_module": "@jupyter-widgets/base",
            "_view_module_version": "1.2.0",
            "_view_name": "LayoutView",
            "align_content": null,
            "align_items": null,
            "align_self": null,
            "border": null,
            "bottom": null,
            "display": null,
            "flex": null,
            "flex_flow": null,
            "grid_area": null,
            "grid_auto_columns": null,
            "grid_auto_flow": null,
            "grid_auto_rows": null,
            "grid_column": null,
            "grid_gap": null,
            "grid_row": null,
            "grid_template_areas": null,
            "grid_template_columns": null,
            "grid_template_rows": null,
            "height": null,
            "justify_content": null,
            "justify_items": null,
            "left": null,
            "margin": null,
            "max_height": null,
            "max_width": null,
            "min_height": null,
            "min_width": null,
            "object_fit": null,
            "object_position": null,
            "order": null,
            "overflow": null,
            "overflow_x": null,
            "overflow_y": null,
            "padding": null,
            "right": null,
            "top": null,
            "visibility": "hidden",
            "width": null
          }
        },
        "4c243dfd21bc43119b84eece45290e9f": {
          "model_module": "@jupyter-widgets/base",
          "model_name": "LayoutModel",
          "model_module_version": "1.2.0",
          "state": {
            "_model_module": "@jupyter-widgets/base",
            "_model_module_version": "1.2.0",
            "_model_name": "LayoutModel",
            "_view_count": null,
            "_view_module": "@jupyter-widgets/base",
            "_view_module_version": "1.2.0",
            "_view_name": "LayoutView",
            "align_content": null,
            "align_items": null,
            "align_self": null,
            "border": null,
            "bottom": null,
            "display": null,
            "flex": null,
            "flex_flow": null,
            "grid_area": null,
            "grid_auto_columns": null,
            "grid_auto_flow": null,
            "grid_auto_rows": null,
            "grid_column": null,
            "grid_gap": null,
            "grid_row": null,
            "grid_template_areas": null,
            "grid_template_columns": null,
            "grid_template_rows": null,
            "height": null,
            "justify_content": null,
            "justify_items": null,
            "left": null,
            "margin": null,
            "max_height": null,
            "max_width": null,
            "min_height": null,
            "min_width": null,
            "object_fit": null,
            "object_position": null,
            "order": null,
            "overflow": null,
            "overflow_x": null,
            "overflow_y": null,
            "padding": null,
            "right": null,
            "top": null,
            "visibility": null,
            "width": null
          }
        },
        "2d3d827b5bc94e60bddf9cfc8da4ce06": {
          "model_module": "@jupyter-widgets/controls",
          "model_name": "DescriptionStyleModel",
          "model_module_version": "1.5.0",
          "state": {
            "_model_module": "@jupyter-widgets/controls",
            "_model_module_version": "1.5.0",
            "_model_name": "DescriptionStyleModel",
            "_view_count": null,
            "_view_module": "@jupyter-widgets/base",
            "_view_module_version": "1.2.0",
            "_view_name": "StyleView",
            "description_width": ""
          }
        },
        "c1bd0f59528c49788c8ed9e444c8557f": {
          "model_module": "@jupyter-widgets/base",
          "model_name": "LayoutModel",
          "model_module_version": "1.2.0",
          "state": {
            "_model_module": "@jupyter-widgets/base",
            "_model_module_version": "1.2.0",
            "_model_name": "LayoutModel",
            "_view_count": null,
            "_view_module": "@jupyter-widgets/base",
            "_view_module_version": "1.2.0",
            "_view_name": "LayoutView",
            "align_content": null,
            "align_items": null,
            "align_self": null,
            "border": null,
            "bottom": null,
            "display": null,
            "flex": null,
            "flex_flow": null,
            "grid_area": null,
            "grid_auto_columns": null,
            "grid_auto_flow": null,
            "grid_auto_rows": null,
            "grid_column": null,
            "grid_gap": null,
            "grid_row": null,
            "grid_template_areas": null,
            "grid_template_columns": null,
            "grid_template_rows": null,
            "height": null,
            "justify_content": null,
            "justify_items": null,
            "left": null,
            "margin": null,
            "max_height": null,
            "max_width": null,
            "min_height": null,
            "min_width": null,
            "object_fit": null,
            "object_position": null,
            "order": null,
            "overflow": null,
            "overflow_x": null,
            "overflow_y": null,
            "padding": null,
            "right": null,
            "top": null,
            "visibility": null,
            "width": null
          }
        },
        "c76439769d9d4c0b8a47b27c761ee90b": {
          "model_module": "@jupyter-widgets/controls",
          "model_name": "ProgressStyleModel",
          "model_module_version": "1.5.0",
          "state": {
            "_model_module": "@jupyter-widgets/controls",
            "_model_module_version": "1.5.0",
            "_model_name": "ProgressStyleModel",
            "_view_count": null,
            "_view_module": "@jupyter-widgets/base",
            "_view_module_version": "1.2.0",
            "_view_name": "StyleView",
            "bar_color": null,
            "description_width": ""
          }
        },
        "cf14c123843b415c985bc6b0466fd81a": {
          "model_module": "@jupyter-widgets/base",
          "model_name": "LayoutModel",
          "model_module_version": "1.2.0",
          "state": {
            "_model_module": "@jupyter-widgets/base",
            "_model_module_version": "1.2.0",
            "_model_name": "LayoutModel",
            "_view_count": null,
            "_view_module": "@jupyter-widgets/base",
            "_view_module_version": "1.2.0",
            "_view_name": "LayoutView",
            "align_content": null,
            "align_items": null,
            "align_self": null,
            "border": null,
            "bottom": null,
            "display": null,
            "flex": null,
            "flex_flow": null,
            "grid_area": null,
            "grid_auto_columns": null,
            "grid_auto_flow": null,
            "grid_auto_rows": null,
            "grid_column": null,
            "grid_gap": null,
            "grid_row": null,
            "grid_template_areas": null,
            "grid_template_columns": null,
            "grid_template_rows": null,
            "height": null,
            "justify_content": null,
            "justify_items": null,
            "left": null,
            "margin": null,
            "max_height": null,
            "max_width": null,
            "min_height": null,
            "min_width": null,
            "object_fit": null,
            "object_position": null,
            "order": null,
            "overflow": null,
            "overflow_x": null,
            "overflow_y": null,
            "padding": null,
            "right": null,
            "top": null,
            "visibility": null,
            "width": null
          }
        },
        "e352c1affb1c4a1fba44f18f23d812a7": {
          "model_module": "@jupyter-widgets/controls",
          "model_name": "DescriptionStyleModel",
          "model_module_version": "1.5.0",
          "state": {
            "_model_module": "@jupyter-widgets/controls",
            "_model_module_version": "1.5.0",
            "_model_name": "DescriptionStyleModel",
            "_view_count": null,
            "_view_module": "@jupyter-widgets/base",
            "_view_module_version": "1.2.0",
            "_view_name": "StyleView",
            "description_width": ""
          }
        },
        "d46301b2bf9c4688becba5d5407bf684": {
          "model_module": "@jupyter-widgets/controls",
          "model_name": "HBoxModel",
          "model_module_version": "1.5.0",
          "state": {
            "_dom_classes": [],
            "_model_module": "@jupyter-widgets/controls",
            "_model_module_version": "1.5.0",
            "_model_name": "HBoxModel",
            "_view_count": null,
            "_view_module": "@jupyter-widgets/controls",
            "_view_module_version": "1.5.0",
            "_view_name": "HBoxView",
            "box_style": "",
            "children": [
              "IPY_MODEL_c9a8ea7dcf2e48569ba04e57fd02e347",
              "IPY_MODEL_8ffd85a7991945bf87bf11b1468d3827",
              "IPY_MODEL_cc44927b01b240df8922600619005fd7"
            ],
            "layout": "IPY_MODEL_550d4801b871496faf4aba1d4ed21627"
          }
        },
        "c9a8ea7dcf2e48569ba04e57fd02e347": {
          "model_module": "@jupyter-widgets/controls",
          "model_name": "HTMLModel",
          "model_module_version": "1.5.0",
          "state": {
            "_dom_classes": [],
            "_model_module": "@jupyter-widgets/controls",
            "_model_module_version": "1.5.0",
            "_model_name": "HTMLModel",
            "_view_count": null,
            "_view_module": "@jupyter-widgets/controls",
            "_view_module_version": "1.5.0",
            "_view_name": "HTMLView",
            "description": "",
            "description_tooltip": null,
            "layout": "IPY_MODEL_fb524c518dfb4119b2aa627cbde4589f",
            "placeholder": "​",
            "style": "IPY_MODEL_b2563c20b4454c54bf8c1d221d66189e",
            "value": "Generating validation examples...: 100%"
          }
        },
        "8ffd85a7991945bf87bf11b1468d3827": {
          "model_module": "@jupyter-widgets/controls",
          "model_name": "FloatProgressModel",
          "model_module_version": "1.5.0",
          "state": {
            "_dom_classes": [],
            "_model_module": "@jupyter-widgets/controls",
            "_model_module_version": "1.5.0",
            "_model_name": "FloatProgressModel",
            "_view_count": null,
            "_view_module": "@jupyter-widgets/controls",
            "_view_module_version": "1.5.0",
            "_view_name": "ProgressView",
            "bar_style": "",
            "description": "",
            "description_tooltip": null,
            "layout": "IPY_MODEL_12512a1282d34e6492ea7d3c365e5d14",
            "max": 10102,
            "min": 0,
            "orientation": "horizontal",
            "style": "IPY_MODEL_97195ec6e9d941ffb727d5af05cd1f49",
            "value": 10102
          }
        },
        "cc44927b01b240df8922600619005fd7": {
          "model_module": "@jupyter-widgets/controls",
          "model_name": "HTMLModel",
          "model_module_version": "1.5.0",
          "state": {
            "_dom_classes": [],
            "_model_module": "@jupyter-widgets/controls",
            "_model_module_version": "1.5.0",
            "_model_name": "HTMLModel",
            "_view_count": null,
            "_view_module": "@jupyter-widgets/controls",
            "_view_module_version": "1.5.0",
            "_view_name": "HTMLView",
            "description": "",
            "description_tooltip": null,
            "layout": "IPY_MODEL_41f83a4977d84767b8e90bda1858a27f",
            "placeholder": "​",
            "style": "IPY_MODEL_9a585d0741bc4401ad7545aeb0006301",
            "value": " 10094/10102 [01:36&lt;00:00, 100.33 examples/s]"
          }
        },
        "550d4801b871496faf4aba1d4ed21627": {
          "model_module": "@jupyter-widgets/base",
          "model_name": "LayoutModel",
          "model_module_version": "1.2.0",
          "state": {
            "_model_module": "@jupyter-widgets/base",
            "_model_module_version": "1.2.0",
            "_model_name": "LayoutModel",
            "_view_count": null,
            "_view_module": "@jupyter-widgets/base",
            "_view_module_version": "1.2.0",
            "_view_name": "LayoutView",
            "align_content": null,
            "align_items": null,
            "align_self": null,
            "border": null,
            "bottom": null,
            "display": null,
            "flex": null,
            "flex_flow": null,
            "grid_area": null,
            "grid_auto_columns": null,
            "grid_auto_flow": null,
            "grid_auto_rows": null,
            "grid_column": null,
            "grid_gap": null,
            "grid_row": null,
            "grid_template_areas": null,
            "grid_template_columns": null,
            "grid_template_rows": null,
            "height": null,
            "justify_content": null,
            "justify_items": null,
            "left": null,
            "margin": null,
            "max_height": null,
            "max_width": null,
            "min_height": null,
            "min_width": null,
            "object_fit": null,
            "object_position": null,
            "order": null,
            "overflow": null,
            "overflow_x": null,
            "overflow_y": null,
            "padding": null,
            "right": null,
            "top": null,
            "visibility": "hidden",
            "width": null
          }
        },
        "fb524c518dfb4119b2aa627cbde4589f": {
          "model_module": "@jupyter-widgets/base",
          "model_name": "LayoutModel",
          "model_module_version": "1.2.0",
          "state": {
            "_model_module": "@jupyter-widgets/base",
            "_model_module_version": "1.2.0",
            "_model_name": "LayoutModel",
            "_view_count": null,
            "_view_module": "@jupyter-widgets/base",
            "_view_module_version": "1.2.0",
            "_view_name": "LayoutView",
            "align_content": null,
            "align_items": null,
            "align_self": null,
            "border": null,
            "bottom": null,
            "display": null,
            "flex": null,
            "flex_flow": null,
            "grid_area": null,
            "grid_auto_columns": null,
            "grid_auto_flow": null,
            "grid_auto_rows": null,
            "grid_column": null,
            "grid_gap": null,
            "grid_row": null,
            "grid_template_areas": null,
            "grid_template_columns": null,
            "grid_template_rows": null,
            "height": null,
            "justify_content": null,
            "justify_items": null,
            "left": null,
            "margin": null,
            "max_height": null,
            "max_width": null,
            "min_height": null,
            "min_width": null,
            "object_fit": null,
            "object_position": null,
            "order": null,
            "overflow": null,
            "overflow_x": null,
            "overflow_y": null,
            "padding": null,
            "right": null,
            "top": null,
            "visibility": null,
            "width": null
          }
        },
        "b2563c20b4454c54bf8c1d221d66189e": {
          "model_module": "@jupyter-widgets/controls",
          "model_name": "DescriptionStyleModel",
          "model_module_version": "1.5.0",
          "state": {
            "_model_module": "@jupyter-widgets/controls",
            "_model_module_version": "1.5.0",
            "_model_name": "DescriptionStyleModel",
            "_view_count": null,
            "_view_module": "@jupyter-widgets/base",
            "_view_module_version": "1.2.0",
            "_view_name": "StyleView",
            "description_width": ""
          }
        },
        "12512a1282d34e6492ea7d3c365e5d14": {
          "model_module": "@jupyter-widgets/base",
          "model_name": "LayoutModel",
          "model_module_version": "1.2.0",
          "state": {
            "_model_module": "@jupyter-widgets/base",
            "_model_module_version": "1.2.0",
            "_model_name": "LayoutModel",
            "_view_count": null,
            "_view_module": "@jupyter-widgets/base",
            "_view_module_version": "1.2.0",
            "_view_name": "LayoutView",
            "align_content": null,
            "align_items": null,
            "align_self": null,
            "border": null,
            "bottom": null,
            "display": null,
            "flex": null,
            "flex_flow": null,
            "grid_area": null,
            "grid_auto_columns": null,
            "grid_auto_flow": null,
            "grid_auto_rows": null,
            "grid_column": null,
            "grid_gap": null,
            "grid_row": null,
            "grid_template_areas": null,
            "grid_template_columns": null,
            "grid_template_rows": null,
            "height": null,
            "justify_content": null,
            "justify_items": null,
            "left": null,
            "margin": null,
            "max_height": null,
            "max_width": null,
            "min_height": null,
            "min_width": null,
            "object_fit": null,
            "object_position": null,
            "order": null,
            "overflow": null,
            "overflow_x": null,
            "overflow_y": null,
            "padding": null,
            "right": null,
            "top": null,
            "visibility": null,
            "width": null
          }
        },
        "97195ec6e9d941ffb727d5af05cd1f49": {
          "model_module": "@jupyter-widgets/controls",
          "model_name": "ProgressStyleModel",
          "model_module_version": "1.5.0",
          "state": {
            "_model_module": "@jupyter-widgets/controls",
            "_model_module_version": "1.5.0",
            "_model_name": "ProgressStyleModel",
            "_view_count": null,
            "_view_module": "@jupyter-widgets/base",
            "_view_module_version": "1.2.0",
            "_view_name": "StyleView",
            "bar_color": null,
            "description_width": ""
          }
        },
        "41f83a4977d84767b8e90bda1858a27f": {
          "model_module": "@jupyter-widgets/base",
          "model_name": "LayoutModel",
          "model_module_version": "1.2.0",
          "state": {
            "_model_module": "@jupyter-widgets/base",
            "_model_module_version": "1.2.0",
            "_model_name": "LayoutModel",
            "_view_count": null,
            "_view_module": "@jupyter-widgets/base",
            "_view_module_version": "1.2.0",
            "_view_name": "LayoutView",
            "align_content": null,
            "align_items": null,
            "align_self": null,
            "border": null,
            "bottom": null,
            "display": null,
            "flex": null,
            "flex_flow": null,
            "grid_area": null,
            "grid_auto_columns": null,
            "grid_auto_flow": null,
            "grid_auto_rows": null,
            "grid_column": null,
            "grid_gap": null,
            "grid_row": null,
            "grid_template_areas": null,
            "grid_template_columns": null,
            "grid_template_rows": null,
            "height": null,
            "justify_content": null,
            "justify_items": null,
            "left": null,
            "margin": null,
            "max_height": null,
            "max_width": null,
            "min_height": null,
            "min_width": null,
            "object_fit": null,
            "object_position": null,
            "order": null,
            "overflow": null,
            "overflow_x": null,
            "overflow_y": null,
            "padding": null,
            "right": null,
            "top": null,
            "visibility": null,
            "width": null
          }
        },
        "9a585d0741bc4401ad7545aeb0006301": {
          "model_module": "@jupyter-widgets/controls",
          "model_name": "DescriptionStyleModel",
          "model_module_version": "1.5.0",
          "state": {
            "_model_module": "@jupyter-widgets/controls",
            "_model_module_version": "1.5.0",
            "_model_name": "DescriptionStyleModel",
            "_view_count": null,
            "_view_module": "@jupyter-widgets/base",
            "_view_module_version": "1.2.0",
            "_view_name": "StyleView",
            "description_width": ""
          }
        },
        "1120578e797247dc82f0cf2ba647f207": {
          "model_module": "@jupyter-widgets/controls",
          "model_name": "HBoxModel",
          "model_module_version": "1.5.0",
          "state": {
            "_dom_classes": [],
            "_model_module": "@jupyter-widgets/controls",
            "_model_module_version": "1.5.0",
            "_model_name": "HBoxModel",
            "_view_count": null,
            "_view_module": "@jupyter-widgets/controls",
            "_view_module_version": "1.5.0",
            "_view_name": "HBoxView",
            "box_style": "",
            "children": [
              "IPY_MODEL_a645199e01e84d6ca33b1ff4d3ee6300",
              "IPY_MODEL_8f7b03db20e540ff8d93318f016a2125",
              "IPY_MODEL_8252d1e7a50b4fa4a128852040763beb"
            ],
            "layout": "IPY_MODEL_382e340a683a40a8bd05b4c9b24050f1"
          }
        },
        "a645199e01e84d6ca33b1ff4d3ee6300": {
          "model_module": "@jupyter-widgets/controls",
          "model_name": "HTMLModel",
          "model_module_version": "1.5.0",
          "state": {
            "_dom_classes": [],
            "_model_module": "@jupyter-widgets/controls",
            "_model_module_version": "1.5.0",
            "_model_name": "HTMLModel",
            "_view_count": null,
            "_view_module": "@jupyter-widgets/controls",
            "_view_module_version": "1.5.0",
            "_view_name": "HTMLView",
            "description": "",
            "description_tooltip": null,
            "layout": "IPY_MODEL_ae83e3115e6f4440b0d19169ecc8cc44",
            "placeholder": "​",
            "style": "IPY_MODEL_613d2535dc13448fb59f637b1e1a52fc",
            "value": "Shuffling ~/tensorflow_datasets/speech_commands/0.0.2.incompleteC5VBXR/speech_commands-validation.tfrecord*...:  98%"
          }
        },
        "8f7b03db20e540ff8d93318f016a2125": {
          "model_module": "@jupyter-widgets/controls",
          "model_name": "FloatProgressModel",
          "model_module_version": "1.5.0",
          "state": {
            "_dom_classes": [],
            "_model_module": "@jupyter-widgets/controls",
            "_model_module_version": "1.5.0",
            "_model_name": "FloatProgressModel",
            "_view_count": null,
            "_view_module": "@jupyter-widgets/controls",
            "_view_module_version": "1.5.0",
            "_view_name": "ProgressView",
            "bar_style": "",
            "description": "",
            "description_tooltip": null,
            "layout": "IPY_MODEL_45abb8e9dbb94abc89a9627dc59c6684",
            "max": 10102,
            "min": 0,
            "orientation": "horizontal",
            "style": "IPY_MODEL_457a290a37d84762a1915c82c25100dc",
            "value": 10102
          }
        },
        "8252d1e7a50b4fa4a128852040763beb": {
          "model_module": "@jupyter-widgets/controls",
          "model_name": "HTMLModel",
          "model_module_version": "1.5.0",
          "state": {
            "_dom_classes": [],
            "_model_module": "@jupyter-widgets/controls",
            "_model_module_version": "1.5.0",
            "_model_name": "HTMLModel",
            "_view_count": null,
            "_view_module": "@jupyter-widgets/controls",
            "_view_module_version": "1.5.0",
            "_view_name": "HTMLView",
            "description": "",
            "description_tooltip": null,
            "layout": "IPY_MODEL_eddf6151b78c46b6b6c4c79ac0589ece",
            "placeholder": "​",
            "style": "IPY_MODEL_cfd4863a0b914ec8b178f4ac86b0f66f",
            "value": " 9909/10102 [00:02&lt;00:00, 2925.85 examples/s]"
          }
        },
        "382e340a683a40a8bd05b4c9b24050f1": {
          "model_module": "@jupyter-widgets/base",
          "model_name": "LayoutModel",
          "model_module_version": "1.2.0",
          "state": {
            "_model_module": "@jupyter-widgets/base",
            "_model_module_version": "1.2.0",
            "_model_name": "LayoutModel",
            "_view_count": null,
            "_view_module": "@jupyter-widgets/base",
            "_view_module_version": "1.2.0",
            "_view_name": "LayoutView",
            "align_content": null,
            "align_items": null,
            "align_self": null,
            "border": null,
            "bottom": null,
            "display": null,
            "flex": null,
            "flex_flow": null,
            "grid_area": null,
            "grid_auto_columns": null,
            "grid_auto_flow": null,
            "grid_auto_rows": null,
            "grid_column": null,
            "grid_gap": null,
            "grid_row": null,
            "grid_template_areas": null,
            "grid_template_columns": null,
            "grid_template_rows": null,
            "height": null,
            "justify_content": null,
            "justify_items": null,
            "left": null,
            "margin": null,
            "max_height": null,
            "max_width": null,
            "min_height": null,
            "min_width": null,
            "object_fit": null,
            "object_position": null,
            "order": null,
            "overflow": null,
            "overflow_x": null,
            "overflow_y": null,
            "padding": null,
            "right": null,
            "top": null,
            "visibility": "hidden",
            "width": null
          }
        },
        "ae83e3115e6f4440b0d19169ecc8cc44": {
          "model_module": "@jupyter-widgets/base",
          "model_name": "LayoutModel",
          "model_module_version": "1.2.0",
          "state": {
            "_model_module": "@jupyter-widgets/base",
            "_model_module_version": "1.2.0",
            "_model_name": "LayoutModel",
            "_view_count": null,
            "_view_module": "@jupyter-widgets/base",
            "_view_module_version": "1.2.0",
            "_view_name": "LayoutView",
            "align_content": null,
            "align_items": null,
            "align_self": null,
            "border": null,
            "bottom": null,
            "display": null,
            "flex": null,
            "flex_flow": null,
            "grid_area": null,
            "grid_auto_columns": null,
            "grid_auto_flow": null,
            "grid_auto_rows": null,
            "grid_column": null,
            "grid_gap": null,
            "grid_row": null,
            "grid_template_areas": null,
            "grid_template_columns": null,
            "grid_template_rows": null,
            "height": null,
            "justify_content": null,
            "justify_items": null,
            "left": null,
            "margin": null,
            "max_height": null,
            "max_width": null,
            "min_height": null,
            "min_width": null,
            "object_fit": null,
            "object_position": null,
            "order": null,
            "overflow": null,
            "overflow_x": null,
            "overflow_y": null,
            "padding": null,
            "right": null,
            "top": null,
            "visibility": null,
            "width": null
          }
        },
        "613d2535dc13448fb59f637b1e1a52fc": {
          "model_module": "@jupyter-widgets/controls",
          "model_name": "DescriptionStyleModel",
          "model_module_version": "1.5.0",
          "state": {
            "_model_module": "@jupyter-widgets/controls",
            "_model_module_version": "1.5.0",
            "_model_name": "DescriptionStyleModel",
            "_view_count": null,
            "_view_module": "@jupyter-widgets/base",
            "_view_module_version": "1.2.0",
            "_view_name": "StyleView",
            "description_width": ""
          }
        },
        "45abb8e9dbb94abc89a9627dc59c6684": {
          "model_module": "@jupyter-widgets/base",
          "model_name": "LayoutModel",
          "model_module_version": "1.2.0",
          "state": {
            "_model_module": "@jupyter-widgets/base",
            "_model_module_version": "1.2.0",
            "_model_name": "LayoutModel",
            "_view_count": null,
            "_view_module": "@jupyter-widgets/base",
            "_view_module_version": "1.2.0",
            "_view_name": "LayoutView",
            "align_content": null,
            "align_items": null,
            "align_self": null,
            "border": null,
            "bottom": null,
            "display": null,
            "flex": null,
            "flex_flow": null,
            "grid_area": null,
            "grid_auto_columns": null,
            "grid_auto_flow": null,
            "grid_auto_rows": null,
            "grid_column": null,
            "grid_gap": null,
            "grid_row": null,
            "grid_template_areas": null,
            "grid_template_columns": null,
            "grid_template_rows": null,
            "height": null,
            "justify_content": null,
            "justify_items": null,
            "left": null,
            "margin": null,
            "max_height": null,
            "max_width": null,
            "min_height": null,
            "min_width": null,
            "object_fit": null,
            "object_position": null,
            "order": null,
            "overflow": null,
            "overflow_x": null,
            "overflow_y": null,
            "padding": null,
            "right": null,
            "top": null,
            "visibility": null,
            "width": null
          }
        },
        "457a290a37d84762a1915c82c25100dc": {
          "model_module": "@jupyter-widgets/controls",
          "model_name": "ProgressStyleModel",
          "model_module_version": "1.5.0",
          "state": {
            "_model_module": "@jupyter-widgets/controls",
            "_model_module_version": "1.5.0",
            "_model_name": "ProgressStyleModel",
            "_view_count": null,
            "_view_module": "@jupyter-widgets/base",
            "_view_module_version": "1.2.0",
            "_view_name": "StyleView",
            "bar_color": null,
            "description_width": ""
          }
        },
        "eddf6151b78c46b6b6c4c79ac0589ece": {
          "model_module": "@jupyter-widgets/base",
          "model_name": "LayoutModel",
          "model_module_version": "1.2.0",
          "state": {
            "_model_module": "@jupyter-widgets/base",
            "_model_module_version": "1.2.0",
            "_model_name": "LayoutModel",
            "_view_count": null,
            "_view_module": "@jupyter-widgets/base",
            "_view_module_version": "1.2.0",
            "_view_name": "LayoutView",
            "align_content": null,
            "align_items": null,
            "align_self": null,
            "border": null,
            "bottom": null,
            "display": null,
            "flex": null,
            "flex_flow": null,
            "grid_area": null,
            "grid_auto_columns": null,
            "grid_auto_flow": null,
            "grid_auto_rows": null,
            "grid_column": null,
            "grid_gap": null,
            "grid_row": null,
            "grid_template_areas": null,
            "grid_template_columns": null,
            "grid_template_rows": null,
            "height": null,
            "justify_content": null,
            "justify_items": null,
            "left": null,
            "margin": null,
            "max_height": null,
            "max_width": null,
            "min_height": null,
            "min_width": null,
            "object_fit": null,
            "object_position": null,
            "order": null,
            "overflow": null,
            "overflow_x": null,
            "overflow_y": null,
            "padding": null,
            "right": null,
            "top": null,
            "visibility": null,
            "width": null
          }
        },
        "cfd4863a0b914ec8b178f4ac86b0f66f": {
          "model_module": "@jupyter-widgets/controls",
          "model_name": "DescriptionStyleModel",
          "model_module_version": "1.5.0",
          "state": {
            "_model_module": "@jupyter-widgets/controls",
            "_model_module_version": "1.5.0",
            "_model_name": "DescriptionStyleModel",
            "_view_count": null,
            "_view_module": "@jupyter-widgets/base",
            "_view_module_version": "1.2.0",
            "_view_name": "StyleView",
            "description_width": ""
          }
        },
        "a673bffbede143f2a901ac6c3cb7afe1": {
          "model_module": "@jupyter-widgets/controls",
          "model_name": "HBoxModel",
          "model_module_version": "1.5.0",
          "state": {
            "_dom_classes": [],
            "_model_module": "@jupyter-widgets/controls",
            "_model_module_version": "1.5.0",
            "_model_name": "HBoxModel",
            "_view_count": null,
            "_view_module": "@jupyter-widgets/controls",
            "_view_module_version": "1.5.0",
            "_view_name": "HBoxView",
            "box_style": "",
            "children": [
              "IPY_MODEL_6e22f9bec346447c85d5d061c6639422",
              "IPY_MODEL_ee07dc3b1344440b9d8a200abbe112d6",
              "IPY_MODEL_424cc288c8674ef394d7e449e7ad8147"
            ],
            "layout": "IPY_MODEL_27b188a2331d4a9580c4b2964da111fc"
          }
        },
        "6e22f9bec346447c85d5d061c6639422": {
          "model_module": "@jupyter-widgets/controls",
          "model_name": "HTMLModel",
          "model_module_version": "1.5.0",
          "state": {
            "_dom_classes": [],
            "_model_module": "@jupyter-widgets/controls",
            "_model_module_version": "1.5.0",
            "_model_name": "HTMLModel",
            "_view_count": null,
            "_view_module": "@jupyter-widgets/controls",
            "_view_module_version": "1.5.0",
            "_view_name": "HTMLView",
            "description": "",
            "description_tooltip": null,
            "layout": "IPY_MODEL_8dd792d625584c78853fa141730c1e48",
            "placeholder": "​",
            "style": "IPY_MODEL_bde7b5a6575e4447b16380d042a600db",
            "value": "Generating test examples...: 100%"
          }
        },
        "ee07dc3b1344440b9d8a200abbe112d6": {
          "model_module": "@jupyter-widgets/controls",
          "model_name": "FloatProgressModel",
          "model_module_version": "1.5.0",
          "state": {
            "_dom_classes": [],
            "_model_module": "@jupyter-widgets/controls",
            "_model_module_version": "1.5.0",
            "_model_name": "FloatProgressModel",
            "_view_count": null,
            "_view_module": "@jupyter-widgets/controls",
            "_view_module_version": "1.5.0",
            "_view_name": "ProgressView",
            "bar_style": "",
            "description": "",
            "description_tooltip": null,
            "layout": "IPY_MODEL_7ed560a798694a6c8775d944dccc49fa",
            "max": 4890,
            "min": 0,
            "orientation": "horizontal",
            "style": "IPY_MODEL_18df8551dc784d828778fb17b8c8e7ad",
            "value": 4890
          }
        },
        "424cc288c8674ef394d7e449e7ad8147": {
          "model_module": "@jupyter-widgets/controls",
          "model_name": "HTMLModel",
          "model_module_version": "1.5.0",
          "state": {
            "_dom_classes": [],
            "_model_module": "@jupyter-widgets/controls",
            "_model_module_version": "1.5.0",
            "_model_name": "HTMLModel",
            "_view_count": null,
            "_view_module": "@jupyter-widgets/controls",
            "_view_module_version": "1.5.0",
            "_view_name": "HTMLView",
            "description": "",
            "description_tooltip": null,
            "layout": "IPY_MODEL_e6dc432611544fa191cd7544f709b81f",
            "placeholder": "​",
            "style": "IPY_MODEL_4bcdc76e59e54b3b8aa3457c496d2d78",
            "value": " 4867/4890 [00:23&lt;00:00, 243.42 examples/s]"
          }
        },
        "27b188a2331d4a9580c4b2964da111fc": {
          "model_module": "@jupyter-widgets/base",
          "model_name": "LayoutModel",
          "model_module_version": "1.2.0",
          "state": {
            "_model_module": "@jupyter-widgets/base",
            "_model_module_version": "1.2.0",
            "_model_name": "LayoutModel",
            "_view_count": null,
            "_view_module": "@jupyter-widgets/base",
            "_view_module_version": "1.2.0",
            "_view_name": "LayoutView",
            "align_content": null,
            "align_items": null,
            "align_self": null,
            "border": null,
            "bottom": null,
            "display": null,
            "flex": null,
            "flex_flow": null,
            "grid_area": null,
            "grid_auto_columns": null,
            "grid_auto_flow": null,
            "grid_auto_rows": null,
            "grid_column": null,
            "grid_gap": null,
            "grid_row": null,
            "grid_template_areas": null,
            "grid_template_columns": null,
            "grid_template_rows": null,
            "height": null,
            "justify_content": null,
            "justify_items": null,
            "left": null,
            "margin": null,
            "max_height": null,
            "max_width": null,
            "min_height": null,
            "min_width": null,
            "object_fit": null,
            "object_position": null,
            "order": null,
            "overflow": null,
            "overflow_x": null,
            "overflow_y": null,
            "padding": null,
            "right": null,
            "top": null,
            "visibility": "hidden",
            "width": null
          }
        },
        "8dd792d625584c78853fa141730c1e48": {
          "model_module": "@jupyter-widgets/base",
          "model_name": "LayoutModel",
          "model_module_version": "1.2.0",
          "state": {
            "_model_module": "@jupyter-widgets/base",
            "_model_module_version": "1.2.0",
            "_model_name": "LayoutModel",
            "_view_count": null,
            "_view_module": "@jupyter-widgets/base",
            "_view_module_version": "1.2.0",
            "_view_name": "LayoutView",
            "align_content": null,
            "align_items": null,
            "align_self": null,
            "border": null,
            "bottom": null,
            "display": null,
            "flex": null,
            "flex_flow": null,
            "grid_area": null,
            "grid_auto_columns": null,
            "grid_auto_flow": null,
            "grid_auto_rows": null,
            "grid_column": null,
            "grid_gap": null,
            "grid_row": null,
            "grid_template_areas": null,
            "grid_template_columns": null,
            "grid_template_rows": null,
            "height": null,
            "justify_content": null,
            "justify_items": null,
            "left": null,
            "margin": null,
            "max_height": null,
            "max_width": null,
            "min_height": null,
            "min_width": null,
            "object_fit": null,
            "object_position": null,
            "order": null,
            "overflow": null,
            "overflow_x": null,
            "overflow_y": null,
            "padding": null,
            "right": null,
            "top": null,
            "visibility": null,
            "width": null
          }
        },
        "bde7b5a6575e4447b16380d042a600db": {
          "model_module": "@jupyter-widgets/controls",
          "model_name": "DescriptionStyleModel",
          "model_module_version": "1.5.0",
          "state": {
            "_model_module": "@jupyter-widgets/controls",
            "_model_module_version": "1.5.0",
            "_model_name": "DescriptionStyleModel",
            "_view_count": null,
            "_view_module": "@jupyter-widgets/base",
            "_view_module_version": "1.2.0",
            "_view_name": "StyleView",
            "description_width": ""
          }
        },
        "7ed560a798694a6c8775d944dccc49fa": {
          "model_module": "@jupyter-widgets/base",
          "model_name": "LayoutModel",
          "model_module_version": "1.2.0",
          "state": {
            "_model_module": "@jupyter-widgets/base",
            "_model_module_version": "1.2.0",
            "_model_name": "LayoutModel",
            "_view_count": null,
            "_view_module": "@jupyter-widgets/base",
            "_view_module_version": "1.2.0",
            "_view_name": "LayoutView",
            "align_content": null,
            "align_items": null,
            "align_self": null,
            "border": null,
            "bottom": null,
            "display": null,
            "flex": null,
            "flex_flow": null,
            "grid_area": null,
            "grid_auto_columns": null,
            "grid_auto_flow": null,
            "grid_auto_rows": null,
            "grid_column": null,
            "grid_gap": null,
            "grid_row": null,
            "grid_template_areas": null,
            "grid_template_columns": null,
            "grid_template_rows": null,
            "height": null,
            "justify_content": null,
            "justify_items": null,
            "left": null,
            "margin": null,
            "max_height": null,
            "max_width": null,
            "min_height": null,
            "min_width": null,
            "object_fit": null,
            "object_position": null,
            "order": null,
            "overflow": null,
            "overflow_x": null,
            "overflow_y": null,
            "padding": null,
            "right": null,
            "top": null,
            "visibility": null,
            "width": null
          }
        },
        "18df8551dc784d828778fb17b8c8e7ad": {
          "model_module": "@jupyter-widgets/controls",
          "model_name": "ProgressStyleModel",
          "model_module_version": "1.5.0",
          "state": {
            "_model_module": "@jupyter-widgets/controls",
            "_model_module_version": "1.5.0",
            "_model_name": "ProgressStyleModel",
            "_view_count": null,
            "_view_module": "@jupyter-widgets/base",
            "_view_module_version": "1.2.0",
            "_view_name": "StyleView",
            "bar_color": null,
            "description_width": ""
          }
        },
        "e6dc432611544fa191cd7544f709b81f": {
          "model_module": "@jupyter-widgets/base",
          "model_name": "LayoutModel",
          "model_module_version": "1.2.0",
          "state": {
            "_model_module": "@jupyter-widgets/base",
            "_model_module_version": "1.2.0",
            "_model_name": "LayoutModel",
            "_view_count": null,
            "_view_module": "@jupyter-widgets/base",
            "_view_module_version": "1.2.0",
            "_view_name": "LayoutView",
            "align_content": null,
            "align_items": null,
            "align_self": null,
            "border": null,
            "bottom": null,
            "display": null,
            "flex": null,
            "flex_flow": null,
            "grid_area": null,
            "grid_auto_columns": null,
            "grid_auto_flow": null,
            "grid_auto_rows": null,
            "grid_column": null,
            "grid_gap": null,
            "grid_row": null,
            "grid_template_areas": null,
            "grid_template_columns": null,
            "grid_template_rows": null,
            "height": null,
            "justify_content": null,
            "justify_items": null,
            "left": null,
            "margin": null,
            "max_height": null,
            "max_width": null,
            "min_height": null,
            "min_width": null,
            "object_fit": null,
            "object_position": null,
            "order": null,
            "overflow": null,
            "overflow_x": null,
            "overflow_y": null,
            "padding": null,
            "right": null,
            "top": null,
            "visibility": null,
            "width": null
          }
        },
        "4bcdc76e59e54b3b8aa3457c496d2d78": {
          "model_module": "@jupyter-widgets/controls",
          "model_name": "DescriptionStyleModel",
          "model_module_version": "1.5.0",
          "state": {
            "_model_module": "@jupyter-widgets/controls",
            "_model_module_version": "1.5.0",
            "_model_name": "DescriptionStyleModel",
            "_view_count": null,
            "_view_module": "@jupyter-widgets/base",
            "_view_module_version": "1.2.0",
            "_view_name": "StyleView",
            "description_width": ""
          }
        },
        "989ad0f1702d405e9272079be9a6deae": {
          "model_module": "@jupyter-widgets/controls",
          "model_name": "HBoxModel",
          "model_module_version": "1.5.0",
          "state": {
            "_dom_classes": [],
            "_model_module": "@jupyter-widgets/controls",
            "_model_module_version": "1.5.0",
            "_model_name": "HBoxModel",
            "_view_count": null,
            "_view_module": "@jupyter-widgets/controls",
            "_view_module_version": "1.5.0",
            "_view_name": "HBoxView",
            "box_style": "",
            "children": [
              "IPY_MODEL_87e715630f19451ba2fdcb2248766743",
              "IPY_MODEL_206791b746584a8abcb71f868b1b65e6",
              "IPY_MODEL_6bd8d8bca06545bb8fff5e3d45108ef9"
            ],
            "layout": "IPY_MODEL_881a139fbb7f47fab4128b3d8202adb6"
          }
        },
        "87e715630f19451ba2fdcb2248766743": {
          "model_module": "@jupyter-widgets/controls",
          "model_name": "HTMLModel",
          "model_module_version": "1.5.0",
          "state": {
            "_dom_classes": [],
            "_model_module": "@jupyter-widgets/controls",
            "_model_module_version": "1.5.0",
            "_model_name": "HTMLModel",
            "_view_count": null,
            "_view_module": "@jupyter-widgets/controls",
            "_view_module_version": "1.5.0",
            "_view_name": "HTMLView",
            "description": "",
            "description_tooltip": null,
            "layout": "IPY_MODEL_03f1bfd2316844e186bb6b6c67d36eae",
            "placeholder": "​",
            "style": "IPY_MODEL_996669373e4a4cf9b90b2a03f52bc6e6",
            "value": "Shuffling ~/tensorflow_datasets/speech_commands/0.0.2.incompleteC5VBXR/speech_commands-test.tfrecord*...:  97%"
          }
        },
        "206791b746584a8abcb71f868b1b65e6": {
          "model_module": "@jupyter-widgets/controls",
          "model_name": "FloatProgressModel",
          "model_module_version": "1.5.0",
          "state": {
            "_dom_classes": [],
            "_model_module": "@jupyter-widgets/controls",
            "_model_module_version": "1.5.0",
            "_model_name": "FloatProgressModel",
            "_view_count": null,
            "_view_module": "@jupyter-widgets/controls",
            "_view_module_version": "1.5.0",
            "_view_name": "ProgressView",
            "bar_style": "",
            "description": "",
            "description_tooltip": null,
            "layout": "IPY_MODEL_b7b297afa9f24bdca4d3a51152335738",
            "max": 4890,
            "min": 0,
            "orientation": "horizontal",
            "style": "IPY_MODEL_edd3e605807740d1b37ae9f18557e1b6",
            "value": 4890
          }
        },
        "6bd8d8bca06545bb8fff5e3d45108ef9": {
          "model_module": "@jupyter-widgets/controls",
          "model_name": "HTMLModel",
          "model_module_version": "1.5.0",
          "state": {
            "_dom_classes": [],
            "_model_module": "@jupyter-widgets/controls",
            "_model_module_version": "1.5.0",
            "_model_name": "HTMLModel",
            "_view_count": null,
            "_view_module": "@jupyter-widgets/controls",
            "_view_module_version": "1.5.0",
            "_view_name": "HTMLView",
            "description": "",
            "description_tooltip": null,
            "layout": "IPY_MODEL_257b96c2c2c74079805e65cba1e5f7c4",
            "placeholder": "​",
            "style": "IPY_MODEL_4300b08143094eb78282c4ebae4dc1b4",
            "value": " 4755/4890 [00:01&lt;00:00, 3207.46 examples/s]"
          }
        },
        "881a139fbb7f47fab4128b3d8202adb6": {
          "model_module": "@jupyter-widgets/base",
          "model_name": "LayoutModel",
          "model_module_version": "1.2.0",
          "state": {
            "_model_module": "@jupyter-widgets/base",
            "_model_module_version": "1.2.0",
            "_model_name": "LayoutModel",
            "_view_count": null,
            "_view_module": "@jupyter-widgets/base",
            "_view_module_version": "1.2.0",
            "_view_name": "LayoutView",
            "align_content": null,
            "align_items": null,
            "align_self": null,
            "border": null,
            "bottom": null,
            "display": null,
            "flex": null,
            "flex_flow": null,
            "grid_area": null,
            "grid_auto_columns": null,
            "grid_auto_flow": null,
            "grid_auto_rows": null,
            "grid_column": null,
            "grid_gap": null,
            "grid_row": null,
            "grid_template_areas": null,
            "grid_template_columns": null,
            "grid_template_rows": null,
            "height": null,
            "justify_content": null,
            "justify_items": null,
            "left": null,
            "margin": null,
            "max_height": null,
            "max_width": null,
            "min_height": null,
            "min_width": null,
            "object_fit": null,
            "object_position": null,
            "order": null,
            "overflow": null,
            "overflow_x": null,
            "overflow_y": null,
            "padding": null,
            "right": null,
            "top": null,
            "visibility": "hidden",
            "width": null
          }
        },
        "03f1bfd2316844e186bb6b6c67d36eae": {
          "model_module": "@jupyter-widgets/base",
          "model_name": "LayoutModel",
          "model_module_version": "1.2.0",
          "state": {
            "_model_module": "@jupyter-widgets/base",
            "_model_module_version": "1.2.0",
            "_model_name": "LayoutModel",
            "_view_count": null,
            "_view_module": "@jupyter-widgets/base",
            "_view_module_version": "1.2.0",
            "_view_name": "LayoutView",
            "align_content": null,
            "align_items": null,
            "align_self": null,
            "border": null,
            "bottom": null,
            "display": null,
            "flex": null,
            "flex_flow": null,
            "grid_area": null,
            "grid_auto_columns": null,
            "grid_auto_flow": null,
            "grid_auto_rows": null,
            "grid_column": null,
            "grid_gap": null,
            "grid_row": null,
            "grid_template_areas": null,
            "grid_template_columns": null,
            "grid_template_rows": null,
            "height": null,
            "justify_content": null,
            "justify_items": null,
            "left": null,
            "margin": null,
            "max_height": null,
            "max_width": null,
            "min_height": null,
            "min_width": null,
            "object_fit": null,
            "object_position": null,
            "order": null,
            "overflow": null,
            "overflow_x": null,
            "overflow_y": null,
            "padding": null,
            "right": null,
            "top": null,
            "visibility": null,
            "width": null
          }
        },
        "996669373e4a4cf9b90b2a03f52bc6e6": {
          "model_module": "@jupyter-widgets/controls",
          "model_name": "DescriptionStyleModel",
          "model_module_version": "1.5.0",
          "state": {
            "_model_module": "@jupyter-widgets/controls",
            "_model_module_version": "1.5.0",
            "_model_name": "DescriptionStyleModel",
            "_view_count": null,
            "_view_module": "@jupyter-widgets/base",
            "_view_module_version": "1.2.0",
            "_view_name": "StyleView",
            "description_width": ""
          }
        },
        "b7b297afa9f24bdca4d3a51152335738": {
          "model_module": "@jupyter-widgets/base",
          "model_name": "LayoutModel",
          "model_module_version": "1.2.0",
          "state": {
            "_model_module": "@jupyter-widgets/base",
            "_model_module_version": "1.2.0",
            "_model_name": "LayoutModel",
            "_view_count": null,
            "_view_module": "@jupyter-widgets/base",
            "_view_module_version": "1.2.0",
            "_view_name": "LayoutView",
            "align_content": null,
            "align_items": null,
            "align_self": null,
            "border": null,
            "bottom": null,
            "display": null,
            "flex": null,
            "flex_flow": null,
            "grid_area": null,
            "grid_auto_columns": null,
            "grid_auto_flow": null,
            "grid_auto_rows": null,
            "grid_column": null,
            "grid_gap": null,
            "grid_row": null,
            "grid_template_areas": null,
            "grid_template_columns": null,
            "grid_template_rows": null,
            "height": null,
            "justify_content": null,
            "justify_items": null,
            "left": null,
            "margin": null,
            "max_height": null,
            "max_width": null,
            "min_height": null,
            "min_width": null,
            "object_fit": null,
            "object_position": null,
            "order": null,
            "overflow": null,
            "overflow_x": null,
            "overflow_y": null,
            "padding": null,
            "right": null,
            "top": null,
            "visibility": null,
            "width": null
          }
        },
        "edd3e605807740d1b37ae9f18557e1b6": {
          "model_module": "@jupyter-widgets/controls",
          "model_name": "ProgressStyleModel",
          "model_module_version": "1.5.0",
          "state": {
            "_model_module": "@jupyter-widgets/controls",
            "_model_module_version": "1.5.0",
            "_model_name": "ProgressStyleModel",
            "_view_count": null,
            "_view_module": "@jupyter-widgets/base",
            "_view_module_version": "1.2.0",
            "_view_name": "StyleView",
            "bar_color": null,
            "description_width": ""
          }
        },
        "257b96c2c2c74079805e65cba1e5f7c4": {
          "model_module": "@jupyter-widgets/base",
          "model_name": "LayoutModel",
          "model_module_version": "1.2.0",
          "state": {
            "_model_module": "@jupyter-widgets/base",
            "_model_module_version": "1.2.0",
            "_model_name": "LayoutModel",
            "_view_count": null,
            "_view_module": "@jupyter-widgets/base",
            "_view_module_version": "1.2.0",
            "_view_name": "LayoutView",
            "align_content": null,
            "align_items": null,
            "align_self": null,
            "border": null,
            "bottom": null,
            "display": null,
            "flex": null,
            "flex_flow": null,
            "grid_area": null,
            "grid_auto_columns": null,
            "grid_auto_flow": null,
            "grid_auto_rows": null,
            "grid_column": null,
            "grid_gap": null,
            "grid_row": null,
            "grid_template_areas": null,
            "grid_template_columns": null,
            "grid_template_rows": null,
            "height": null,
            "justify_content": null,
            "justify_items": null,
            "left": null,
            "margin": null,
            "max_height": null,
            "max_width": null,
            "min_height": null,
            "min_width": null,
            "object_fit": null,
            "object_position": null,
            "order": null,
            "overflow": null,
            "overflow_x": null,
            "overflow_y": null,
            "padding": null,
            "right": null,
            "top": null,
            "visibility": null,
            "width": null
          }
        },
        "4300b08143094eb78282c4ebae4dc1b4": {
          "model_module": "@jupyter-widgets/controls",
          "model_name": "DescriptionStyleModel",
          "model_module_version": "1.5.0",
          "state": {
            "_model_module": "@jupyter-widgets/controls",
            "_model_module_version": "1.5.0",
            "_model_name": "DescriptionStyleModel",
            "_view_count": null,
            "_view_module": "@jupyter-widgets/base",
            "_view_module_version": "1.2.0",
            "_view_name": "StyleView",
            "description_width": ""
          }
        }
      }
    }
  },
  "nbformat": 4,
  "nbformat_minor": 5
}